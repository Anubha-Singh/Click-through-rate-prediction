{
 "cells": [
  {
   "cell_type": "markdown",
   "metadata": {
    "papermill": {
     "duration": 0.08949,
     "end_time": "2020-12-07T08:15:17.611644",
     "exception": false,
     "start_time": "2020-12-07T08:15:17.522154",
     "status": "completed"
    },
    "tags": []
   },
   "source": [
    "# Click-Through Rate Prediction"
   ]
  },
  {
   "cell_type": "code",
   "execution_count": 1,
   "metadata": {
    "execution": {
     "iopub.execute_input": "2020-12-07T08:15:20.074326Z",
     "iopub.status.busy": "2020-12-07T08:15:17.804860Z",
     "iopub.status.idle": "2020-12-07T08:17:11.263424Z",
     "shell.execute_reply": "2020-12-07T08:17:11.262650Z"
    },
    "papermill": {
     "duration": 113.565423,
     "end_time": "2020-12-07T08:17:11.263609",
     "exception": false,
     "start_time": "2020-12-07T08:15:17.698186",
     "status": "completed"
    },
    "tags": []
   },
   "outputs": [],
   "source": [
    "import numpy as np\n",
    "import random\n",
    "n = 40428967  #total number of records in the clickstream data \n",
    "sample_size = 1000000\n",
    "skip_values = sorted(random.sample(range(1,n), n-sample_size)) \n",
    "\n",
    "types_train = {\n",
    "    'id': np.dtype(int),\n",
    "    'click': np.dtype(int),\n",
    "    'hour': np.dtype(int),\n",
    "    'C1': np.dtype(int),\n",
    "    'banner_pos': np.dtype(int),\n",
    "    'site_id': np.dtype(str),\n",
    "    'site_domain': np.dtype(str), \n",
    "    'site_category': np.dtype(str),\n",
    "    'app_id': np.dtype(str),\n",
    "    'app_domain': np.dtype(str),\n",
    "    'app_category': np.dtype(str),\n",
    "    'device_id': np.dtype(str),\n",
    "    'device_ip': np.dtype(str),\n",
    "    'device_model': np.dtype(str),\n",
    "    'device_type': np.dtype(int),\n",
    "    'device_conn_type': np.dtype(int),\n",
    "    'C14': np.dtype(int),\n",
    "    'C15': np.dtype(int),\n",
    "    'C16': np.dtype(int),\n",
    "    'C17': np.dtype(int),\n",
    "    'C18': np.dtype(int),\n",
    "    'C19': np.dtype(int),\n",
    "    'C20': np.dtype(int),\n",
    "    'C21':np.dtype(int)\n",
    "}\n",
    "\n",
    "types_test = {\n",
    "    'id': np.dtype(int),\n",
    "    'hour': np.dtype(int),\n",
    "    'C1': np.dtype(int),\n",
    "    'banner_pos': np.dtype(int),\n",
    "    'site_id': np.dtype(str),\n",
    "    'site_domain': np.dtype(str), \n",
    "    'site_category': np.dtype(str),\n",
    "    'app_id': np.dtype(str),\n",
    "    'app_domain': np.dtype(str),\n",
    "    'app_category': np.dtype(str),\n",
    "    'device_id': np.dtype(str),\n",
    "    'device_ip': np.dtype(str),\n",
    "    'device_model': np.dtype(str),\n",
    "    'device_type': np.dtype(int),\n",
    "    'device_conn_type': np.dtype(int),\n",
    "    'C14': np.dtype(int),\n",
    "    'C15': np.dtype(int),\n",
    "    'C16': np.dtype(int),\n",
    "    'C17': np.dtype(int),\n",
    "    'C18': np.dtype(int),\n",
    "    'C19': np.dtype(int),\n",
    "    'C20': np.dtype(int),\n",
    "    'C21':np.dtype(int)\n",
    "}"
   ]
  },
  {
   "cell_type": "code",
   "execution_count": 2,
   "metadata": {
    "execution": {
     "iopub.execute_input": "2020-12-07T08:17:11.447575Z",
     "iopub.status.busy": "2020-12-07T08:17:11.446603Z",
     "iopub.status.idle": "2020-12-07T08:19:22.431394Z",
     "shell.execute_reply": "2020-12-07T08:19:22.432020Z"
    },
    "papermill": {
     "duration": 131.079919,
     "end_time": "2020-12-07T08:19:22.432203",
     "exception": false,
     "start_time": "2020-12-07T08:17:11.352284",
     "status": "completed"
    },
    "tags": []
   },
   "outputs": [
    {
     "name": "stderr",
     "output_type": "stream",
     "text": [
      "/opt/conda/lib/python3.7/site-packages/ipykernel_launcher.py:4: FutureWarning: The pandas.datetime class is deprecated and will be removed from pandas in a future version. Import from datetime module instead.\n",
      "  after removing the cwd from sys.path.\n"
     ]
    },
    {
     "data": {
      "text/html": [
       "<div>\n",
       "<style scoped>\n",
       "    .dataframe tbody tr th:only-of-type {\n",
       "        vertical-align: middle;\n",
       "    }\n",
       "\n",
       "    .dataframe tbody tr th {\n",
       "        vertical-align: top;\n",
       "    }\n",
       "\n",
       "    .dataframe thead th {\n",
       "        text-align: right;\n",
       "    }\n",
       "</style>\n",
       "<table border=\"1\" class=\"dataframe\">\n",
       "  <thead>\n",
       "    <tr style=\"text-align: right;\">\n",
       "      <th></th>\n",
       "      <th>id</th>\n",
       "      <th>click</th>\n",
       "      <th>hour</th>\n",
       "      <th>C1</th>\n",
       "      <th>banner_pos</th>\n",
       "      <th>site_id</th>\n",
       "      <th>site_domain</th>\n",
       "      <th>site_category</th>\n",
       "      <th>app_id</th>\n",
       "      <th>app_domain</th>\n",
       "      <th>...</th>\n",
       "      <th>device_type</th>\n",
       "      <th>device_conn_type</th>\n",
       "      <th>C14</th>\n",
       "      <th>C15</th>\n",
       "      <th>C16</th>\n",
       "      <th>C17</th>\n",
       "      <th>C18</th>\n",
       "      <th>C19</th>\n",
       "      <th>C20</th>\n",
       "      <th>C21</th>\n",
       "    </tr>\n",
       "  </thead>\n",
       "  <tbody>\n",
       "    <tr>\n",
       "      <th>0</th>\n",
       "      <td>10000371904215119486</td>\n",
       "      <td>0</td>\n",
       "      <td>2014-10-21</td>\n",
       "      <td>1005</td>\n",
       "      <td>0</td>\n",
       "      <td>1fbe01fe</td>\n",
       "      <td>f3845767</td>\n",
       "      <td>28905ebd</td>\n",
       "      <td>ecad2386</td>\n",
       "      <td>7801e8d9</td>\n",
       "      <td>...</td>\n",
       "      <td>1</td>\n",
       "      <td>0</td>\n",
       "      <td>15704</td>\n",
       "      <td>320</td>\n",
       "      <td>50</td>\n",
       "      <td>1722</td>\n",
       "      <td>0</td>\n",
       "      <td>35</td>\n",
       "      <td>100084</td>\n",
       "      <td>79</td>\n",
       "    </tr>\n",
       "    <tr>\n",
       "      <th>1</th>\n",
       "      <td>10005334911727438633</td>\n",
       "      <td>0</td>\n",
       "      <td>2014-10-21</td>\n",
       "      <td>1010</td>\n",
       "      <td>1</td>\n",
       "      <td>85f751fd</td>\n",
       "      <td>c4e18dd6</td>\n",
       "      <td>50e219e0</td>\n",
       "      <td>ffc6ffd0</td>\n",
       "      <td>7801e8d9</td>\n",
       "      <td>...</td>\n",
       "      <td>4</td>\n",
       "      <td>0</td>\n",
       "      <td>21665</td>\n",
       "      <td>320</td>\n",
       "      <td>50</td>\n",
       "      <td>2493</td>\n",
       "      <td>3</td>\n",
       "      <td>35</td>\n",
       "      <td>-1</td>\n",
       "      <td>117</td>\n",
       "    </tr>\n",
       "    <tr>\n",
       "      <th>2</th>\n",
       "      <td>10018283997673108970</td>\n",
       "      <td>0</td>\n",
       "      <td>2014-10-21</td>\n",
       "      <td>1002</td>\n",
       "      <td>0</td>\n",
       "      <td>75f43c5a</td>\n",
       "      <td>c4e18dd6</td>\n",
       "      <td>50e219e0</td>\n",
       "      <td>ecad2386</td>\n",
       "      <td>7801e8d9</td>\n",
       "      <td>...</td>\n",
       "      <td>0</td>\n",
       "      <td>0</td>\n",
       "      <td>21665</td>\n",
       "      <td>320</td>\n",
       "      <td>50</td>\n",
       "      <td>2493</td>\n",
       "      <td>3</td>\n",
       "      <td>35</td>\n",
       "      <td>-1</td>\n",
       "      <td>117</td>\n",
       "    </tr>\n",
       "    <tr>\n",
       "      <th>3</th>\n",
       "      <td>10033513319859181431</td>\n",
       "      <td>0</td>\n",
       "      <td>2014-10-21</td>\n",
       "      <td>1010</td>\n",
       "      <td>1</td>\n",
       "      <td>85f751fd</td>\n",
       "      <td>c4e18dd6</td>\n",
       "      <td>50e219e0</td>\n",
       "      <td>c7f29df3</td>\n",
       "      <td>7801e8d9</td>\n",
       "      <td>...</td>\n",
       "      <td>5</td>\n",
       "      <td>0</td>\n",
       "      <td>21665</td>\n",
       "      <td>320</td>\n",
       "      <td>50</td>\n",
       "      <td>2493</td>\n",
       "      <td>3</td>\n",
       "      <td>35</td>\n",
       "      <td>100233</td>\n",
       "      <td>117</td>\n",
       "    </tr>\n",
       "    <tr>\n",
       "      <th>4</th>\n",
       "      <td>10033757931529432991</td>\n",
       "      <td>1</td>\n",
       "      <td>2014-10-21</td>\n",
       "      <td>1005</td>\n",
       "      <td>0</td>\n",
       "      <td>85f751fd</td>\n",
       "      <td>c4e18dd6</td>\n",
       "      <td>50e219e0</td>\n",
       "      <td>54c5d545</td>\n",
       "      <td>2347f47a</td>\n",
       "      <td>...</td>\n",
       "      <td>1</td>\n",
       "      <td>0</td>\n",
       "      <td>6558</td>\n",
       "      <td>320</td>\n",
       "      <td>50</td>\n",
       "      <td>571</td>\n",
       "      <td>2</td>\n",
       "      <td>39</td>\n",
       "      <td>-1</td>\n",
       "      <td>32</td>\n",
       "    </tr>\n",
       "  </tbody>\n",
       "</table>\n",
       "<p>5 rows × 24 columns</p>\n",
       "</div>"
      ],
      "text/plain": [
       "                     id  click       hour    C1  banner_pos   site_id  \\\n",
       "0  10000371904215119486      0 2014-10-21  1005           0  1fbe01fe   \n",
       "1  10005334911727438633      0 2014-10-21  1010           1  85f751fd   \n",
       "2  10018283997673108970      0 2014-10-21  1002           0  75f43c5a   \n",
       "3  10033513319859181431      0 2014-10-21  1010           1  85f751fd   \n",
       "4  10033757931529432991      1 2014-10-21  1005           0  85f751fd   \n",
       "\n",
       "  site_domain site_category    app_id app_domain  ... device_type  \\\n",
       "0    f3845767      28905ebd  ecad2386   7801e8d9  ...           1   \n",
       "1    c4e18dd6      50e219e0  ffc6ffd0   7801e8d9  ...           4   \n",
       "2    c4e18dd6      50e219e0  ecad2386   7801e8d9  ...           0   \n",
       "3    c4e18dd6      50e219e0  c7f29df3   7801e8d9  ...           5   \n",
       "4    c4e18dd6      50e219e0  54c5d545   2347f47a  ...           1   \n",
       "\n",
       "  device_conn_type    C14  C15  C16   C17  C18  C19     C20  C21  \n",
       "0                0  15704  320   50  1722    0   35  100084   79  \n",
       "1                0  21665  320   50  2493    3   35      -1  117  \n",
       "2                0  21665  320   50  2493    3   35      -1  117  \n",
       "3                0  21665  320   50  2493    3   35  100233  117  \n",
       "4                0   6558  320   50   571    2   39      -1   32  \n",
       "\n",
       "[5 rows x 24 columns]"
      ]
     },
     "execution_count": 2,
     "metadata": {},
     "output_type": "execute_result"
    }
   ],
   "source": [
    "import pandas as pd\n",
    "import gzip\n",
    "\n",
    "parse_date = lambda val : pd.datetime.strptime(val, '%y%m%d%H')\n",
    "\n",
    "with gzip.open('../input/avazu-ctr-prediction/train.gz') as f:\n",
    "    train = pd.read_csv(f, parse_dates = ['hour'], date_parser = parse_date, dtype=types_train, skiprows = skip_values)\n",
    "\n",
    "train.head()"
   ]
  },
  {
   "cell_type": "code",
   "execution_count": 3,
   "metadata": {
    "execution": {
     "iopub.execute_input": "2020-12-07T08:19:22.622466Z",
     "iopub.status.busy": "2020-12-07T08:19:22.621234Z",
     "iopub.status.idle": "2020-12-07T08:19:40.260212Z",
     "shell.execute_reply": "2020-12-07T08:19:40.260790Z"
    },
    "papermill": {
     "duration": 17.735861,
     "end_time": "2020-12-07T08:19:40.260978",
     "exception": false,
     "start_time": "2020-12-07T08:19:22.525117",
     "status": "completed"
    },
    "tags": []
   },
   "outputs": [
    {
     "name": "stderr",
     "output_type": "stream",
     "text": [
      "/opt/conda/lib/python3.7/site-packages/ipykernel_launcher.py:1: FutureWarning: The pandas.datetime class is deprecated and will be removed from pandas in a future version. Import from datetime module instead.\n",
      "  \"\"\"Entry point for launching an IPython kernel.\n"
     ]
    },
    {
     "data": {
      "text/html": [
       "<div>\n",
       "<style scoped>\n",
       "    .dataframe tbody tr th:only-of-type {\n",
       "        vertical-align: middle;\n",
       "    }\n",
       "\n",
       "    .dataframe tbody tr th {\n",
       "        vertical-align: top;\n",
       "    }\n",
       "\n",
       "    .dataframe thead th {\n",
       "        text-align: right;\n",
       "    }\n",
       "</style>\n",
       "<table border=\"1\" class=\"dataframe\">\n",
       "  <thead>\n",
       "    <tr style=\"text-align: right;\">\n",
       "      <th></th>\n",
       "      <th>id</th>\n",
       "      <th>hour</th>\n",
       "      <th>C1</th>\n",
       "      <th>banner_pos</th>\n",
       "      <th>site_id</th>\n",
       "      <th>site_domain</th>\n",
       "      <th>site_category</th>\n",
       "      <th>app_id</th>\n",
       "      <th>app_domain</th>\n",
       "      <th>app_category</th>\n",
       "      <th>...</th>\n",
       "      <th>device_type</th>\n",
       "      <th>device_conn_type</th>\n",
       "      <th>C14</th>\n",
       "      <th>C15</th>\n",
       "      <th>C16</th>\n",
       "      <th>C17</th>\n",
       "      <th>C18</th>\n",
       "      <th>C19</th>\n",
       "      <th>C20</th>\n",
       "      <th>C21</th>\n",
       "    </tr>\n",
       "  </thead>\n",
       "  <tbody>\n",
       "    <tr>\n",
       "      <th>0</th>\n",
       "      <td>10000554139829213984</td>\n",
       "      <td>2014-10-31</td>\n",
       "      <td>1005</td>\n",
       "      <td>0</td>\n",
       "      <td>1fbe01fe</td>\n",
       "      <td>f3845767</td>\n",
       "      <td>28905ebd</td>\n",
       "      <td>ecad2386</td>\n",
       "      <td>7801e8d9</td>\n",
       "      <td>07d7df22</td>\n",
       "      <td>...</td>\n",
       "      <td>1</td>\n",
       "      <td>0</td>\n",
       "      <td>22676</td>\n",
       "      <td>320</td>\n",
       "      <td>50</td>\n",
       "      <td>2616</td>\n",
       "      <td>0</td>\n",
       "      <td>35</td>\n",
       "      <td>100083</td>\n",
       "      <td>51</td>\n",
       "    </tr>\n",
       "    <tr>\n",
       "      <th>1</th>\n",
       "      <td>10004882149038870218</td>\n",
       "      <td>2014-10-31</td>\n",
       "      <td>1005</td>\n",
       "      <td>0</td>\n",
       "      <td>85f751fd</td>\n",
       "      <td>c4e18dd6</td>\n",
       "      <td>50e219e0</td>\n",
       "      <td>66f5e02e</td>\n",
       "      <td>6f7ca2ba</td>\n",
       "      <td>0f2161f8</td>\n",
       "      <td>...</td>\n",
       "      <td>1</td>\n",
       "      <td>0</td>\n",
       "      <td>23684</td>\n",
       "      <td>300</td>\n",
       "      <td>50</td>\n",
       "      <td>2712</td>\n",
       "      <td>2</td>\n",
       "      <td>35</td>\n",
       "      <td>-1</td>\n",
       "      <td>23</td>\n",
       "    </tr>\n",
       "    <tr>\n",
       "      <th>2</th>\n",
       "      <td>10022367855008997866</td>\n",
       "      <td>2014-10-31</td>\n",
       "      <td>1012</td>\n",
       "      <td>0</td>\n",
       "      <td>7eb59634</td>\n",
       "      <td>c4e18dd6</td>\n",
       "      <td>f028772b</td>\n",
       "      <td>ecad2386</td>\n",
       "      <td>7801e8d9</td>\n",
       "      <td>07d7df22</td>\n",
       "      <td>...</td>\n",
       "      <td>1</td>\n",
       "      <td>2</td>\n",
       "      <td>20345</td>\n",
       "      <td>300</td>\n",
       "      <td>250</td>\n",
       "      <td>2331</td>\n",
       "      <td>2</td>\n",
       "      <td>39</td>\n",
       "      <td>100194</td>\n",
       "      <td>23</td>\n",
       "    </tr>\n",
       "    <tr>\n",
       "      <th>3</th>\n",
       "      <td>10039182264794418888</td>\n",
       "      <td>2014-10-31</td>\n",
       "      <td>1005</td>\n",
       "      <td>0</td>\n",
       "      <td>1fbe01fe</td>\n",
       "      <td>f3845767</td>\n",
       "      <td>28905ebd</td>\n",
       "      <td>ecad2386</td>\n",
       "      <td>7801e8d9</td>\n",
       "      <td>07d7df22</td>\n",
       "      <td>...</td>\n",
       "      <td>1</td>\n",
       "      <td>0</td>\n",
       "      <td>22676</td>\n",
       "      <td>320</td>\n",
       "      <td>50</td>\n",
       "      <td>2616</td>\n",
       "      <td>0</td>\n",
       "      <td>35</td>\n",
       "      <td>-1</td>\n",
       "      <td>51</td>\n",
       "    </tr>\n",
       "    <tr>\n",
       "      <th>4</th>\n",
       "      <td>1003960847285576794</td>\n",
       "      <td>2014-10-31</td>\n",
       "      <td>1005</td>\n",
       "      <td>1</td>\n",
       "      <td>e151e245</td>\n",
       "      <td>7e091613</td>\n",
       "      <td>f028772b</td>\n",
       "      <td>ecad2386</td>\n",
       "      <td>7801e8d9</td>\n",
       "      <td>07d7df22</td>\n",
       "      <td>...</td>\n",
       "      <td>1</td>\n",
       "      <td>0</td>\n",
       "      <td>22815</td>\n",
       "      <td>320</td>\n",
       "      <td>50</td>\n",
       "      <td>2647</td>\n",
       "      <td>2</td>\n",
       "      <td>39</td>\n",
       "      <td>100148</td>\n",
       "      <td>23</td>\n",
       "    </tr>\n",
       "  </tbody>\n",
       "</table>\n",
       "<p>5 rows × 23 columns</p>\n",
       "</div>"
      ],
      "text/plain": [
       "                     id       hour    C1  banner_pos   site_id site_domain  \\\n",
       "0  10000554139829213984 2014-10-31  1005           0  1fbe01fe    f3845767   \n",
       "1  10004882149038870218 2014-10-31  1005           0  85f751fd    c4e18dd6   \n",
       "2  10022367855008997866 2014-10-31  1012           0  7eb59634    c4e18dd6   \n",
       "3  10039182264794418888 2014-10-31  1005           0  1fbe01fe    f3845767   \n",
       "4   1003960847285576794 2014-10-31  1005           1  e151e245    7e091613   \n",
       "\n",
       "  site_category    app_id app_domain app_category  ... device_type  \\\n",
       "0      28905ebd  ecad2386   7801e8d9     07d7df22  ...           1   \n",
       "1      50e219e0  66f5e02e   6f7ca2ba     0f2161f8  ...           1   \n",
       "2      f028772b  ecad2386   7801e8d9     07d7df22  ...           1   \n",
       "3      28905ebd  ecad2386   7801e8d9     07d7df22  ...           1   \n",
       "4      f028772b  ecad2386   7801e8d9     07d7df22  ...           1   \n",
       "\n",
       "  device_conn_type    C14  C15  C16   C17  C18  C19     C20  C21  \n",
       "0                0  22676  320   50  2616    0   35  100083   51  \n",
       "1                0  23684  300   50  2712    2   35      -1   23  \n",
       "2                2  20345  300  250  2331    2   39  100194   23  \n",
       "3                0  22676  320   50  2616    0   35      -1   51  \n",
       "4                0  22815  320   50  2647    2   39  100148   23  \n",
       "\n",
       "[5 rows x 23 columns]"
      ]
     },
     "execution_count": 3,
     "metadata": {},
     "output_type": "execute_result"
    }
   ],
   "source": [
    "parse_date = lambda val : pd.datetime.strptime(val, '%y%m%d%H')\n",
    "\n",
    "with gzip.open('../input/avazu-ctr-prediction/test.gz') as f:\n",
    "    test = pd.read_csv(f, parse_dates = ['hour'], date_parser = parse_date, dtype=types_test, skiprows = skip_values)\n",
    "\n",
    "test.head()"
   ]
  },
  {
   "cell_type": "code",
   "execution_count": 4,
   "metadata": {
    "execution": {
     "iopub.execute_input": "2020-12-07T08:19:40.453980Z",
     "iopub.status.busy": "2020-12-07T08:19:40.452729Z",
     "iopub.status.idle": "2020-12-07T08:19:40.458589Z",
     "shell.execute_reply": "2020-12-07T08:19:40.457814Z"
    },
    "papermill": {
     "duration": 0.104549,
     "end_time": "2020-12-07T08:19:40.458737",
     "exception": false,
     "start_time": "2020-12-07T08:19:40.354188",
     "status": "completed"
    },
    "tags": []
   },
   "outputs": [
    {
     "data": {
      "text/plain": [
       "(113110, 23)"
      ]
     },
     "execution_count": 4,
     "metadata": {},
     "output_type": "execute_result"
    }
   ],
   "source": [
    "test.shape"
   ]
  },
  {
   "cell_type": "code",
   "execution_count": 5,
   "metadata": {
    "execution": {
     "iopub.execute_input": "2020-12-07T08:19:40.660355Z",
     "iopub.status.busy": "2020-12-07T08:19:40.659545Z",
     "iopub.status.idle": "2020-12-07T08:19:40.671444Z",
     "shell.execute_reply": "2020-12-07T08:19:40.670817Z"
    },
    "papermill": {
     "duration": 0.108409,
     "end_time": "2020-12-07T08:19:40.671615",
     "exception": false,
     "start_time": "2020-12-07T08:19:40.563206",
     "status": "completed"
    },
    "tags": []
   },
   "outputs": [],
   "source": [
    "test_copy=test.copy()"
   ]
  },
  {
   "cell_type": "code",
   "execution_count": 6,
   "metadata": {
    "execution": {
     "iopub.execute_input": "2020-12-07T08:19:40.861414Z",
     "iopub.status.busy": "2020-12-07T08:19:40.860592Z",
     "iopub.status.idle": "2020-12-07T08:19:47.674855Z",
     "shell.execute_reply": "2020-12-07T08:19:47.674026Z"
    },
    "papermill": {
     "duration": 6.911714,
     "end_time": "2020-12-07T08:19:47.674990",
     "exception": false,
     "start_time": "2020-12-07T08:19:40.763276",
     "status": "completed"
    },
    "tags": []
   },
   "outputs": [
    {
     "data": {
      "text/html": [
       "<div>\n",
       "<style scoped>\n",
       "    .dataframe tbody tr th:only-of-type {\n",
       "        vertical-align: middle;\n",
       "    }\n",
       "\n",
       "    .dataframe tbody tr th {\n",
       "        vertical-align: top;\n",
       "    }\n",
       "\n",
       "    .dataframe thead th {\n",
       "        text-align: right;\n",
       "    }\n",
       "</style>\n",
       "<table border=\"1\" class=\"dataframe\">\n",
       "  <thead>\n",
       "    <tr style=\"text-align: right;\">\n",
       "      <th></th>\n",
       "      <th>id</th>\n",
       "      <th>click</th>\n",
       "    </tr>\n",
       "  </thead>\n",
       "  <tbody>\n",
       "    <tr>\n",
       "      <th>0</th>\n",
       "      <td>10000554139829213984</td>\n",
       "      <td>0.5</td>\n",
       "    </tr>\n",
       "    <tr>\n",
       "      <th>1</th>\n",
       "      <td>10004882149038870218</td>\n",
       "      <td>0.5</td>\n",
       "    </tr>\n",
       "    <tr>\n",
       "      <th>2</th>\n",
       "      <td>10022367855008997866</td>\n",
       "      <td>0.5</td>\n",
       "    </tr>\n",
       "    <tr>\n",
       "      <th>3</th>\n",
       "      <td>10039182264794418888</td>\n",
       "      <td>0.5</td>\n",
       "    </tr>\n",
       "    <tr>\n",
       "      <th>4</th>\n",
       "      <td>1003960847285576794</td>\n",
       "      <td>0.5</td>\n",
       "    </tr>\n",
       "  </tbody>\n",
       "</table>\n",
       "</div>"
      ],
      "text/plain": [
       "                     id  click\n",
       "0  10000554139829213984    0.5\n",
       "1  10004882149038870218    0.5\n",
       "2  10022367855008997866    0.5\n",
       "3  10039182264794418888    0.5\n",
       "4   1003960847285576794    0.5"
      ]
     },
     "execution_count": 6,
     "metadata": {},
     "output_type": "execute_result"
    }
   ],
   "source": [
    "with gzip.open('../input/avazu-ctr-prediction/sampleSubmission.gz') as f:\n",
    "    sub = pd.read_csv(f, skiprows = skip_values)\n",
    "\n",
    "sub.head()"
   ]
  },
  {
   "cell_type": "code",
   "execution_count": 7,
   "metadata": {
    "execution": {
     "iopub.execute_input": "2020-12-07T08:19:47.873389Z",
     "iopub.status.busy": "2020-12-07T08:19:47.872255Z",
     "iopub.status.idle": "2020-12-07T08:19:47.877224Z",
     "shell.execute_reply": "2020-12-07T08:19:47.876376Z"
    },
    "papermill": {
     "duration": 0.106185,
     "end_time": "2020-12-07T08:19:47.877354",
     "exception": false,
     "start_time": "2020-12-07T08:19:47.771169",
     "status": "completed"
    },
    "tags": []
   },
   "outputs": [
    {
     "data": {
      "text/plain": [
       "(113110, 2)"
      ]
     },
     "execution_count": 7,
     "metadata": {},
     "output_type": "execute_result"
    }
   ],
   "source": [
    "sub.shape"
   ]
  },
  {
   "cell_type": "code",
   "execution_count": 8,
   "metadata": {
    "execution": {
     "iopub.execute_input": "2020-12-07T08:19:48.072855Z",
     "iopub.status.busy": "2020-12-07T08:19:48.071726Z",
     "iopub.status.idle": "2020-12-07T08:19:48.076198Z",
     "shell.execute_reply": "2020-12-07T08:19:48.075445Z"
    },
    "papermill": {
     "duration": 0.104482,
     "end_time": "2020-12-07T08:19:48.076341",
     "exception": false,
     "start_time": "2020-12-07T08:19:47.971859",
     "status": "completed"
    },
    "tags": []
   },
   "outputs": [
    {
     "data": {
      "text/plain": [
       "(1000000, 24)"
      ]
     },
     "execution_count": 8,
     "metadata": {},
     "output_type": "execute_result"
    }
   ],
   "source": [
    "train.shape"
   ]
  },
  {
   "cell_type": "code",
   "execution_count": 9,
   "metadata": {
    "execution": {
     "iopub.execute_input": "2020-12-07T08:19:48.277870Z",
     "iopub.status.busy": "2020-12-07T08:19:48.276958Z",
     "iopub.status.idle": "2020-12-07T08:19:48.282432Z",
     "shell.execute_reply": "2020-12-07T08:19:48.281429Z"
    },
    "papermill": {
     "duration": 0.108947,
     "end_time": "2020-12-07T08:19:48.282628",
     "exception": false,
     "start_time": "2020-12-07T08:19:48.173681",
     "status": "completed"
    },
    "tags": []
   },
   "outputs": [
    {
     "data": {
      "text/plain": [
       "id                          uint64\n",
       "click                        int64\n",
       "hour                datetime64[ns]\n",
       "C1                           int64\n",
       "banner_pos                   int64\n",
       "site_id                     object\n",
       "site_domain                 object\n",
       "site_category               object\n",
       "app_id                      object\n",
       "app_domain                  object\n",
       "app_category                object\n",
       "device_id                   object\n",
       "device_ip                   object\n",
       "device_model                object\n",
       "device_type                  int64\n",
       "device_conn_type             int64\n",
       "C14                          int64\n",
       "C15                          int64\n",
       "C16                          int64\n",
       "C17                          int64\n",
       "C18                          int64\n",
       "C19                          int64\n",
       "C20                          int64\n",
       "C21                          int64\n",
       "dtype: object"
      ]
     },
     "execution_count": 9,
     "metadata": {},
     "output_type": "execute_result"
    }
   ],
   "source": [
    "train.dtypes"
   ]
  },
  {
   "cell_type": "markdown",
   "metadata": {
    "papermill": {
     "duration": 0.09653,
     "end_time": "2020-12-07T08:19:48.475943",
     "exception": false,
     "start_time": "2020-12-07T08:19:48.379413",
     "status": "completed"
    },
    "tags": []
   },
   "source": [
    "Target feature -> click\n",
    "\n",
    "site features -> site_id, site_domain, site_category\n",
    "\n",
    "app feature -> app_id, app_domain, app_category\n",
    "\n",
    "device feature -> device_id, device_ip, device_model, device_type, device_conn_type\n",
    "\n",
    "anonymized categorical features -> C14-C21"
   ]
  },
  {
   "cell_type": "code",
   "execution_count": 10,
   "metadata": {
    "execution": {
     "iopub.execute_input": "2020-12-07T08:19:48.679954Z",
     "iopub.status.busy": "2020-12-07T08:19:48.678878Z",
     "iopub.status.idle": "2020-12-07T08:19:48.696679Z",
     "shell.execute_reply": "2020-12-07T08:19:48.697286Z"
    },
    "papermill": {
     "duration": 0.120118,
     "end_time": "2020-12-07T08:19:48.697441",
     "exception": false,
     "start_time": "2020-12-07T08:19:48.577323",
     "status": "completed"
    },
    "tags": []
   },
   "outputs": [
    {
     "data": {
      "text/plain": [
       "0    830705\n",
       "1    169295\n",
       "Name: click, dtype: int64"
      ]
     },
     "execution_count": 10,
     "metadata": {},
     "output_type": "execute_result"
    }
   ],
   "source": [
    "train['click'].value_counts()"
   ]
  },
  {
   "cell_type": "code",
   "execution_count": 11,
   "metadata": {
    "execution": {
     "iopub.execute_input": "2020-12-07T08:19:48.897433Z",
     "iopub.status.busy": "2020-12-07T08:19:48.896645Z",
     "iopub.status.idle": "2020-12-07T08:19:50.394473Z",
     "shell.execute_reply": "2020-12-07T08:19:50.393700Z"
    },
    "papermill": {
     "duration": 1.602793,
     "end_time": "2020-12-07T08:19:50.394657",
     "exception": false,
     "start_time": "2020-12-07T08:19:48.791864",
     "status": "completed"
    },
    "tags": []
   },
   "outputs": [
    {
     "data": {
      "image/png": "[encoded data removed]",
      "text/plain": [
       "<Figure size 432x288 with 1 Axes>"
      ]
     },
     "metadata": {
      "needs_background": "light"
     },
     "output_type": "display_data"
    }
   ],
   "source": [
    "import seaborn as sns\n",
    "import matplotlib.pyplot as plt\n",
    "\n",
    "sns.countplot(x='click',data=train, palette='hls')\n",
    "plt.show();"
   ]
  },
  {
   "cell_type": "code",
   "execution_count": 12,
   "metadata": {
    "execution": {
     "iopub.execute_input": "2020-12-07T08:19:50.589909Z",
     "iopub.status.busy": "2020-12-07T08:19:50.589088Z",
     "iopub.status.idle": "2020-12-07T08:19:50.631063Z",
     "shell.execute_reply": "2020-12-07T08:19:50.630144Z"
    },
    "papermill": {
     "duration": 0.141866,
     "end_time": "2020-12-07T08:19:50.631215",
     "exception": false,
     "start_time": "2020-12-07T08:19:50.489349",
     "status": "completed"
    },
    "tags": []
   },
   "outputs": [
    {
     "data": {
      "text/plain": [
       "0    0.830705\n",
       "1    0.169295\n",
       "Name: click, dtype: float64"
      ]
     },
     "execution_count": 12,
     "metadata": {},
     "output_type": "execute_result"
    }
   ],
   "source": [
    "train['click'].value_counts()/len(train)"
   ]
  },
  {
   "cell_type": "markdown",
   "metadata": {
    "papermill": {
     "duration": 0.096075,
     "end_time": "2020-12-07T08:19:50.824919",
     "exception": false,
     "start_time": "2020-12-07T08:19:50.728844",
     "status": "completed"
    },
    "tags": []
   },
   "source": [
    "Click through rate is approx. 17%, and approx. 83% is not clicked. "
   ]
  },
  {
   "cell_type": "code",
   "execution_count": 13,
   "metadata": {
    "execution": {
     "iopub.execute_input": "2020-12-07T08:19:51.022404Z",
     "iopub.status.busy": "2020-12-07T08:19:51.021664Z",
     "iopub.status.idle": "2020-12-07T08:19:51.053047Z",
     "shell.execute_reply": "2020-12-07T08:19:51.053703Z"
    },
    "papermill": {
     "duration": 0.132965,
     "end_time": "2020-12-07T08:19:51.053865",
     "exception": false,
     "start_time": "2020-12-07T08:19:50.920900",
     "status": "completed"
    },
    "tags": []
   },
   "outputs": [
    {
     "name": "stderr",
     "output_type": "stream",
     "text": [
      "/opt/conda/lib/python3.7/site-packages/ipykernel_launcher.py:1: FutureWarning: Treating datetime data as categorical rather than numeric in `.describe` is deprecated and will be removed in a future version of pandas. Specify `datetime_is_numeric=True` to silence this warning and adopt the future behavior now.\n",
      "  \"\"\"Entry point for launching an IPython kernel.\n"
     ]
    },
    {
     "data": {
      "text/plain": [
       "count                 1000000\n",
       "unique                    240\n",
       "top       2014-10-22 09:00:00\n",
       "freq                    11135\n",
       "first     2014-10-21 00:00:00\n",
       "last      2014-10-30 23:00:00\n",
       "Name: hour, dtype: object"
      ]
     },
     "execution_count": 13,
     "metadata": {},
     "output_type": "execute_result"
    }
   ],
   "source": [
    "train.hour.describe()"
   ]
  },
  {
   "cell_type": "markdown",
   "metadata": {
    "papermill": {
     "duration": 0.115126,
     "end_time": "2020-12-07T08:19:51.277952",
     "exception": false,
     "start_time": "2020-12-07T08:19:51.162826",
     "status": "completed"
    },
    "tags": []
   },
   "source": [
    "The data covers 10 days of click streams data from 2014-10-21 to 2014-10-30, that is 240 hours."
   ]
  },
  {
   "cell_type": "code",
   "execution_count": 14,
   "metadata": {
    "execution": {
     "iopub.execute_input": "2020-12-07T08:19:51.494819Z",
     "iopub.status.busy": "2020-12-07T08:19:51.493703Z",
     "iopub.status.idle": "2020-12-07T08:19:51.808853Z",
     "shell.execute_reply": "2020-12-07T08:19:51.809443Z"
    },
    "papermill": {
     "duration": 0.430309,
     "end_time": "2020-12-07T08:19:51.809617",
     "exception": false,
     "start_time": "2020-12-07T08:19:51.379308",
     "status": "completed"
    },
    "tags": []
   },
   "outputs": [
    {
     "data": {
      "image/png": "[encoded data removed]",
      "text/plain": [
       "<Figure size 864x432 with 1 Axes>"
      ]
     },
     "metadata": {
      "needs_background": "light"
     },
     "output_type": "display_data"
    }
   ],
   "source": [
    "train.groupby('hour').agg({'click':'sum'}).plot(figsize=(12,6))\n",
    "plt.ylabel('Number of clicks')\n",
    "plt.title('Number of clicks by hour');"
   ]
  },
  {
   "cell_type": "markdown",
   "metadata": {
    "papermill": {
     "duration": 0.099072,
     "end_time": "2020-12-07T08:19:52.007990",
     "exception": false,
     "start_time": "2020-12-07T08:19:51.908918",
     "status": "completed"
    },
    "tags": []
   },
   "source": [
    "The hourly clicks pattern looks pretty similar every day. However, there were a couple of peak hours, one is sometime in the mid of the day on Oct 22, and another is sometime in the mid of the day on Oct 28. And one off-peak hour is close to mid-night on Oct 24."
   ]
  },
  {
   "cell_type": "markdown",
   "metadata": {
    "papermill": {
     "duration": 0.111317,
     "end_time": "2020-12-07T08:19:52.222269",
     "exception": false,
     "start_time": "2020-12-07T08:19:52.110952",
     "status": "completed"
    },
    "tags": []
   },
   "source": [
    "###  Feature engineering for date time features\n",
    "\n",
    "#### Hour\n",
    "\n",
    "Extract hour from date time feature."
   ]
  },
  {
   "cell_type": "code",
   "execution_count": 15,
   "metadata": {
    "execution": {
     "iopub.execute_input": "2020-12-07T08:19:52.441457Z",
     "iopub.status.busy": "2020-12-07T08:19:52.440202Z",
     "iopub.status.idle": "2020-12-07T08:20:03.098663Z",
     "shell.execute_reply": "2020-12-07T08:20:03.099268Z"
    },
    "papermill": {
     "duration": 10.770573,
     "end_time": "2020-12-07T08:20:03.099420",
     "exception": false,
     "start_time": "2020-12-07T08:19:52.328847",
     "status": "completed"
    },
    "tags": []
   },
   "outputs": [
    {
     "data": {
      "image/png": "[encoded data removed]",
      "text/plain": [
       "<Figure size 864x432 with 1 Axes>"
      ]
     },
     "metadata": {
      "needs_background": "light"
     },
     "output_type": "display_data"
    }
   ],
   "source": [
    "train['hour_of_day'] = train.hour.apply(lambda x: x.hour)\n",
    "train.groupby('hour_of_day').agg({'click':'sum'}).plot(figsize=(12,6))\n",
    "plt.ylabel('Number of clicks')\n",
    "plt.title('click trends by hour of day');"
   ]
  },
  {
   "cell_type": "markdown",
   "metadata": {
    "papermill": {
     "duration": 0.104063,
     "end_time": "2020-12-07T08:20:03.307289",
     "exception": false,
     "start_time": "2020-12-07T08:20:03.203226",
     "status": "completed"
    },
    "tags": []
   },
   "source": [
    "In general, the highest number of clicks is at hour 13 and 14 (1pm and 2pm), and the least number of clicks is at hour 0 (mid-night). It seems a useful feature for roughly estimation."
   ]
  },
  {
   "cell_type": "code",
   "execution_count": 16,
   "metadata": {
    "execution": {
     "iopub.execute_input": "2020-12-07T08:20:03.538452Z",
     "iopub.status.busy": "2020-12-07T08:20:03.522762Z",
     "iopub.status.idle": "2020-12-07T08:20:04.279455Z",
     "shell.execute_reply": "2020-12-07T08:20:04.280095Z"
    },
    "papermill": {
     "duration": 0.873175,
     "end_time": "2020-12-07T08:20:04.280302",
     "exception": false,
     "start_time": "2020-12-07T08:20:03.407127",
     "status": "completed"
    },
    "tags": []
   },
   "outputs": [],
   "source": [
    "test['hour_of_day'] = test.hour.apply(lambda x: x.hour)"
   ]
  },
  {
   "cell_type": "code",
   "execution_count": 17,
   "metadata": {
    "execution": {
     "iopub.execute_input": "2020-12-07T08:20:04.505434Z",
     "iopub.status.busy": "2020-12-07T08:20:04.495680Z",
     "iopub.status.idle": "2020-12-07T08:20:04.520246Z",
     "shell.execute_reply": "2020-12-07T08:20:04.519570Z"
    },
    "papermill": {
     "duration": 0.131937,
     "end_time": "2020-12-07T08:20:04.520373",
     "exception": false,
     "start_time": "2020-12-07T08:20:04.388436",
     "status": "completed"
    },
    "tags": []
   },
   "outputs": [
    {
     "data": {
      "text/html": [
       "<div>\n",
       "<style scoped>\n",
       "    .dataframe tbody tr th:only-of-type {\n",
       "        vertical-align: middle;\n",
       "    }\n",
       "\n",
       "    .dataframe tbody tr th {\n",
       "        vertical-align: top;\n",
       "    }\n",
       "\n",
       "    .dataframe thead th {\n",
       "        text-align: right;\n",
       "    }\n",
       "</style>\n",
       "<table border=\"1\" class=\"dataframe\">\n",
       "  <thead>\n",
       "    <tr style=\"text-align: right;\">\n",
       "      <th></th>\n",
       "      <th>id</th>\n",
       "      <th>click</th>\n",
       "      <th>hour</th>\n",
       "      <th>C1</th>\n",
       "      <th>banner_pos</th>\n",
       "      <th>site_id</th>\n",
       "      <th>site_domain</th>\n",
       "      <th>site_category</th>\n",
       "      <th>app_id</th>\n",
       "      <th>app_domain</th>\n",
       "      <th>...</th>\n",
       "      <th>device_conn_type</th>\n",
       "      <th>C14</th>\n",
       "      <th>C15</th>\n",
       "      <th>C16</th>\n",
       "      <th>C17</th>\n",
       "      <th>C18</th>\n",
       "      <th>C19</th>\n",
       "      <th>C20</th>\n",
       "      <th>C21</th>\n",
       "      <th>hour_of_day</th>\n",
       "    </tr>\n",
       "  </thead>\n",
       "  <tbody>\n",
       "    <tr>\n",
       "      <th>0</th>\n",
       "      <td>10000371904215119486</td>\n",
       "      <td>0</td>\n",
       "      <td>2014-10-21</td>\n",
       "      <td>1005</td>\n",
       "      <td>0</td>\n",
       "      <td>1fbe01fe</td>\n",
       "      <td>f3845767</td>\n",
       "      <td>28905ebd</td>\n",
       "      <td>ecad2386</td>\n",
       "      <td>7801e8d9</td>\n",
       "      <td>...</td>\n",
       "      <td>0</td>\n",
       "      <td>15704</td>\n",
       "      <td>320</td>\n",
       "      <td>50</td>\n",
       "      <td>1722</td>\n",
       "      <td>0</td>\n",
       "      <td>35</td>\n",
       "      <td>100084</td>\n",
       "      <td>79</td>\n",
       "      <td>0</td>\n",
       "    </tr>\n",
       "    <tr>\n",
       "      <th>1</th>\n",
       "      <td>10005334911727438633</td>\n",
       "      <td>0</td>\n",
       "      <td>2014-10-21</td>\n",
       "      <td>1010</td>\n",
       "      <td>1</td>\n",
       "      <td>85f751fd</td>\n",
       "      <td>c4e18dd6</td>\n",
       "      <td>50e219e0</td>\n",
       "      <td>ffc6ffd0</td>\n",
       "      <td>7801e8d9</td>\n",
       "      <td>...</td>\n",
       "      <td>0</td>\n",
       "      <td>21665</td>\n",
       "      <td>320</td>\n",
       "      <td>50</td>\n",
       "      <td>2493</td>\n",
       "      <td>3</td>\n",
       "      <td>35</td>\n",
       "      <td>-1</td>\n",
       "      <td>117</td>\n",
       "      <td>0</td>\n",
       "    </tr>\n",
       "    <tr>\n",
       "      <th>2</th>\n",
       "      <td>10018283997673108970</td>\n",
       "      <td>0</td>\n",
       "      <td>2014-10-21</td>\n",
       "      <td>1002</td>\n",
       "      <td>0</td>\n",
       "      <td>75f43c5a</td>\n",
       "      <td>c4e18dd6</td>\n",
       "      <td>50e219e0</td>\n",
       "      <td>ecad2386</td>\n",
       "      <td>7801e8d9</td>\n",
       "      <td>...</td>\n",
       "      <td>0</td>\n",
       "      <td>21665</td>\n",
       "      <td>320</td>\n",
       "      <td>50</td>\n",
       "      <td>2493</td>\n",
       "      <td>3</td>\n",
       "      <td>35</td>\n",
       "      <td>-1</td>\n",
       "      <td>117</td>\n",
       "      <td>0</td>\n",
       "    </tr>\n",
       "  </tbody>\n",
       "</table>\n",
       "<p>3 rows × 25 columns</p>\n",
       "</div>"
      ],
      "text/plain": [
       "                     id  click       hour    C1  banner_pos   site_id  \\\n",
       "0  10000371904215119486      0 2014-10-21  1005           0  1fbe01fe   \n",
       "1  10005334911727438633      0 2014-10-21  1010           1  85f751fd   \n",
       "2  10018283997673108970      0 2014-10-21  1002           0  75f43c5a   \n",
       "\n",
       "  site_domain site_category    app_id app_domain  ... device_conn_type    C14  \\\n",
       "0    f3845767      28905ebd  ecad2386   7801e8d9  ...                0  15704   \n",
       "1    c4e18dd6      50e219e0  ffc6ffd0   7801e8d9  ...                0  21665   \n",
       "2    c4e18dd6      50e219e0  ecad2386   7801e8d9  ...                0  21665   \n",
       "\n",
       "   C15 C16   C17  C18  C19     C20  C21  hour_of_day  \n",
       "0  320  50  1722    0   35  100084   79            0  \n",
       "1  320  50  2493    3   35      -1  117            0  \n",
       "2  320  50  2493    3   35      -1  117            0  \n",
       "\n",
       "[3 rows x 25 columns]"
      ]
     },
     "execution_count": 17,
     "metadata": {},
     "output_type": "execute_result"
    }
   ],
   "source": [
    "train.head(3)"
   ]
  },
  {
   "cell_type": "markdown",
   "metadata": {
    "papermill": {
     "duration": 0.101068,
     "end_time": "2020-12-07T08:20:04.724327",
     "exception": false,
     "start_time": "2020-12-07T08:20:04.623259",
     "status": "completed"
    },
    "tags": []
   },
   "source": [
    "Let's take impressions into consideration."
   ]
  },
  {
   "cell_type": "code",
   "execution_count": 18,
   "metadata": {
    "execution": {
     "iopub.execute_input": "2020-12-07T08:20:04.933082Z",
     "iopub.status.busy": "2020-12-07T08:20:04.932294Z",
     "iopub.status.idle": "2020-12-07T08:20:05.395925Z",
     "shell.execute_reply": "2020-12-07T08:20:05.395216Z"
    },
    "papermill": {
     "duration": 0.571368,
     "end_time": "2020-12-07T08:20:05.396062",
     "exception": false,
     "start_time": "2020-12-07T08:20:04.824694",
     "status": "completed"
    },
    "tags": []
   },
   "outputs": [
    {
     "data": {
      "image/png": "[encoded data removed]",
      "text/plain": [
       "<Figure size 864x432 with 1 Axes>"
      ]
     },
     "metadata": {
      "needs_background": "light"
     },
     "output_type": "display_data"
    }
   ],
   "source": [
    "train.groupby(['hour_of_day', 'click']).size().unstack().plot(kind='bar', title=\"Hour of Day\", figsize=(12,6))\n",
    "plt.ylabel('count')\n",
    "plt.title('Hourly impressions vs. clicks');"
   ]
  },
  {
   "cell_type": "markdown",
   "metadata": {
    "papermill": {
     "duration": 0.104023,
     "end_time": "2020-12-07T08:20:05.602275",
     "exception": false,
     "start_time": "2020-12-07T08:20:05.498252",
     "status": "completed"
    },
    "tags": []
   },
   "source": [
    "There is nothing shocking here."
   ]
  },
  {
   "cell_type": "code",
   "execution_count": 19,
   "metadata": {
    "execution": {
     "iopub.execute_input": "2020-12-07T08:20:05.826449Z",
     "iopub.status.busy": "2020-12-07T08:20:05.824076Z",
     "iopub.status.idle": "2020-12-07T08:20:05.841252Z",
     "shell.execute_reply": "2020-12-07T08:20:05.840359Z"
    },
    "papermill": {
     "duration": 0.136618,
     "end_time": "2020-12-07T08:20:05.841400",
     "exception": false,
     "start_time": "2020-12-07T08:20:05.704782",
     "status": "completed"
    },
    "tags": []
   },
   "outputs": [
    {
     "data": {
      "text/html": [
       "<div>\n",
       "<style scoped>\n",
       "    .dataframe tbody tr th:only-of-type {\n",
       "        vertical-align: middle;\n",
       "    }\n",
       "\n",
       "    .dataframe tbody tr th {\n",
       "        vertical-align: top;\n",
       "    }\n",
       "\n",
       "    .dataframe thead th {\n",
       "        text-align: right;\n",
       "    }\n",
       "</style>\n",
       "<table border=\"1\" class=\"dataframe\">\n",
       "  <thead>\n",
       "    <tr style=\"text-align: right;\">\n",
       "      <th></th>\n",
       "      <th>id</th>\n",
       "      <th>click</th>\n",
       "      <th>hour</th>\n",
       "      <th>C1</th>\n",
       "      <th>banner_pos</th>\n",
       "      <th>site_id</th>\n",
       "      <th>site_domain</th>\n",
       "      <th>site_category</th>\n",
       "      <th>app_id</th>\n",
       "      <th>app_domain</th>\n",
       "      <th>...</th>\n",
       "      <th>device_conn_type</th>\n",
       "      <th>C14</th>\n",
       "      <th>C15</th>\n",
       "      <th>C16</th>\n",
       "      <th>C17</th>\n",
       "      <th>C18</th>\n",
       "      <th>C19</th>\n",
       "      <th>C20</th>\n",
       "      <th>C21</th>\n",
       "      <th>hour_of_day</th>\n",
       "    </tr>\n",
       "  </thead>\n",
       "  <tbody>\n",
       "    <tr>\n",
       "      <th>0</th>\n",
       "      <td>10000371904215119486</td>\n",
       "      <td>0</td>\n",
       "      <td>2014-10-21</td>\n",
       "      <td>1005</td>\n",
       "      <td>0</td>\n",
       "      <td>1fbe01fe</td>\n",
       "      <td>f3845767</td>\n",
       "      <td>28905ebd</td>\n",
       "      <td>ecad2386</td>\n",
       "      <td>7801e8d9</td>\n",
       "      <td>...</td>\n",
       "      <td>0</td>\n",
       "      <td>15704</td>\n",
       "      <td>320</td>\n",
       "      <td>50</td>\n",
       "      <td>1722</td>\n",
       "      <td>0</td>\n",
       "      <td>35</td>\n",
       "      <td>100084</td>\n",
       "      <td>79</td>\n",
       "      <td>0</td>\n",
       "    </tr>\n",
       "    <tr>\n",
       "      <th>1</th>\n",
       "      <td>10005334911727438633</td>\n",
       "      <td>0</td>\n",
       "      <td>2014-10-21</td>\n",
       "      <td>1010</td>\n",
       "      <td>1</td>\n",
       "      <td>85f751fd</td>\n",
       "      <td>c4e18dd6</td>\n",
       "      <td>50e219e0</td>\n",
       "      <td>ffc6ffd0</td>\n",
       "      <td>7801e8d9</td>\n",
       "      <td>...</td>\n",
       "      <td>0</td>\n",
       "      <td>21665</td>\n",
       "      <td>320</td>\n",
       "      <td>50</td>\n",
       "      <td>2493</td>\n",
       "      <td>3</td>\n",
       "      <td>35</td>\n",
       "      <td>-1</td>\n",
       "      <td>117</td>\n",
       "      <td>0</td>\n",
       "    </tr>\n",
       "    <tr>\n",
       "      <th>2</th>\n",
       "      <td>10018283997673108970</td>\n",
       "      <td>0</td>\n",
       "      <td>2014-10-21</td>\n",
       "      <td>1002</td>\n",
       "      <td>0</td>\n",
       "      <td>75f43c5a</td>\n",
       "      <td>c4e18dd6</td>\n",
       "      <td>50e219e0</td>\n",
       "      <td>ecad2386</td>\n",
       "      <td>7801e8d9</td>\n",
       "      <td>...</td>\n",
       "      <td>0</td>\n",
       "      <td>21665</td>\n",
       "      <td>320</td>\n",
       "      <td>50</td>\n",
       "      <td>2493</td>\n",
       "      <td>3</td>\n",
       "      <td>35</td>\n",
       "      <td>-1</td>\n",
       "      <td>117</td>\n",
       "      <td>0</td>\n",
       "    </tr>\n",
       "  </tbody>\n",
       "</table>\n",
       "<p>3 rows × 25 columns</p>\n",
       "</div>"
      ],
      "text/plain": [
       "                     id  click       hour    C1  banner_pos   site_id  \\\n",
       "0  10000371904215119486      0 2014-10-21  1005           0  1fbe01fe   \n",
       "1  10005334911727438633      0 2014-10-21  1010           1  85f751fd   \n",
       "2  10018283997673108970      0 2014-10-21  1002           0  75f43c5a   \n",
       "\n",
       "  site_domain site_category    app_id app_domain  ... device_conn_type    C14  \\\n",
       "0    f3845767      28905ebd  ecad2386   7801e8d9  ...                0  15704   \n",
       "1    c4e18dd6      50e219e0  ffc6ffd0   7801e8d9  ...                0  21665   \n",
       "2    c4e18dd6      50e219e0  ecad2386   7801e8d9  ...                0  21665   \n",
       "\n",
       "   C15 C16   C17  C18  C19     C20  C21  hour_of_day  \n",
       "0  320  50  1722    0   35  100084   79            0  \n",
       "1  320  50  2493    3   35      -1  117            0  \n",
       "2  320  50  2493    3   35      -1  117            0  \n",
       "\n",
       "[3 rows x 25 columns]"
      ]
     },
     "execution_count": 19,
     "metadata": {},
     "output_type": "execute_result"
    }
   ],
   "source": [
    "train.head(3)"
   ]
  },
  {
   "cell_type": "markdown",
   "metadata": {
    "papermill": {
     "duration": 0.104474,
     "end_time": "2020-12-07T08:20:06.051108",
     "exception": false,
     "start_time": "2020-12-07T08:20:05.946634",
     "status": "completed"
    },
    "tags": []
   },
   "source": [
    "Now that we have click and impression. We can calculate Click-through rate (CTR). CTR is the ratio of ad clicks to impressions. It measures the rate of clicks on each ad."
   ]
  },
  {
   "cell_type": "markdown",
   "metadata": {
    "papermill": {
     "duration": 0.119991,
     "end_time": "2020-12-07T08:20:06.284293",
     "exception": false,
     "start_time": "2020-12-07T08:20:06.164302",
     "status": "completed"
    },
    "tags": []
   },
   "source": [
    "#### Hourly CTR"
   ]
  },
  {
   "cell_type": "code",
   "execution_count": 20,
   "metadata": {
    "execution": {
     "iopub.execute_input": "2020-12-07T08:20:06.502817Z",
     "iopub.status.busy": "2020-12-07T08:20:06.499727Z",
     "iopub.status.idle": "2020-12-07T08:20:07.049479Z",
     "shell.execute_reply": "2020-12-07T08:20:07.048807Z"
    },
    "papermill": {
     "duration": 0.663382,
     "end_time": "2020-12-07T08:20:07.049650",
     "exception": false,
     "start_time": "2020-12-07T08:20:06.386268",
     "status": "completed"
    },
    "tags": []
   },
   "outputs": [
    {
     "data": {
      "image/png": "[encoded data removed]",
      "text/plain": [
       "<Figure size 864x432 with 1 Axes>"
      ]
     },
     "metadata": {
      "needs_background": "light"
     },
     "output_type": "display_data"
    }
   ],
   "source": [
    "import seaborn as sns\n",
    "\n",
    "df_click = train[train['click'] == 1]\n",
    "df_hour = train[['hour_of_day','click']].groupby(['hour_of_day']).count().reset_index()\n",
    "df_hour = df_hour.rename(columns={'click': 'impressions'})\n",
    "df_hour['clicks'] = df_click[['hour_of_day','click']].groupby(['hour_of_day']).count().reset_index()['click']\n",
    "df_hour['CTR'] = df_hour['clicks']/df_hour['impressions']*100\n",
    "\n",
    "plt.figure(figsize=(12,6))\n",
    "sns.barplot(y='CTR', x='hour_of_day', data=df_hour)\n",
    "plt.title('Hourly CTR');"
   ]
  },
  {
   "cell_type": "markdown",
   "metadata": {
    "papermill": {
     "duration": 0.11984,
     "end_time": "2020-12-07T08:20:07.288122",
     "exception": false,
     "start_time": "2020-12-07T08:20:07.168282",
     "status": "completed"
    },
    "tags": []
   },
   "source": [
    "One of the interesting observations here is that the highest CTR happened in the hour of mid-night, 1, 7 and 15. If you remember, around mid-night has the least number of impressions and clicks."
   ]
  },
  {
   "cell_type": "markdown",
   "metadata": {
    "papermill": {
     "duration": 0.105619,
     "end_time": "2020-12-07T08:20:07.502945",
     "exception": false,
     "start_time": "2020-12-07T08:20:07.397326",
     "status": "completed"
    },
    "tags": []
   },
   "source": [
    "#### Day of week"
   ]
  },
  {
   "cell_type": "code",
   "execution_count": 21,
   "metadata": {
    "execution": {
     "iopub.execute_input": "2020-12-07T08:20:07.719562Z",
     "iopub.status.busy": "2020-12-07T08:20:07.718695Z",
     "iopub.status.idle": "2020-12-07T08:20:07.723526Z",
     "shell.execute_reply": "2020-12-07T08:20:07.722871Z"
    },
    "papermill": {
     "duration": 0.115755,
     "end_time": "2020-12-07T08:20:07.723661",
     "exception": false,
     "start_time": "2020-12-07T08:20:07.607906",
     "status": "completed"
    },
    "tags": []
   },
   "outputs": [
    {
     "data": {
      "text/plain": [
       "0        2014-10-21 00:00:00\n",
       "1        2014-10-21 00:00:00\n",
       "2        2014-10-21 00:00:00\n",
       "3        2014-10-21 00:00:00\n",
       "4        2014-10-21 00:00:00\n",
       "                 ...        \n",
       "999995   2014-10-30 23:00:00\n",
       "999996   2014-10-30 23:00:00\n",
       "999997   2014-10-30 23:00:00\n",
       "999998   2014-10-30 23:00:00\n",
       "999999   2014-10-30 23:00:00\n",
       "Name: hour, Length: 1000000, dtype: datetime64[ns]"
      ]
     },
     "execution_count": 21,
     "metadata": {},
     "output_type": "execute_result"
    }
   ],
   "source": [
    "train['hour']"
   ]
  },
  {
   "cell_type": "code",
   "execution_count": 22,
   "metadata": {
    "execution": {
     "iopub.execute_input": "2020-12-07T08:20:07.954423Z",
     "iopub.status.busy": "2020-12-07T08:20:07.943994Z",
     "iopub.status.idle": "2020-12-07T08:20:21.791246Z",
     "shell.execute_reply": "2020-12-07T08:20:21.790542Z"
    },
    "papermill": {
     "duration": 13.962644,
     "end_time": "2020-12-07T08:20:21.791372",
     "exception": false,
     "start_time": "2020-12-07T08:20:07.828728",
     "status": "completed"
    },
    "tags": []
   },
   "outputs": [
    {
     "data": {
      "image/png": "[encoded data removed]",
      "text/plain": [
       "<Figure size 864x432 with 1 Axes>"
      ]
     },
     "metadata": {
      "needs_background": "light"
     },
     "output_type": "display_data"
    }
   ],
   "source": [
    "train['day_of_week'] = train['hour'].apply(lambda val: val.strftime(\"%A\"))\n",
    "cats = ['Monday', 'Tuesday', 'Wednesday', 'Thursday', 'Friday', 'Saturday', 'Sunday']\n",
    "train.groupby('day_of_week').agg({'click':'sum'}).reindex(cats).plot(figsize=(12,6))\n",
    "ticks = list(range(0, 7, 1)) # points on the x axis where you want the label to appear\n",
    "labels = \"Mon Tues Weds Thurs Fri Sat Sun\".split()\n",
    "plt.xticks(ticks, labels)\n",
    "plt.title('click trends by day of week');"
   ]
  },
  {
   "cell_type": "code",
   "execution_count": 23,
   "metadata": {
    "execution": {
     "iopub.execute_input": "2020-12-07T08:20:22.019404Z",
     "iopub.status.busy": "2020-12-07T08:20:22.018595Z",
     "iopub.status.idle": "2020-12-07T08:20:23.147625Z",
     "shell.execute_reply": "2020-12-07T08:20:23.146921Z"
    },
    "papermill": {
     "duration": 1.250544,
     "end_time": "2020-12-07T08:20:23.147757",
     "exception": false,
     "start_time": "2020-12-07T08:20:21.897213",
     "status": "completed"
    },
    "tags": []
   },
   "outputs": [],
   "source": [
    "test['day_of_week'] = test['hour'].apply(lambda val: val.strftime(\"%A\"))"
   ]
  },
  {
   "cell_type": "code",
   "execution_count": 24,
   "metadata": {
    "execution": {
     "iopub.execute_input": "2020-12-07T08:20:23.390082Z",
     "iopub.status.busy": "2020-12-07T08:20:23.389236Z",
     "iopub.status.idle": "2020-12-07T08:20:23.776266Z",
     "shell.execute_reply": "2020-12-07T08:20:23.776958Z"
    },
    "papermill": {
     "duration": 0.521773,
     "end_time": "2020-12-07T08:20:23.777130",
     "exception": false,
     "start_time": "2020-12-07T08:20:23.255357",
     "status": "completed"
    },
    "tags": []
   },
   "outputs": [
    {
     "data": {
      "image/png": "[encoded data removed]",
      "text/plain": [
       "<Figure size 864x432 with 1 Axes>"
      ]
     },
     "metadata": {
      "needs_background": "light"
     },
     "output_type": "display_data"
    }
   ],
   "source": [
    "train.groupby(['day_of_week','click']).size().unstack().reindex(cats).plot(kind='bar', title=\"Day of the Week\", figsize=(12,6))\n",
    "ticks = list(range(0, 7, 1)) # points on the x axis where you want the label to appear\n",
    "labels = \"Mon Tues Weds Thurs Fri Sat Sun\".split()\n",
    "plt.xticks(ticks, labels)\n",
    "plt.title('Impressions vs. clicks by day of week');"
   ]
  },
  {
   "cell_type": "markdown",
   "metadata": {
    "papermill": {
     "duration": 0.106862,
     "end_time": "2020-12-07T08:20:23.990910",
     "exception": false,
     "start_time": "2020-12-07T08:20:23.884048",
     "status": "completed"
    },
    "tags": []
   },
   "source": [
    "Tuesdays have the most impressions and clicks, then Wednesdays, followed by Thursdays. Mondays and Fridays have the least number of impressions and clicks."
   ]
  },
  {
   "cell_type": "markdown",
   "metadata": {
    "papermill": {
     "duration": 0.106423,
     "end_time": "2020-12-07T08:20:24.207479",
     "exception": false,
     "start_time": "2020-12-07T08:20:24.101056",
     "status": "completed"
    },
    "tags": []
   },
   "source": [
    "#### Day of week CTR"
   ]
  },
  {
   "cell_type": "code",
   "execution_count": 25,
   "metadata": {
    "execution": {
     "iopub.execute_input": "2020-12-07T08:20:24.449324Z",
     "iopub.status.busy": "2020-12-07T08:20:24.448328Z",
     "iopub.status.idle": "2020-12-07T08:20:24.453170Z",
     "shell.execute_reply": "2020-12-07T08:20:24.452573Z"
    },
    "papermill": {
     "duration": 0.13806,
     "end_time": "2020-12-07T08:20:24.453295",
     "exception": false,
     "start_time": "2020-12-07T08:20:24.315235",
     "status": "completed"
    },
    "tags": []
   },
   "outputs": [
    {
     "data": {
      "text/html": [
       "<div>\n",
       "<style scoped>\n",
       "    .dataframe tbody tr th:only-of-type {\n",
       "        vertical-align: middle;\n",
       "    }\n",
       "\n",
       "    .dataframe tbody tr th {\n",
       "        vertical-align: top;\n",
       "    }\n",
       "\n",
       "    .dataframe thead th {\n",
       "        text-align: right;\n",
       "    }\n",
       "</style>\n",
       "<table border=\"1\" class=\"dataframe\">\n",
       "  <thead>\n",
       "    <tr style=\"text-align: right;\">\n",
       "      <th></th>\n",
       "      <th>id</th>\n",
       "      <th>click</th>\n",
       "      <th>hour</th>\n",
       "      <th>C1</th>\n",
       "      <th>banner_pos</th>\n",
       "      <th>site_id</th>\n",
       "      <th>site_domain</th>\n",
       "      <th>site_category</th>\n",
       "      <th>app_id</th>\n",
       "      <th>app_domain</th>\n",
       "      <th>...</th>\n",
       "      <th>C14</th>\n",
       "      <th>C15</th>\n",
       "      <th>C16</th>\n",
       "      <th>C17</th>\n",
       "      <th>C18</th>\n",
       "      <th>C19</th>\n",
       "      <th>C20</th>\n",
       "      <th>C21</th>\n",
       "      <th>hour_of_day</th>\n",
       "      <th>day_of_week</th>\n",
       "    </tr>\n",
       "  </thead>\n",
       "  <tbody>\n",
       "    <tr>\n",
       "      <th>0</th>\n",
       "      <td>10000371904215119486</td>\n",
       "      <td>0</td>\n",
       "      <td>2014-10-21</td>\n",
       "      <td>1005</td>\n",
       "      <td>0</td>\n",
       "      <td>1fbe01fe</td>\n",
       "      <td>f3845767</td>\n",
       "      <td>28905ebd</td>\n",
       "      <td>ecad2386</td>\n",
       "      <td>7801e8d9</td>\n",
       "      <td>...</td>\n",
       "      <td>15704</td>\n",
       "      <td>320</td>\n",
       "      <td>50</td>\n",
       "      <td>1722</td>\n",
       "      <td>0</td>\n",
       "      <td>35</td>\n",
       "      <td>100084</td>\n",
       "      <td>79</td>\n",
       "      <td>0</td>\n",
       "      <td>Tuesday</td>\n",
       "    </tr>\n",
       "    <tr>\n",
       "      <th>1</th>\n",
       "      <td>10005334911727438633</td>\n",
       "      <td>0</td>\n",
       "      <td>2014-10-21</td>\n",
       "      <td>1010</td>\n",
       "      <td>1</td>\n",
       "      <td>85f751fd</td>\n",
       "      <td>c4e18dd6</td>\n",
       "      <td>50e219e0</td>\n",
       "      <td>ffc6ffd0</td>\n",
       "      <td>7801e8d9</td>\n",
       "      <td>...</td>\n",
       "      <td>21665</td>\n",
       "      <td>320</td>\n",
       "      <td>50</td>\n",
       "      <td>2493</td>\n",
       "      <td>3</td>\n",
       "      <td>35</td>\n",
       "      <td>-1</td>\n",
       "      <td>117</td>\n",
       "      <td>0</td>\n",
       "      <td>Tuesday</td>\n",
       "    </tr>\n",
       "    <tr>\n",
       "      <th>2</th>\n",
       "      <td>10018283997673108970</td>\n",
       "      <td>0</td>\n",
       "      <td>2014-10-21</td>\n",
       "      <td>1002</td>\n",
       "      <td>0</td>\n",
       "      <td>75f43c5a</td>\n",
       "      <td>c4e18dd6</td>\n",
       "      <td>50e219e0</td>\n",
       "      <td>ecad2386</td>\n",
       "      <td>7801e8d9</td>\n",
       "      <td>...</td>\n",
       "      <td>21665</td>\n",
       "      <td>320</td>\n",
       "      <td>50</td>\n",
       "      <td>2493</td>\n",
       "      <td>3</td>\n",
       "      <td>35</td>\n",
       "      <td>-1</td>\n",
       "      <td>117</td>\n",
       "      <td>0</td>\n",
       "      <td>Tuesday</td>\n",
       "    </tr>\n",
       "  </tbody>\n",
       "</table>\n",
       "<p>3 rows × 26 columns</p>\n",
       "</div>"
      ],
      "text/plain": [
       "                     id  click       hour    C1  banner_pos   site_id  \\\n",
       "0  10000371904215119486      0 2014-10-21  1005           0  1fbe01fe   \n",
       "1  10005334911727438633      0 2014-10-21  1010           1  85f751fd   \n",
       "2  10018283997673108970      0 2014-10-21  1002           0  75f43c5a   \n",
       "\n",
       "  site_domain site_category    app_id app_domain  ...    C14  C15 C16   C17  \\\n",
       "0    f3845767      28905ebd  ecad2386   7801e8d9  ...  15704  320  50  1722   \n",
       "1    c4e18dd6      50e219e0  ffc6ffd0   7801e8d9  ...  21665  320  50  2493   \n",
       "2    c4e18dd6      50e219e0  ecad2386   7801e8d9  ...  21665  320  50  2493   \n",
       "\n",
       "   C18  C19     C20  C21  hour_of_day  day_of_week  \n",
       "0    0   35  100084   79            0      Tuesday  \n",
       "1    3   35      -1  117            0      Tuesday  \n",
       "2    3   35      -1  117            0      Tuesday  \n",
       "\n",
       "[3 rows x 26 columns]"
      ]
     },
     "execution_count": 25,
     "metadata": {},
     "output_type": "execute_result"
    }
   ],
   "source": [
    "train.head(3)"
   ]
  },
  {
   "cell_type": "code",
   "execution_count": 26,
   "metadata": {
    "execution": {
     "iopub.execute_input": "2020-12-07T08:20:24.735942Z",
     "iopub.status.busy": "2020-12-07T08:20:24.735145Z",
     "iopub.status.idle": "2020-12-07T08:20:25.517337Z",
     "shell.execute_reply": "2020-12-07T08:20:25.516598Z"
    },
    "papermill": {
     "duration": 0.952525,
     "end_time": "2020-12-07T08:20:25.517458",
     "exception": false,
     "start_time": "2020-12-07T08:20:24.564933",
     "status": "completed"
    },
    "tags": []
   },
   "outputs": [
    {
     "data": {
      "image/png": "[encoded data removed]",
      "text/plain": [
       "<Figure size 864x432 with 1 Axes>"
      ]
     },
     "metadata": {
      "needs_background": "light"
     },
     "output_type": "display_data"
    }
   ],
   "source": [
    "df_click = train[train['click'] == 1]\n",
    "df_dayofweek = train[['day_of_week','click']].groupby(['day_of_week']).count().reset_index()\n",
    "df_dayofweek = df_dayofweek.rename(columns={'click': 'impressions'})\n",
    "df_dayofweek['clicks'] = df_click[['day_of_week','click']].groupby(['day_of_week']).count().reset_index()['click']\n",
    "df_dayofweek['CTR'] = df_dayofweek['clicks']/df_dayofweek['impressions']*100\n",
    "\n",
    "plt.figure(figsize=(12,6))\n",
    "sns.barplot(y='CTR', x='day_of_week', data=df_dayofweek, order=['Monday', 'Tuesday', 'Wednesday', 'Thursday', 'Friday', 'Saturday', 'Sunday'])\n",
    "plt.title('Day of week CTR');"
   ]
  },
  {
   "cell_type": "markdown",
   "metadata": {
    "papermill": {
     "duration": 0.11194,
     "end_time": "2020-12-07T08:20:25.746832",
     "exception": false,
     "start_time": "2020-12-07T08:20:25.634892",
     "status": "completed"
    },
    "tags": []
   },
   "source": [
    "While Tuesdays and Wednesdays have the highest number of impressions and clicks, their CTR are among the lowest. Saturdays and Sundays enjoy the highest CTR. Apparently, people have more time to click over the weekend."
   ]
  },
  {
   "cell_type": "code",
   "execution_count": 27,
   "metadata": {
    "execution": {
     "iopub.execute_input": "2020-12-07T08:20:25.995093Z",
     "iopub.status.busy": "2020-12-07T08:20:25.994150Z",
     "iopub.status.idle": "2020-12-07T08:20:25.999029Z",
     "shell.execute_reply": "2020-12-07T08:20:25.998360Z"
    },
    "papermill": {
     "duration": 0.140977,
     "end_time": "2020-12-07T08:20:25.999167",
     "exception": false,
     "start_time": "2020-12-07T08:20:25.858190",
     "status": "completed"
    },
    "tags": []
   },
   "outputs": [
    {
     "data": {
      "text/html": [
       "<div>\n",
       "<style scoped>\n",
       "    .dataframe tbody tr th:only-of-type {\n",
       "        vertical-align: middle;\n",
       "    }\n",
       "\n",
       "    .dataframe tbody tr th {\n",
       "        vertical-align: top;\n",
       "    }\n",
       "\n",
       "    .dataframe thead th {\n",
       "        text-align: right;\n",
       "    }\n",
       "</style>\n",
       "<table border=\"1\" class=\"dataframe\">\n",
       "  <thead>\n",
       "    <tr style=\"text-align: right;\">\n",
       "      <th></th>\n",
       "      <th>id</th>\n",
       "      <th>click</th>\n",
       "      <th>hour</th>\n",
       "      <th>C1</th>\n",
       "      <th>banner_pos</th>\n",
       "      <th>site_id</th>\n",
       "      <th>site_domain</th>\n",
       "      <th>site_category</th>\n",
       "      <th>app_id</th>\n",
       "      <th>app_domain</th>\n",
       "      <th>...</th>\n",
       "      <th>C14</th>\n",
       "      <th>C15</th>\n",
       "      <th>C16</th>\n",
       "      <th>C17</th>\n",
       "      <th>C18</th>\n",
       "      <th>C19</th>\n",
       "      <th>C20</th>\n",
       "      <th>C21</th>\n",
       "      <th>hour_of_day</th>\n",
       "      <th>day_of_week</th>\n",
       "    </tr>\n",
       "  </thead>\n",
       "  <tbody>\n",
       "    <tr>\n",
       "      <th>0</th>\n",
       "      <td>10000371904215119486</td>\n",
       "      <td>0</td>\n",
       "      <td>2014-10-21</td>\n",
       "      <td>1005</td>\n",
       "      <td>0</td>\n",
       "      <td>1fbe01fe</td>\n",
       "      <td>f3845767</td>\n",
       "      <td>28905ebd</td>\n",
       "      <td>ecad2386</td>\n",
       "      <td>7801e8d9</td>\n",
       "      <td>...</td>\n",
       "      <td>15704</td>\n",
       "      <td>320</td>\n",
       "      <td>50</td>\n",
       "      <td>1722</td>\n",
       "      <td>0</td>\n",
       "      <td>35</td>\n",
       "      <td>100084</td>\n",
       "      <td>79</td>\n",
       "      <td>0</td>\n",
       "      <td>Tuesday</td>\n",
       "    </tr>\n",
       "    <tr>\n",
       "      <th>1</th>\n",
       "      <td>10005334911727438633</td>\n",
       "      <td>0</td>\n",
       "      <td>2014-10-21</td>\n",
       "      <td>1010</td>\n",
       "      <td>1</td>\n",
       "      <td>85f751fd</td>\n",
       "      <td>c4e18dd6</td>\n",
       "      <td>50e219e0</td>\n",
       "      <td>ffc6ffd0</td>\n",
       "      <td>7801e8d9</td>\n",
       "      <td>...</td>\n",
       "      <td>21665</td>\n",
       "      <td>320</td>\n",
       "      <td>50</td>\n",
       "      <td>2493</td>\n",
       "      <td>3</td>\n",
       "      <td>35</td>\n",
       "      <td>-1</td>\n",
       "      <td>117</td>\n",
       "      <td>0</td>\n",
       "      <td>Tuesday</td>\n",
       "    </tr>\n",
       "    <tr>\n",
       "      <th>2</th>\n",
       "      <td>10018283997673108970</td>\n",
       "      <td>0</td>\n",
       "      <td>2014-10-21</td>\n",
       "      <td>1002</td>\n",
       "      <td>0</td>\n",
       "      <td>75f43c5a</td>\n",
       "      <td>c4e18dd6</td>\n",
       "      <td>50e219e0</td>\n",
       "      <td>ecad2386</td>\n",
       "      <td>7801e8d9</td>\n",
       "      <td>...</td>\n",
       "      <td>21665</td>\n",
       "      <td>320</td>\n",
       "      <td>50</td>\n",
       "      <td>2493</td>\n",
       "      <td>3</td>\n",
       "      <td>35</td>\n",
       "      <td>-1</td>\n",
       "      <td>117</td>\n",
       "      <td>0</td>\n",
       "      <td>Tuesday</td>\n",
       "    </tr>\n",
       "  </tbody>\n",
       "</table>\n",
       "<p>3 rows × 26 columns</p>\n",
       "</div>"
      ],
      "text/plain": [
       "                     id  click       hour    C1  banner_pos   site_id  \\\n",
       "0  10000371904215119486      0 2014-10-21  1005           0  1fbe01fe   \n",
       "1  10005334911727438633      0 2014-10-21  1010           1  85f751fd   \n",
       "2  10018283997673108970      0 2014-10-21  1002           0  75f43c5a   \n",
       "\n",
       "  site_domain site_category    app_id app_domain  ...    C14  C15 C16   C17  \\\n",
       "0    f3845767      28905ebd  ecad2386   7801e8d9  ...  15704  320  50  1722   \n",
       "1    c4e18dd6      50e219e0  ffc6ffd0   7801e8d9  ...  21665  320  50  2493   \n",
       "2    c4e18dd6      50e219e0  ecad2386   7801e8d9  ...  21665  320  50  2493   \n",
       "\n",
       "   C18  C19     C20  C21  hour_of_day  day_of_week  \n",
       "0    0   35  100084   79            0      Tuesday  \n",
       "1    3   35      -1  117            0      Tuesday  \n",
       "2    3   35      -1  117            0      Tuesday  \n",
       "\n",
       "[3 rows x 26 columns]"
      ]
     },
     "execution_count": 27,
     "metadata": {},
     "output_type": "execute_result"
    }
   ],
   "source": [
    "train.head(3)"
   ]
  },
  {
   "cell_type": "markdown",
   "metadata": {
    "papermill": {
     "duration": 0.109342,
     "end_time": "2020-12-07T08:20:26.220162",
     "exception": false,
     "start_time": "2020-12-07T08:20:26.110820",
     "status": "completed"
    },
    "tags": []
   },
   "source": [
    "### C1 feature\n",
    "\n",
    "C1 is one of the anonymized categorical features. Although we don't know its meaning, we still want to have a look its distribution."
   ]
  },
  {
   "cell_type": "code",
   "execution_count": 28,
   "metadata": {
    "execution": {
     "iopub.execute_input": "2020-12-07T08:20:26.450621Z",
     "iopub.status.busy": "2020-12-07T08:20:26.449553Z",
     "iopub.status.idle": "2020-12-07T08:20:26.466435Z",
     "shell.execute_reply": "2020-12-07T08:20:26.465297Z"
    },
    "papermill": {
     "duration": 0.133663,
     "end_time": "2020-12-07T08:20:26.466653",
     "exception": false,
     "start_time": "2020-12-07T08:20:26.332990",
     "status": "completed"
    },
    "tags": []
   },
   "outputs": [
    {
     "name": "stdout",
     "output_type": "stream",
     "text": [
      "1005    0.919179\n",
      "1002    0.054629\n",
      "1010    0.022163\n",
      "1012    0.002743\n",
      "1007    0.000894\n",
      "1001    0.000245\n",
      "1008    0.000147\n",
      "Name: C1, dtype: float64\n"
     ]
    }
   ],
   "source": [
    "print(train.C1.value_counts()/len(train))"
   ]
  },
  {
   "cell_type": "markdown",
   "metadata": {
    "papermill": {
     "duration": 0.109914,
     "end_time": "2020-12-07T08:20:26.687352",
     "exception": false,
     "start_time": "2020-12-07T08:20:26.577438",
     "status": "completed"
    },
    "tags": []
   },
   "source": [
    "C1 value = 1005 has the most data, almost 92%. Let's see whether we can find value of C1 indicates something about CTR."
   ]
  },
  {
   "cell_type": "code",
   "execution_count": 29,
   "metadata": {
    "execution": {
     "iopub.execute_input": "2020-12-07T08:20:26.916370Z",
     "iopub.status.busy": "2020-12-07T08:20:26.915219Z",
     "iopub.status.idle": "2020-12-07T08:20:27.301993Z",
     "shell.execute_reply": "2020-12-07T08:20:27.301343Z"
    },
    "papermill": {
     "duration": 0.504418,
     "end_time": "2020-12-07T08:20:27.302118",
     "exception": false,
     "start_time": "2020-12-07T08:20:26.797700",
     "status": "completed"
    },
    "tags": []
   },
   "outputs": [
    {
     "name": "stdout",
     "output_type": "stream",
     "text": [
      "for C1 value: 1001,  click through rate: 0.0163265306122449\n",
      "for C1 value: 1002,  click through rate: 0.20862545534423108\n",
      "for C1 value: 1005,  click through rate: 0.16895620983508108\n",
      "for C1 value: 1007,  click through rate: 0.03691275167785235\n",
      "for C1 value: 1008,  click through rate: 0.10884353741496598\n",
      "for C1 value: 1010,  click through rate: 0.09362450931733068\n",
      "for C1 value: 1012,  click through rate: 0.17098067808968284\n"
     ]
    }
   ],
   "source": [
    "C1_values = train.C1.unique()\n",
    "C1_values.sort()\n",
    "ctr_avg_list=[]\n",
    "for i in C1_values:\n",
    "    ctr_avg=train.loc[np.where((train.C1 == i))].click.mean()\n",
    "    ctr_avg_list.append(ctr_avg)\n",
    "    print(\"for C1 value: {},  click through rate: {}\".format(i,ctr_avg))"
   ]
  },
  {
   "cell_type": "code",
   "execution_count": 30,
   "metadata": {
    "execution": {
     "iopub.execute_input": "2020-12-07T08:20:27.532518Z",
     "iopub.status.busy": "2020-12-07T08:20:27.531713Z",
     "iopub.status.idle": "2020-12-07T08:20:27.826892Z",
     "shell.execute_reply": "2020-12-07T08:20:27.826227Z"
    },
    "papermill": {
     "duration": 0.41296,
     "end_time": "2020-12-07T08:20:27.827033",
     "exception": false,
     "start_time": "2020-12-07T08:20:27.414073",
     "status": "completed"
    },
    "tags": []
   },
   "outputs": [
    {
     "data": {
      "image/png": "[encoded data removed]",
      "text/plain": [
       "<Figure size 864x432 with 1 Axes>"
      ]
     },
     "metadata": {
      "needs_background": "light"
     },
     "output_type": "display_data"
    }
   ],
   "source": [
    "train.groupby(['C1', 'click']).size().unstack().plot(kind='bar', figsize=(12,6), title='C1 histogram');"
   ]
  },
  {
   "cell_type": "code",
   "execution_count": 31,
   "metadata": {
    "execution": {
     "iopub.execute_input": "2020-12-07T08:20:28.076248Z",
     "iopub.status.busy": "2020-12-07T08:20:28.075423Z",
     "iopub.status.idle": "2020-12-07T08:20:28.356908Z",
     "shell.execute_reply": "2020-12-07T08:20:28.356124Z"
    },
    "papermill": {
     "duration": 0.413334,
     "end_time": "2020-12-07T08:20:28.357037",
     "exception": false,
     "start_time": "2020-12-07T08:20:27.943703",
     "status": "completed"
    },
    "tags": []
   },
   "outputs": [
    {
     "data": {
      "image/png": "[encoded data removed]",
      "text/plain": [
       "<Figure size 864x432 with 1 Axes>"
      ]
     },
     "metadata": {
      "needs_background": "light"
     },
     "output_type": "display_data"
    }
   ],
   "source": [
    "df_c1 = train[['C1','click']].groupby(['C1']).count().reset_index()\n",
    "df_c1 = df_c1.rename(columns={'click': 'impressions'})\n",
    "df_c1['clicks'] = df_click[['C1','click']].groupby(['C1']).count().reset_index()['click']\n",
    "df_c1['CTR'] = df_c1['clicks']/df_c1['impressions']*100\n",
    "\n",
    "plt.figure(figsize=(12,6))\n",
    "sns.barplot(y='CTR', x='C1', data=df_c1)\n",
    "plt.title('CTR by C1');"
   ]
  },
  {
   "cell_type": "markdown",
   "metadata": {
    "papermill": {
     "duration": 0.116645,
     "end_time": "2020-12-07T08:20:28.587058",
     "exception": false,
     "start_time": "2020-12-07T08:20:28.470413",
     "status": "completed"
    },
    "tags": []
   },
   "source": [
    "The average CTR in the data is 0.17."
   ]
  },
  {
   "cell_type": "code",
   "execution_count": 32,
   "metadata": {
    "execution": {
     "iopub.execute_input": "2020-12-07T08:20:28.822464Z",
     "iopub.status.busy": "2020-12-07T08:20:28.821382Z",
     "iopub.status.idle": "2020-12-07T08:20:28.828544Z",
     "shell.execute_reply": "2020-12-07T08:20:28.827791Z"
    },
    "papermill": {
     "duration": 0.126337,
     "end_time": "2020-12-07T08:20:28.828670",
     "exception": false,
     "start_time": "2020-12-07T08:20:28.702333",
     "status": "completed"
    },
    "tags": []
   },
   "outputs": [
    {
     "data": {
      "text/plain": [
       "0.169295"
      ]
     },
     "execution_count": 32,
     "metadata": {},
     "output_type": "execute_result"
    }
   ],
   "source": [
    "train['click'].mean()"
   ]
  },
  {
   "cell_type": "code",
   "execution_count": 33,
   "metadata": {
    "execution": {
     "iopub.execute_input": "2020-12-07T08:20:29.066776Z",
     "iopub.status.busy": "2020-12-07T08:20:29.065650Z",
     "iopub.status.idle": "2020-12-07T08:20:29.076708Z",
     "shell.execute_reply": "2020-12-07T08:20:29.076008Z"
    },
    "papermill": {
     "duration": 0.133945,
     "end_time": "2020-12-07T08:20:29.076838",
     "exception": false,
     "start_time": "2020-12-07T08:20:28.942893",
     "status": "completed"
    },
    "tags": []
   },
   "outputs": [
    {
     "data": {
      "text/plain": [
       "count     7.000000\n",
       "mean     11.489567\n",
       "std       7.204124\n",
       "min       1.632653\n",
       "25%       6.526863\n",
       "50%      10.884354\n",
       "75%      16.996844\n",
       "max      20.862546\n",
       "Name: CTR, dtype: float64"
      ]
     },
     "execution_count": 33,
     "metadata": {},
     "output_type": "execute_result"
    }
   ],
   "source": [
    "df_c1.CTR.describe()"
   ]
  },
  {
   "cell_type": "markdown",
   "metadata": {
    "papermill": {
     "duration": 0.116136,
     "end_time": "2020-12-07T08:20:29.310514",
     "exception": false,
     "start_time": "2020-12-07T08:20:29.194378",
     "status": "completed"
    },
    "tags": []
   },
   "source": [
    "The important C1 values and CTR pairs are:\n",
    "\n",
    "1005: 92% of the data and 0.17 CTR\n",
    "\n",
    "1002: 5.5% of the data and 0.21 CTR\n",
    "\n",
    "1010: 2.3% of the data and 0.096 CTR\n",
    "\n",
    "1002 has a much higher than average CTR, and 1010 has a much lower than average CTR, it seems these two C1 values are important for predicting CTR."
   ]
  },
  {
   "cell_type": "markdown",
   "metadata": {
    "papermill": {
     "duration": 0.115679,
     "end_time": "2020-12-07T08:20:29.540743",
     "exception": false,
     "start_time": "2020-12-07T08:20:29.425064",
     "status": "completed"
    },
    "tags": []
   },
   "source": [
    "### Banner position\n",
    "\n",
    "I have heard that there are many factors that affect the performance of your banner ads, but the most influential one is the banner position. Let's see whether it is true."
   ]
  },
  {
   "cell_type": "code",
   "execution_count": 34,
   "metadata": {
    "execution": {
     "iopub.execute_input": "2020-12-07T08:20:29.777662Z",
     "iopub.status.busy": "2020-12-07T08:20:29.776832Z",
     "iopub.status.idle": "2020-12-07T08:20:29.793985Z",
     "shell.execute_reply": "2020-12-07T08:20:29.794898Z"
    },
    "papermill": {
     "duration": 0.137492,
     "end_time": "2020-12-07T08:20:29.795128",
     "exception": false,
     "start_time": "2020-12-07T08:20:29.657636",
     "status": "completed"
    },
    "tags": []
   },
   "outputs": [
    {
     "name": "stdout",
     "output_type": "stream",
     "text": [
      "0    0.720460\n",
      "1    0.277838\n",
      "7    0.001024\n",
      "2    0.000312\n",
      "4    0.000162\n",
      "5    0.000147\n",
      "3    0.000057\n",
      "Name: banner_pos, dtype: float64\n"
     ]
    }
   ],
   "source": [
    "print(train.banner_pos.value_counts()/len(train))"
   ]
  },
  {
   "cell_type": "code",
   "execution_count": 35,
   "metadata": {
    "execution": {
     "iopub.execute_input": "2020-12-07T08:20:30.037056Z",
     "iopub.status.busy": "2020-12-07T08:20:30.036027Z",
     "iopub.status.idle": "2020-12-07T08:20:30.384327Z",
     "shell.execute_reply": "2020-12-07T08:20:30.383715Z"
    },
    "papermill": {
     "duration": 0.472357,
     "end_time": "2020-12-07T08:20:30.384461",
     "exception": false,
     "start_time": "2020-12-07T08:20:29.912104",
     "status": "completed"
    },
    "tags": []
   },
   "outputs": [
    {
     "name": "stdout",
     "output_type": "stream",
     "text": [
      "for banner position: 0,  click through rate: 0.16371207284235073\n",
      "for banner position: 1,  click through rate: 0.18330825876949877\n",
      "for banner position: 2,  click through rate: 0.15705128205128205\n",
      "for banner position: 3,  click through rate: 0.15789473684210525\n",
      "for banner position: 4,  click through rate: 0.1728395061728395\n",
      "for banner position: 5,  click through rate: 0.10884353741496598\n",
      "for banner position: 7,  click through rate: 0.3076171875\n"
     ]
    }
   ],
   "source": [
    "banner_pos = train.banner_pos.unique()\n",
    "banner_pos.sort()\n",
    "ctr_avg_list=[]\n",
    "for i in banner_pos:\n",
    "    ctr_avg=train.loc[np.where((train.banner_pos == i))].click.mean()\n",
    "    ctr_avg_list.append(ctr_avg)\n",
    "    print(\"for banner position: {},  click through rate: {}\".format(i,ctr_avg))"
   ]
  },
  {
   "cell_type": "markdown",
   "metadata": {
    "papermill": {
     "duration": 0.117188,
     "end_time": "2020-12-07T08:20:30.616627",
     "exception": false,
     "start_time": "2020-12-07T08:20:30.499439",
     "status": "completed"
    },
    "tags": []
   },
   "source": [
    "The important banner positions are:\n",
    "\n",
    "position 0: 72% of the data and 0.16 CTR\n",
    "\n",
    "position 1: 28% of the data and 0.18 CTR"
   ]
  },
  {
   "cell_type": "code",
   "execution_count": 36,
   "metadata": {
    "execution": {
     "iopub.execute_input": "2020-12-07T08:20:30.875688Z",
     "iopub.status.busy": "2020-12-07T08:20:30.874825Z",
     "iopub.status.idle": "2020-12-07T08:20:31.160110Z",
     "shell.execute_reply": "2020-12-07T08:20:31.159327Z"
    },
    "papermill": {
     "duration": 0.407672,
     "end_time": "2020-12-07T08:20:31.160233",
     "exception": false,
     "start_time": "2020-12-07T08:20:30.752561",
     "status": "completed"
    },
    "tags": []
   },
   "outputs": [
    {
     "data": {
      "image/png": "[encoded data removed]",
      "text/plain": [
       "<Figure size 864x432 with 1 Axes>"
      ]
     },
     "metadata": {
      "needs_background": "light"
     },
     "output_type": "display_data"
    }
   ],
   "source": [
    "train.groupby(['banner_pos', 'click']).size().unstack().plot(kind='bar', figsize=(12,6), title='banner position histogram');"
   ]
  },
  {
   "cell_type": "code",
   "execution_count": 37,
   "metadata": {
    "execution": {
     "iopub.execute_input": "2020-12-07T08:20:31.437625Z",
     "iopub.status.busy": "2020-12-07T08:20:31.436089Z",
     "iopub.status.idle": "2020-12-07T08:20:31.710878Z",
     "shell.execute_reply": "2020-12-07T08:20:31.710092Z"
    },
    "papermill": {
     "duration": 0.426156,
     "end_time": "2020-12-07T08:20:31.711008",
     "exception": false,
     "start_time": "2020-12-07T08:20:31.284852",
     "status": "completed"
    },
    "tags": []
   },
   "outputs": [
    {
     "data": {
      "image/png": "[encoded data removed]",
      "text/plain": [
       "<Figure size 864x432 with 1 Axes>"
      ]
     },
     "metadata": {
      "needs_background": "light"
     },
     "output_type": "display_data"
    }
   ],
   "source": [
    "df_banner = train[['banner_pos','click']].groupby(['banner_pos']).count().reset_index()\n",
    "df_banner = df_banner.rename(columns={'click': 'impressions'})\n",
    "df_banner['clicks'] = df_click[['banner_pos','click']].groupby(['banner_pos']).count().reset_index()['click']\n",
    "df_banner['CTR'] = df_banner['clicks']/df_banner['impressions']*100\n",
    "sort_banners = df_banner.sort_values(by='CTR',ascending=False)['banner_pos'].tolist()\n",
    "plt.figure(figsize=(12,6))\n",
    "sns.barplot(y='CTR', x='banner_pos', data=df_banner, order=sort_banners)\n",
    "plt.title('CTR by banner position');"
   ]
  },
  {
   "cell_type": "code",
   "execution_count": 38,
   "metadata": {
    "execution": {
     "iopub.execute_input": "2020-12-07T08:20:31.980328Z",
     "iopub.status.busy": "2020-12-07T08:20:31.978711Z",
     "iopub.status.idle": "2020-12-07T08:20:31.983472Z",
     "shell.execute_reply": "2020-12-07T08:20:31.984372Z"
    },
    "papermill": {
     "duration": 0.145219,
     "end_time": "2020-12-07T08:20:31.984613",
     "exception": false,
     "start_time": "2020-12-07T08:20:31.839394",
     "status": "completed"
    },
    "tags": []
   },
   "outputs": [
    {
     "data": {
      "text/plain": [
       "count     7.000000\n",
       "mean     17.875237\n",
       "std       6.148346\n",
       "min      10.884354\n",
       "25%      15.747301\n",
       "50%      16.371207\n",
       "75%      17.807388\n",
       "max      30.761719\n",
       "Name: CTR, dtype: float64"
      ]
     },
     "execution_count": 38,
     "metadata": {},
     "output_type": "execute_result"
    }
   ],
   "source": [
    "df_banner.CTR.describe()"
   ]
  },
  {
   "cell_type": "markdown",
   "metadata": {
    "papermill": {
     "duration": 0.13299,
     "end_time": "2020-12-07T08:20:32.249229",
     "exception": false,
     "start_time": "2020-12-07T08:20:32.116239",
     "status": "completed"
    },
    "tags": []
   },
   "source": [
    "Although banner position 0 and 1 have the highest number of impressions and clicks, banner 7 enjoys the highest click through rate. Increasing the number of ads placed on banner position 7 seems to be a good idea."
   ]
  },
  {
   "cell_type": "markdown",
   "metadata": {
    "papermill": {
     "duration": 0.124045,
     "end_time": "2020-12-07T08:20:32.498057",
     "exception": false,
     "start_time": "2020-12-07T08:20:32.374012",
     "status": "completed"
    },
    "tags": []
   },
   "source": [
    "### Site features\n",
    "\n",
    "#### site id"
   ]
  },
  {
   "cell_type": "code",
   "execution_count": 39,
   "metadata": {
    "execution": {
     "iopub.execute_input": "2020-12-07T08:20:32.827281Z",
     "iopub.status.busy": "2020-12-07T08:20:32.771280Z",
     "iopub.status.idle": "2020-12-07T08:20:32.854344Z",
     "shell.execute_reply": "2020-12-07T08:20:32.854954Z"
    },
    "papermill": {
     "duration": 0.229205,
     "end_time": "2020-12-07T08:20:32.855142",
     "exception": false,
     "start_time": "2020-12-07T08:20:32.625937",
     "status": "completed"
    },
    "tags": []
   },
   "outputs": [
    {
     "name": "stdout",
     "output_type": "stream",
     "text": [
      "There are 2629 sites in the data set\n"
     ]
    }
   ],
   "source": [
    "print(\"There are {} sites in the data set\".format(train.site_id.nunique()))"
   ]
  },
  {
   "cell_type": "code",
   "execution_count": 40,
   "metadata": {
    "execution": {
     "iopub.execute_input": "2020-12-07T08:20:33.387735Z",
     "iopub.status.busy": "2020-12-07T08:20:33.279942Z",
     "iopub.status.idle": "2020-12-07T08:20:33.396266Z",
     "shell.execute_reply": "2020-12-07T08:20:33.396954Z"
    },
    "papermill": {
     "duration": 0.419157,
     "end_time": "2020-12-07T08:20:33.397153",
     "exception": false,
     "start_time": "2020-12-07T08:20:32.977996",
     "status": "completed"
    },
    "tags": []
   },
   "outputs": [
    {
     "name": "stdout",
     "output_type": "stream",
     "text": [
      "The top 10 site ids that have the most impressions\n",
      "85f751fd    0.361055\n",
      "1fbe01fe    0.160367\n",
      "e151e245    0.065123\n",
      "d9750ee7    0.023510\n",
      "5b08c53b    0.022723\n",
      "5b4d2eda    0.019023\n",
      "856e6d3f    0.018960\n",
      "a7853007    0.011337\n",
      "b7e9786d    0.009100\n",
      "5ee41ff2    0.008842\n",
      "Name: site_id, dtype: float64\n"
     ]
    }
   ],
   "source": [
    "print('The top 10 site ids that have the most impressions')\n",
    "print((train.site_id.value_counts()/len(train))[0:10])"
   ]
  },
  {
   "cell_type": "code",
   "execution_count": 41,
   "metadata": {
    "execution": {
     "iopub.execute_input": "2020-12-07T08:20:33.927608Z",
     "iopub.status.busy": "2020-12-07T08:20:33.926706Z",
     "iopub.status.idle": "2020-12-07T08:20:36.188634Z",
     "shell.execute_reply": "2020-12-07T08:20:36.187655Z"
    },
    "papermill": {
     "duration": 2.665365,
     "end_time": "2020-12-07T08:20:36.188829",
     "exception": false,
     "start_time": "2020-12-07T08:20:33.523464",
     "status": "completed"
    },
    "tags": []
   },
   "outputs": [
    {
     "name": "stdout",
     "output_type": "stream",
     "text": [
      "for site id value: 85f751fd,  click through rate: 0.11829222694603315\n",
      "for site id value: 1fbe01fe,  click through rate: 0.2055410402389519\n",
      "for site id value: e151e245,  click through rate: 0.2978978241174393\n",
      "for site id value: d9750ee7,  click through rate: 0.2858358145470013\n",
      "for site id value: 5b08c53b,  click through rate: 0.4691722043744224\n",
      "for site id value: 5b4d2eda,  click through rate: 0.13010566156757608\n",
      "for site id value: 856e6d3f,  click through rate: 0.04208860759493671\n",
      "for site id value: a7853007,  click through rate: 0.10478962688541943\n",
      "for site id value: b7e9786d,  click through rate: 0.0745054945054945\n",
      "for site id value: 5ee41ff2,  click through rate: 0.31893236824247906\n"
     ]
    }
   ],
   "source": [
    "top10_ids = (train.site_id.value_counts()/len(train))[0:10].index\n",
    "click_avg_list=[]\n",
    "\n",
    "for i in top10_ids:\n",
    "    click_avg=train.loc[np.where((train.site_id == i))].click.mean()\n",
    "    click_avg_list.append(click_avg)\n",
    "    print(\"for site id value: {},  click through rate: {}\".format(i,click_avg))"
   ]
  },
  {
   "cell_type": "code",
   "execution_count": 42,
   "metadata": {
    "execution": {
     "iopub.execute_input": "2020-12-07T08:20:36.737420Z",
     "iopub.status.busy": "2020-12-07T08:20:36.736034Z",
     "iopub.status.idle": "2020-12-07T08:20:37.421815Z",
     "shell.execute_reply": "2020-12-07T08:20:37.421128Z"
    },
    "papermill": {
     "duration": 1.103425,
     "end_time": "2020-12-07T08:20:37.421965",
     "exception": false,
     "start_time": "2020-12-07T08:20:36.318540",
     "status": "completed"
    },
    "tags": []
   },
   "outputs": [
    {
     "data": {
      "image/png": "[encoded data removed]",
      "text/plain": [
       "<Figure size 864x432 with 1 Axes>"
      ]
     },
     "metadata": {
      "needs_background": "light"
     },
     "output_type": "display_data"
    }
   ],
   "source": [
    "top10_sites = train[(train.site_id.isin((train.site_id.value_counts()/len(train))[0:10].index))]\n",
    "top10_sites_click = top10_sites[top10_sites['click'] == 1]\n",
    "top10_sites.groupby(['site_id', 'click']).size().unstack().plot(kind='bar', figsize=(12,6), title='Top 10 site ids histogram');"
   ]
  },
  {
   "cell_type": "code",
   "execution_count": 43,
   "metadata": {
    "execution": {
     "iopub.execute_input": "2020-12-07T08:20:37.711785Z",
     "iopub.status.busy": "2020-12-07T08:20:37.708053Z",
     "iopub.status.idle": "2020-12-07T08:20:38.062389Z",
     "shell.execute_reply": "2020-12-07T08:20:38.061536Z"
    },
    "papermill": {
     "duration": 0.505147,
     "end_time": "2020-12-07T08:20:38.062545",
     "exception": false,
     "start_time": "2020-12-07T08:20:37.557398",
     "status": "completed"
    },
    "tags": []
   },
   "outputs": [
    {
     "data": {
      "image/png": "[encoded data removed]",
      "text/plain": [
       "<Figure size 864x432 with 1 Axes>"
      ]
     },
     "metadata": {
      "needs_background": "light"
     },
     "output_type": "display_data"
    }
   ],
   "source": [
    "df_site = top10_sites[['site_id','click']].groupby(['site_id']).count().reset_index()\n",
    "df_site = df_site.rename(columns={'click': 'impressions'})\n",
    "df_site['clicks'] = top10_sites_click[['site_id','click']].groupby(['site_id']).count().reset_index()['click']\n",
    "df_site['CTR'] = df_site['clicks']/df_site['impressions']*100\n",
    "sort_site = df_site.sort_values(by='CTR',ascending=False)['site_id'].tolist()\n",
    "plt.figure(figsize=(12,6))\n",
    "sns.barplot(y='CTR', x='site_id', data=df_site, order=sort_site)\n",
    "plt.title('CTR by top 10 site id');"
   ]
  },
  {
   "cell_type": "markdown",
   "metadata": {
    "papermill": {
     "duration": 0.129008,
     "end_time": "2020-12-07T08:20:38.330787",
     "exception": false,
     "start_time": "2020-12-07T08:20:38.201779",
     "status": "completed"
    },
    "tags": []
   },
   "source": [
    "The site_id feature seems important because the CTR for the top 10 sites, some as high as 0.47, and some as low as 0.04, and they are significantly different from overall CTR 0.16."
   ]
  },
  {
   "cell_type": "markdown",
   "metadata": {
    "papermill": {
     "duration": 0.129695,
     "end_time": "2020-12-07T08:20:38.586477",
     "exception": false,
     "start_time": "2020-12-07T08:20:38.456782",
     "status": "completed"
    },
    "tags": []
   },
   "source": [
    "#### site domain "
   ]
  },
  {
   "cell_type": "code",
   "execution_count": 44,
   "metadata": {
    "execution": {
     "iopub.execute_input": "2020-12-07T08:20:38.917585Z",
     "iopub.status.busy": "2020-12-07T08:20:38.862344Z",
     "iopub.status.idle": "2020-12-07T08:20:38.944758Z",
     "shell.execute_reply": "2020-12-07T08:20:38.945519Z"
    },
    "papermill": {
     "duration": 0.231714,
     "end_time": "2020-12-07T08:20:38.945703",
     "exception": false,
     "start_time": "2020-12-07T08:20:38.713989",
     "status": "completed"
    },
    "tags": []
   },
   "outputs": [
    {
     "name": "stdout",
     "output_type": "stream",
     "text": [
      "There are 2870 site domains in the data set\n"
     ]
    }
   ],
   "source": [
    "print(\"There are {} site domains in the data set\".format(train.site_domain.nunique()))"
   ]
  },
  {
   "cell_type": "code",
   "execution_count": 45,
   "metadata": {
    "execution": {
     "iopub.execute_input": "2020-12-07T08:20:39.518106Z",
     "iopub.status.busy": "2020-12-07T08:20:39.517074Z",
     "iopub.status.idle": "2020-12-07T08:20:39.526952Z",
     "shell.execute_reply": "2020-12-07T08:20:39.526142Z"
    },
    "papermill": {
     "duration": 0.454191,
     "end_time": "2020-12-07T08:20:39.527126",
     "exception": false,
     "start_time": "2020-12-07T08:20:39.072935",
     "status": "completed"
    },
    "tags": []
   },
   "outputs": [
    {
     "name": "stdout",
     "output_type": "stream",
     "text": [
      "The top 10 site domains that have the most impressions\n",
      "c4e18dd6    0.374269\n",
      "f3845767    0.160367\n",
      "7e091613    0.082005\n",
      "7687a86e    0.032086\n",
      "98572c79    0.024329\n",
      "16a36ef3    0.021038\n",
      "58a89a43    0.018960\n",
      "9d54950b    0.009456\n",
      "b12b9f85    0.009212\n",
      "17d996e6    0.008960\n",
      "Name: site_domain, dtype: float64\n"
     ]
    }
   ],
   "source": [
    "print('The top 10 site domains that have the most impressions')\n",
    "print((train.site_domain.value_counts()/len(train))[0:10])"
   ]
  },
  {
   "cell_type": "code",
   "execution_count": 46,
   "metadata": {
    "execution": {
     "iopub.execute_input": "2020-12-07T08:20:40.081533Z",
     "iopub.status.busy": "2020-12-07T08:20:40.080724Z",
     "iopub.status.idle": "2020-12-07T08:20:42.358108Z",
     "shell.execute_reply": "2020-12-07T08:20:42.357273Z"
    },
    "papermill": {
     "duration": 2.694016,
     "end_time": "2020-12-07T08:20:42.358241",
     "exception": false,
     "start_time": "2020-12-07T08:20:39.664225",
     "status": "completed"
    },
    "tags": []
   },
   "outputs": [
    {
     "name": "stdout",
     "output_type": "stream",
     "text": [
      "for site domain value: c4e18dd6,  click through rate: 0.12195239253050613\n",
      "for site domain value: f3845767,  click through rate: 0.2055410402389519\n",
      "for site domain value: 7e091613,  click through rate: 0.26011828547039817\n",
      "for site domain value: 7687a86e,  click through rate: 0.4593280558499034\n",
      "for site domain value: 98572c79,  click through rate: 0.27995396440462\n",
      "for site domain value: 16a36ef3,  click through rate: 0.14136324745698262\n",
      "for site domain value: 58a89a43,  click through rate: 0.04208860759493671\n",
      "for site domain value: 9d54950b,  click through rate: 0.10638747884940779\n",
      "for site domain value: b12b9f85,  click through rate: 0.07511940946591403\n",
      "for site domain value: 17d996e6,  click through rate: 0.31651785714285713\n"
     ]
    }
   ],
   "source": [
    "top10_domains = (train.site_domain.value_counts()/len(train))[0:10].index\n",
    "click_avg_list=[]\n",
    "\n",
    "for i in top10_domains:\n",
    "    click_avg=train.loc[np.where((train.site_domain == i))].click.mean()\n",
    "    click_avg_list.append(click_avg)\n",
    "    print(\"for site domain value: {},  click through rate: {}\".format(i,click_avg))"
   ]
  },
  {
   "cell_type": "code",
   "execution_count": 47,
   "metadata": {
    "execution": {
     "iopub.execute_input": "2020-12-07T08:20:42.916361Z",
     "iopub.status.busy": "2020-12-07T08:20:42.804460Z",
     "iopub.status.idle": "2020-12-07T08:20:43.686163Z",
     "shell.execute_reply": "2020-12-07T08:20:43.685067Z"
    },
    "papermill": {
     "duration": 1.196979,
     "end_time": "2020-12-07T08:20:43.686358",
     "exception": false,
     "start_time": "2020-12-07T08:20:42.489379",
     "status": "completed"
    },
    "tags": []
   },
   "outputs": [
    {
     "data": {
      "image/png": "[encoded data removed]",
      "text/plain": [
       "<Figure size 864x432 with 1 Axes>"
      ]
     },
     "metadata": {
      "needs_background": "light"
     },
     "output_type": "display_data"
    }
   ],
   "source": [
    "top10_domain = train[(train.site_domain.isin((train.site_domain.value_counts()/len(train))[0:10].index))]\n",
    "top10_domain_click = top10_domain[top10_domain['click'] == 1]\n",
    "top10_domain.groupby(['site_domain', 'click']).size().unstack().plot(kind='bar', figsize=(12,6), title='Top 10 site domains histogram');"
   ]
  },
  {
   "cell_type": "code",
   "execution_count": 48,
   "metadata": {
    "execution": {
     "iopub.execute_input": "2020-12-07T08:20:43.967859Z",
     "iopub.status.busy": "2020-12-07T08:20:43.967041Z",
     "iopub.status.idle": "2020-12-07T08:20:44.352313Z",
     "shell.execute_reply": "2020-12-07T08:20:44.351341Z"
    },
    "papermill": {
     "duration": 0.525306,
     "end_time": "2020-12-07T08:20:44.352503",
     "exception": false,
     "start_time": "2020-12-07T08:20:43.827197",
     "status": "completed"
    },
    "tags": []
   },
   "outputs": [
    {
     "data": {
      "image/png": "[encoded data removed]",
      "text/plain": [
       "<Figure size 864x432 with 1 Axes>"
      ]
     },
     "metadata": {
      "needs_background": "light"
     },
     "output_type": "display_data"
    }
   ],
   "source": [
    "df_domain = top10_domain[['site_domain','click']].groupby(['site_domain']).count().reset_index()\n",
    "df_domain = df_domain.rename(columns={'click': 'impressions'})\n",
    "df_domain['clicks'] = top10_domain_click[['site_domain','click']].groupby(['site_domain']).count().reset_index()['click']\n",
    "df_domain['CTR'] = df_domain['clicks']/df_domain['impressions']*100\n",
    "sort_domain = df_domain.sort_values(by='CTR',ascending=False)['site_domain'].tolist()\n",
    "plt.figure(figsize=(12,6))\n",
    "sns.barplot(y='CTR', x='site_domain', data=df_domain, order=sort_domain)\n",
    "plt.title('CTR by top 10 site domain');"
   ]
  },
  {
   "cell_type": "markdown",
   "metadata": {
    "papermill": {
     "duration": 0.138091,
     "end_time": "2020-12-07T08:20:44.631353",
     "exception": false,
     "start_time": "2020-12-07T08:20:44.493262",
     "status": "completed"
    },
    "tags": []
   },
   "source": [
    "Similar with the site_id feature, the site_domain feature seems important as well."
   ]
  },
  {
   "cell_type": "markdown",
   "metadata": {
    "papermill": {
     "duration": 0.12905,
     "end_time": "2020-12-07T08:20:44.891433",
     "exception": false,
     "start_time": "2020-12-07T08:20:44.762383",
     "status": "completed"
    },
    "tags": []
   },
   "source": [
    "#### site category"
   ]
  },
  {
   "cell_type": "code",
   "execution_count": 49,
   "metadata": {
    "execution": {
     "iopub.execute_input": "2020-12-07T08:20:45.244399Z",
     "iopub.status.busy": "2020-12-07T08:20:45.243613Z",
     "iopub.status.idle": "2020-12-07T08:20:45.267352Z",
     "shell.execute_reply": "2020-12-07T08:20:45.266397Z"
    },
    "papermill": {
     "duration": 0.243996,
     "end_time": "2020-12-07T08:20:45.267533",
     "exception": false,
     "start_time": "2020-12-07T08:20:45.023537",
     "status": "completed"
    },
    "tags": []
   },
   "outputs": [
    {
     "name": "stdout",
     "output_type": "stream",
     "text": [
      "There are 22 site categories in the data set\n"
     ]
    }
   ],
   "source": [
    "print(\"There are {} site categories in the data set\".format(train.site_category.nunique()))"
   ]
  },
  {
   "cell_type": "code",
   "execution_count": 50,
   "metadata": {
    "execution": {
     "iopub.execute_input": "2020-12-07T08:20:45.811237Z",
     "iopub.status.busy": "2020-12-07T08:20:45.810106Z",
     "iopub.status.idle": "2020-12-07T08:20:45.820537Z",
     "shell.execute_reply": "2020-12-07T08:20:45.819726Z"
    },
    "papermill": {
     "duration": 0.421271,
     "end_time": "2020-12-07T08:20:45.820668",
     "exception": false,
     "start_time": "2020-12-07T08:20:45.399397",
     "status": "completed"
    },
    "tags": []
   },
   "outputs": [
    {
     "name": "stdout",
     "output_type": "stream",
     "text": [
      "The top 10 site categories that have the most impressions\n",
      "50e219e0    0.408853\n",
      "f028772b    0.312812\n",
      "28905ebd    0.182521\n",
      "3e814130    0.076092\n",
      "f66779e6    0.006207\n",
      "75fa27f6    0.003902\n",
      "335d28a8    0.003328\n",
      "76b2941d    0.002587\n",
      "c0dd3be3    0.001051\n",
      "72722551    0.000659\n",
      "Name: site_category, dtype: float64\n"
     ]
    }
   ],
   "source": [
    "print('The top 10 site categories that have the most impressions')\n",
    "print((train.site_category.value_counts()/len(train))[0:10])"
   ]
  },
  {
   "cell_type": "code",
   "execution_count": 51,
   "metadata": {
    "execution": {
     "iopub.execute_input": "2020-12-07T08:20:46.574762Z",
     "iopub.status.busy": "2020-12-07T08:20:46.377572Z",
     "iopub.status.idle": "2020-12-07T08:20:48.646305Z",
     "shell.execute_reply": "2020-12-07T08:20:48.647222Z"
    },
    "papermill": {
     "duration": 2.69559,
     "end_time": "2020-12-07T08:20:48.647443",
     "exception": false,
     "start_time": "2020-12-07T08:20:45.951853",
     "status": "completed"
    },
    "tags": []
   },
   "outputs": [
    {
     "name": "stdout",
     "output_type": "stream",
     "text": [
      "for site category value: 50e219e0,  click through rate: 0.12777697607697633\n",
      "for site category value: f028772b,  click through rate: 0.17920987685894402\n",
      "for site category value: 28905ebd,  click through rate: 0.20743914398891086\n",
      "for site category value: 3e814130,  click through rate: 0.28213215581138623\n",
      "for site category value: f66779e6,  click through rate: 0.03979378121475753\n",
      "for site category value: 75fa27f6,  click through rate: 0.11173757047667862\n",
      "for site category value: 335d28a8,  click through rate: 0.09615384615384616\n",
      "for site category value: 76b2941d,  click through rate: 0.032856590645535366\n",
      "for site category value: c0dd3be3,  click through rate: 0.0922930542340628\n",
      "for site category value: 72722551,  click through rate: 0.06676783004552352\n"
     ]
    }
   ],
   "source": [
    "top10_categories = (train.site_category.value_counts()/len(train))[0:10].index\n",
    "click_avg_list=[]\n",
    "\n",
    "for i in top10_categories:\n",
    "    click_avg=train.loc[np.where((train.site_category == i))].click.mean()\n",
    "    click_avg_list.append(click_avg)\n",
    "    print(\"for site category value: {},  click through rate: {}\".format(i,click_avg))"
   ]
  },
  {
   "cell_type": "code",
   "execution_count": 52,
   "metadata": {
    "execution": {
     "iopub.execute_input": "2020-12-07T08:20:49.202720Z",
     "iopub.status.busy": "2020-12-07T08:20:49.201859Z",
     "iopub.status.idle": "2020-12-07T08:20:49.975184Z",
     "shell.execute_reply": "2020-12-07T08:20:49.974601Z"
    },
    "papermill": {
     "duration": 1.191494,
     "end_time": "2020-12-07T08:20:49.975318",
     "exception": false,
     "start_time": "2020-12-07T08:20:48.783824",
     "status": "completed"
    },
    "tags": []
   },
   "outputs": [
    {
     "data": {
      "image/png": "[encoded data removed]",
      "text/plain": [
       "<Figure size 864x432 with 1 Axes>"
      ]
     },
     "metadata": {
      "needs_background": "light"
     },
     "output_type": "display_data"
    }
   ],
   "source": [
    "top10_category = train[(train.site_category.isin((train.site_category.value_counts()/len(train))[0:10].index))]\n",
    "top10_category_click = top10_category[top10_category['click'] == 1]\n",
    "top10_category.groupby(['site_category', 'click']).size().unstack().plot(kind='bar', figsize=(12,6), title='Top 10 site categories histogram');"
   ]
  },
  {
   "cell_type": "code",
   "execution_count": 53,
   "metadata": {
    "execution": {
     "iopub.execute_input": "2020-12-07T08:20:50.259160Z",
     "iopub.status.busy": "2020-12-07T08:20:50.258328Z",
     "iopub.status.idle": "2020-12-07T08:20:50.688621Z",
     "shell.execute_reply": "2020-12-07T08:20:50.687779Z"
    },
    "papermill": {
     "duration": 0.57704,
     "end_time": "2020-12-07T08:20:50.688757",
     "exception": false,
     "start_time": "2020-12-07T08:20:50.111717",
     "status": "completed"
    },
    "tags": []
   },
   "outputs": [
    {
     "data": {
      "image/png": "[encoded data removed]",
      "text/plain": [
       "<Figure size 864x432 with 1 Axes>"
      ]
     },
     "metadata": {
      "needs_background": "light"
     },
     "output_type": "display_data"
    }
   ],
   "source": [
    "df_category = top10_category[['site_category','click']].groupby(['site_category']).count().reset_index()\n",
    "df_category = df_category.rename(columns={'click': 'impressions'})\n",
    "df_category['clicks'] = top10_category_click[['site_category','click']].groupby(['site_category']).count().reset_index()['click']\n",
    "df_category['CTR'] = df_category['clicks']/df_category['impressions']*100\n",
    "sort_category = df_category.sort_values(by='CTR',ascending=False)['site_category'].tolist()\n",
    "plt.figure(figsize=(12,6))\n",
    "sns.barplot(y='CTR', x='site_category', data=df_category, order=sort_category)\n",
    "plt.title('CTR by top 10 site category');"
   ]
  },
  {
   "cell_type": "markdown",
   "metadata": {
    "papermill": {
     "duration": 0.138351,
     "end_time": "2020-12-07T08:20:50.967968",
     "exception": false,
     "start_time": "2020-12-07T08:20:50.829617",
     "status": "completed"
    },
    "tags": []
   },
   "source": [
    "### Device features\n",
    "\n",
    "#### device id"
   ]
  },
  {
   "cell_type": "code",
   "execution_count": 54,
   "metadata": {
    "execution": {
     "iopub.execute_input": "2020-12-07T08:20:51.345129Z",
     "iopub.status.busy": "2020-12-07T08:20:51.343953Z",
     "iopub.status.idle": "2020-12-07T08:20:51.407647Z",
     "shell.execute_reply": "2020-12-07T08:20:51.406075Z"
    },
    "papermill": {
     "duration": 0.297102,
     "end_time": "2020-12-07T08:20:51.407846",
     "exception": false,
     "start_time": "2020-12-07T08:20:51.110744",
     "status": "completed"
    },
    "tags": []
   },
   "outputs": [
    {
     "name": "stdout",
     "output_type": "stream",
     "text": [
      "There are 149973 devices in the data set\n"
     ]
    }
   ],
   "source": [
    "print(\"There are {} devices in the data set\".format(train.device_id.nunique()))"
   ]
  },
  {
   "cell_type": "code",
   "execution_count": 55,
   "metadata": {
    "execution": {
     "iopub.execute_input": "2020-12-07T08:20:52.134469Z",
     "iopub.status.busy": "2020-12-07T08:20:51.983347Z",
     "iopub.status.idle": "2020-12-07T08:20:52.210261Z",
     "shell.execute_reply": "2020-12-07T08:20:52.211213Z"
    },
    "papermill": {
     "duration": 0.645899,
     "end_time": "2020-12-07T08:20:52.211784",
     "exception": false,
     "start_time": "2020-12-07T08:20:51.565885",
     "status": "completed"
    },
    "tags": []
   },
   "outputs": [
    {
     "name": "stdout",
     "output_type": "stream",
     "text": [
      "The top 10 devices that have the most impressions\n",
      "a99f214a    0.825529\n",
      "0f7c61dc    0.000502\n",
      "c357dbff    0.000482\n",
      "936e92fb    0.000335\n",
      "afeffc18    0.000257\n",
      "987552d1    0.000101\n",
      "28dc8687    0.000100\n",
      "cef4c8cc    0.000100\n",
      "d857ffbb    0.000097\n",
      "b09da1c4    0.000086\n",
      "Name: device_id, dtype: float64\n"
     ]
    }
   ],
   "source": [
    "print('The top 10 devices that have the most impressions')\n",
    "print((train.device_id.value_counts()/len(train))[0:10])"
   ]
  },
  {
   "cell_type": "code",
   "execution_count": 56,
   "metadata": {
    "execution": {
     "iopub.execute_input": "2020-12-07T08:20:52.783185Z",
     "iopub.status.busy": "2020-12-07T08:20:52.782414Z",
     "iopub.status.idle": "2020-12-07T08:20:55.132807Z",
     "shell.execute_reply": "2020-12-07T08:20:55.131426Z"
    },
    "papermill": {
     "duration": 2.757582,
     "end_time": "2020-12-07T08:20:55.132977",
     "exception": false,
     "start_time": "2020-12-07T08:20:52.375395",
     "status": "completed"
    },
    "tags": []
   },
   "outputs": [
    {
     "name": "stdout",
     "output_type": "stream",
     "text": [
      "for device id value: a99f214a,  click through rate: 0.17365713378936415\n",
      "for device id value: 0f7c61dc,  click through rate: 0.7171314741035857\n",
      "for device id value: c357dbff,  click through rate: 0.6473029045643154\n",
      "for device id value: 936e92fb,  click through rate: 0.04776119402985075\n",
      "for device id value: afeffc18,  click through rate: 0.2607003891050584\n",
      "for device id value: 987552d1,  click through rate: 0.0\n",
      "for device id value: 28dc8687,  click through rate: 0.0\n",
      "for device id value: cef4c8cc,  click through rate: 0.21\n",
      "for device id value: d857ffbb,  click through rate: 0.18556701030927836\n",
      "for device id value: b09da1c4,  click through rate: 0.1511627906976744\n"
     ]
    }
   ],
   "source": [
    "top10_devices = (train.device_id.value_counts()/len(train))[0:10].index\n",
    "click_avg_list=[]\n",
    "\n",
    "for i in top10_devices:\n",
    "    click_avg=train.loc[np.where((train.device_id == i))].click.mean()\n",
    "    click_avg_list.append(click_avg)\n",
    "    print(\"for device id value: {},  click through rate: {}\".format(i,click_avg))"
   ]
  },
  {
   "cell_type": "code",
   "execution_count": 57,
   "metadata": {
    "execution": {
     "iopub.execute_input": "2020-12-07T08:20:55.685312Z",
     "iopub.status.busy": "2020-12-07T08:20:55.684464Z",
     "iopub.status.idle": "2020-12-07T08:20:56.644264Z",
     "shell.execute_reply": "2020-12-07T08:20:56.645276Z"
    },
    "papermill": {
     "duration": 1.366784,
     "end_time": "2020-12-07T08:20:56.645552",
     "exception": false,
     "start_time": "2020-12-07T08:20:55.278768",
     "status": "completed"
    },
    "tags": []
   },
   "outputs": [
    {
     "data": {
      "image/png": "[encoded data removed]",
      "text/plain": [
       "<Figure size 864x432 with 1 Axes>"
      ]
     },
     "metadata": {
      "needs_background": "light"
     },
     "output_type": "display_data"
    }
   ],
   "source": [
    "top10_device = train[(train.device_id.isin((train.device_id.value_counts()/len(train))[0:10].index))]\n",
    "top10_device_click = top10_device[top10_device['click'] == 1]\n",
    "top10_device.groupby(['device_id', 'click']).size().unstack().plot(kind='bar', figsize=(12,6), title='Top 10 device ids histogram');"
   ]
  },
  {
   "cell_type": "markdown",
   "metadata": {
    "papermill": {
     "duration": 0.141924,
     "end_time": "2020-12-07T08:20:56.948857",
     "exception": false,
     "start_time": "2020-12-07T08:20:56.806933",
     "status": "completed"
    },
    "tags": []
   },
   "source": [
    "You will see that most of device_id is a99f214a : Approx. 83% of the data, and the second major device_id is only 0.05% of the data. And there are some extremely high CTR here with device id at 0f7c61dc."
   ]
  },
  {
   "cell_type": "markdown",
   "metadata": {
    "papermill": {
     "duration": 0.15473,
     "end_time": "2020-12-07T08:20:57.267259",
     "exception": false,
     "start_time": "2020-12-07T08:20:57.112529",
     "status": "completed"
    },
    "tags": []
   },
   "source": [
    "#### device ip\n",
    "\n",
    "Device ip is more of a users ip address, so, there are a lot of them."
   ]
  },
  {
   "cell_type": "code",
   "execution_count": 58,
   "metadata": {
    "execution": {
     "iopub.execute_input": "2020-12-07T08:20:57.646357Z",
     "iopub.status.busy": "2020-12-07T08:20:57.588920Z",
     "iopub.status.idle": "2020-12-07T08:20:57.986907Z",
     "shell.execute_reply": "2020-12-07T08:20:57.986091Z"
    },
    "papermill": {
     "duration": 0.576762,
     "end_time": "2020-12-07T08:20:57.987045",
     "exception": false,
     "start_time": "2020-12-07T08:20:57.410283",
     "status": "completed"
    },
    "tags": []
   },
   "outputs": [
    {
     "name": "stdout",
     "output_type": "stream",
     "text": [
      "There are 555194 device ips in the data set\n",
      "There are 4 device types in the data set\n",
      "There are 5164 device models in the data set\n",
      "There are 4 device cnn types in the data set\n"
     ]
    }
   ],
   "source": [
    "print(\"There are {} device ips in the data set\".format(train.device_ip.nunique()))\n",
    "print(\"There are {} device types in the data set\".format(train.device_type.nunique()))\n",
    "print(\"There are {} device models in the data set\".format(train.device_model.nunique()))\n",
    "print(\"There are {} device cnn types in the data set\".format(train.device_conn_type.nunique()))"
   ]
  },
  {
   "cell_type": "markdown",
   "metadata": {
    "papermill": {
     "duration": 0.149521,
     "end_time": "2020-12-07T08:20:58.301074",
     "exception": false,
     "start_time": "2020-12-07T08:20:58.151553",
     "status": "completed"
    },
    "tags": []
   },
   "source": [
    "#### device type"
   ]
  },
  {
   "cell_type": "code",
   "execution_count": 59,
   "metadata": {
    "execution": {
     "iopub.execute_input": "2020-12-07T08:20:58.609817Z",
     "iopub.status.busy": "2020-12-07T08:20:58.608931Z",
     "iopub.status.idle": "2020-12-07T08:20:58.626599Z",
     "shell.execute_reply": "2020-12-07T08:20:58.625790Z"
    },
    "papermill": {
     "duration": 0.176773,
     "end_time": "2020-12-07T08:20:58.626730",
     "exception": false,
     "start_time": "2020-12-07T08:20:58.449957",
     "status": "completed"
    },
    "tags": []
   },
   "outputs": [
    {
     "name": "stdout",
     "output_type": "stream",
     "text": [
      "The impressions by device types\n",
      "1    0.923208\n",
      "0    0.054629\n",
      "4    0.018986\n",
      "5    0.003177\n",
      "Name: device_type, dtype: float64\n"
     ]
    }
   ],
   "source": [
    "print('The impressions by device types')\n",
    "print((train.device_type.value_counts()/len(train)))"
   ]
  },
  {
   "cell_type": "code",
   "execution_count": 60,
   "metadata": {
    "execution": {
     "iopub.execute_input": "2020-12-07T08:20:58.952068Z",
     "iopub.status.busy": "2020-12-07T08:20:58.951148Z",
     "iopub.status.idle": "2020-12-07T08:20:59.255848Z",
     "shell.execute_reply": "2020-12-07T08:20:59.256471Z"
    },
    "papermill": {
     "duration": 0.476833,
     "end_time": "2020-12-07T08:20:59.256701",
     "exception": false,
     "start_time": "2020-12-07T08:20:58.779868",
     "status": "completed"
    },
    "tags": []
   },
   "outputs": [
    {
     "data": {
      "image/png": "[encoded data removed]",
      "text/plain": [
       "<Figure size 432x288 with 1 Axes>"
      ]
     },
     "metadata": {
      "needs_background": "light"
     },
     "output_type": "display_data"
    }
   ],
   "source": [
    "train[['device_type','click']].groupby(['device_type','click']).size().unstack().plot(kind='bar', title='device types');"
   ]
  },
  {
   "cell_type": "markdown",
   "metadata": {
    "papermill": {
     "duration": 0.165577,
     "end_time": "2020-12-07T08:20:59.590093",
     "exception": false,
     "start_time": "2020-12-07T08:20:59.424516",
     "status": "completed"
    },
    "tags": []
   },
   "source": [
    "Device type 1 gets the most impressions and clicks. And the other device types only get the minimum impressions and clicks. We may want to look in more details about device type 1. "
   ]
  },
  {
   "cell_type": "code",
   "execution_count": 61,
   "metadata": {
    "execution": {
     "iopub.execute_input": "2020-12-07T08:20:59.907886Z",
     "iopub.status.busy": "2020-12-07T08:20:59.906978Z",
     "iopub.status.idle": "2020-12-07T08:21:00.334870Z",
     "shell.execute_reply": "2020-12-07T08:21:00.334039Z"
    },
    "papermill": {
     "duration": 0.589635,
     "end_time": "2020-12-07T08:21:00.335010",
     "exception": false,
     "start_time": "2020-12-07T08:20:59.745375",
     "status": "completed"
    },
    "scrolled": false,
    "tags": []
   },
   "outputs": [
    {
     "data": {
      "image/png": "[encoded data removed]",
      "text/plain": [
       "<Figure size 864x432 with 1 Axes>"
      ]
     },
     "metadata": {
      "needs_background": "light"
     },
     "output_type": "display_data"
    }
   ],
   "source": [
    "df_click[df_click['device_type']==1].groupby(['hour_of_day', 'click']).size().unstack().plot(kind='bar', title=\"Clicks from device type 1 by hour of day\", figsize=(12,6));"
   ]
  },
  {
   "cell_type": "markdown",
   "metadata": {
    "papermill": {
     "duration": 0.164551,
     "end_time": "2020-12-07T08:21:00.656861",
     "exception": false,
     "start_time": "2020-12-07T08:21:00.492310",
     "status": "completed"
    },
    "tags": []
   },
   "source": [
    "As expected, most clicks happened during the business hours from device type 1. device type is definitely an important feature. "
   ]
  },
  {
   "cell_type": "code",
   "execution_count": 62,
   "metadata": {
    "execution": {
     "iopub.execute_input": "2020-12-07T08:21:00.972280Z",
     "iopub.status.busy": "2020-12-07T08:21:00.971406Z",
     "iopub.status.idle": "2020-12-07T08:21:01.015644Z",
     "shell.execute_reply": "2020-12-07T08:21:01.016242Z"
    },
    "papermill": {
     "duration": 0.208464,
     "end_time": "2020-12-07T08:21:01.016646",
     "exception": false,
     "start_time": "2020-12-07T08:21:00.808182",
     "status": "completed"
    },
    "tags": []
   },
   "outputs": [],
   "source": [
    "device_type_click = df_click.groupby('device_type').agg({'click':'sum'}).reset_index()\n",
    "device_type_impression = train.groupby('device_type').agg({'click':'count'}).reset_index().rename(columns={'click': 'impressions'})\n",
    "merged_device_type = pd.merge(left = device_type_click , right = device_type_impression, how = 'inner', on = 'device_type')"
   ]
  },
  {
   "cell_type": "code",
   "execution_count": 63,
   "metadata": {
    "execution": {
     "iopub.execute_input": "2020-12-07T08:21:01.423832Z",
     "iopub.status.busy": "2020-12-07T08:21:01.422923Z",
     "iopub.status.idle": "2020-12-07T08:21:01.427228Z",
     "shell.execute_reply": "2020-12-07T08:21:01.426426Z"
    },
    "papermill": {
     "duration": 0.215499,
     "end_time": "2020-12-07T08:21:01.427381",
     "exception": false,
     "start_time": "2020-12-07T08:21:01.211882",
     "status": "completed"
    },
    "tags": []
   },
   "outputs": [],
   "source": [
    "merged_device_type['CTR'] = merged_device_type['click'] / merged_device_type['impressions']*100"
   ]
  },
  {
   "cell_type": "code",
   "execution_count": 64,
   "metadata": {
    "execution": {
     "iopub.execute_input": "2020-12-07T08:21:01.756329Z",
     "iopub.status.busy": "2020-12-07T08:21:01.754823Z",
     "iopub.status.idle": "2020-12-07T08:21:01.761750Z",
     "shell.execute_reply": "2020-12-07T08:21:01.760911Z"
    },
    "papermill": {
     "duration": 0.179771,
     "end_time": "2020-12-07T08:21:01.761889",
     "exception": false,
     "start_time": "2020-12-07T08:21:01.582118",
     "status": "completed"
    },
    "tags": []
   },
   "outputs": [
    {
     "data": {
      "text/html": [
       "<div>\n",
       "<style scoped>\n",
       "    .dataframe tbody tr th:only-of-type {\n",
       "        vertical-align: middle;\n",
       "    }\n",
       "\n",
       "    .dataframe tbody tr th {\n",
       "        vertical-align: top;\n",
       "    }\n",
       "\n",
       "    .dataframe thead th {\n",
       "        text-align: right;\n",
       "    }\n",
       "</style>\n",
       "<table border=\"1\" class=\"dataframe\">\n",
       "  <thead>\n",
       "    <tr style=\"text-align: right;\">\n",
       "      <th></th>\n",
       "      <th>device_type</th>\n",
       "      <th>click</th>\n",
       "      <th>impressions</th>\n",
       "      <th>CTR</th>\n",
       "    </tr>\n",
       "  </thead>\n",
       "  <tbody>\n",
       "    <tr>\n",
       "      <th>0</th>\n",
       "      <td>0</td>\n",
       "      <td>11397</td>\n",
       "      <td>54629</td>\n",
       "      <td>20.862546</td>\n",
       "    </tr>\n",
       "    <tr>\n",
       "      <th>1</th>\n",
       "      <td>1</td>\n",
       "      <td>155823</td>\n",
       "      <td>923208</td>\n",
       "      <td>16.878428</td>\n",
       "    </tr>\n",
       "    <tr>\n",
       "      <th>2</th>\n",
       "      <td>4</td>\n",
       "      <td>1784</td>\n",
       "      <td>18986</td>\n",
       "      <td>9.396397</td>\n",
       "    </tr>\n",
       "    <tr>\n",
       "      <th>3</th>\n",
       "      <td>5</td>\n",
       "      <td>291</td>\n",
       "      <td>3177</td>\n",
       "      <td>9.159585</td>\n",
       "    </tr>\n",
       "  </tbody>\n",
       "</table>\n",
       "</div>"
      ],
      "text/plain": [
       "   device_type   click  impressions        CTR\n",
       "0            0   11397        54629  20.862546\n",
       "1            1  155823       923208  16.878428\n",
       "2            4    1784        18986   9.396397\n",
       "3            5     291         3177   9.159585"
      ]
     },
     "execution_count": 64,
     "metadata": {},
     "output_type": "execute_result"
    }
   ],
   "source": [
    "merged_device_type"
   ]
  },
  {
   "cell_type": "markdown",
   "metadata": {
    "papermill": {
     "duration": 0.155054,
     "end_time": "2020-12-07T08:21:02.071819",
     "exception": false,
     "start_time": "2020-12-07T08:21:01.916765",
     "status": "completed"
    },
    "tags": []
   },
   "source": [
    "The highest CTR comes from device type 0."
   ]
  },
  {
   "cell_type": "markdown",
   "metadata": {
    "papermill": {
     "duration": 0.147657,
     "end_time": "2020-12-07T08:21:02.375000",
     "exception": false,
     "start_time": "2020-12-07T08:21:02.227343",
     "status": "completed"
    },
    "tags": []
   },
   "source": [
    "#### app features"
   ]
  },
  {
   "cell_type": "code",
   "execution_count": 65,
   "metadata": {
    "execution": {
     "iopub.execute_input": "2020-12-07T08:21:02.749390Z",
     "iopub.status.busy": "2020-12-07T08:21:02.748571Z",
     "iopub.status.idle": "2020-12-07T08:21:02.962469Z",
     "shell.execute_reply": "2020-12-07T08:21:02.961837Z"
    },
    "papermill": {
     "duration": 0.439082,
     "end_time": "2020-12-07T08:21:02.962627",
     "exception": false,
     "start_time": "2020-12-07T08:21:02.523545",
     "status": "completed"
    },
    "tags": []
   },
   "outputs": [
    {
     "name": "stdout",
     "output_type": "stream",
     "text": [
      "There are 3150 apps in the data set\n",
      "There are 194 app domains in the data set\n",
      "There are 26 app categories in the data set\n"
     ]
    }
   ],
   "source": [
    "print(\"There are {} apps in the data set\".format(train.app_id.nunique()))\n",
    "print(\"There are {} app domains in the data set\".format(train.app_domain.nunique()))\n",
    "print(\"There are {} app categories in the data set\".format(train.app_category.nunique()))"
   ]
  },
  {
   "cell_type": "markdown",
   "metadata": {
    "papermill": {
     "duration": 0.152799,
     "end_time": "2020-12-07T08:21:03.274391",
     "exception": false,
     "start_time": "2020-12-07T08:21:03.121592",
     "status": "completed"
    },
    "tags": []
   },
   "source": [
    "Looks like app category something worth to explore."
   ]
  },
  {
   "cell_type": "code",
   "execution_count": 66,
   "metadata": {
    "execution": {
     "iopub.execute_input": "2020-12-07T08:21:03.945272Z",
     "iopub.status.busy": "2020-12-07T08:21:03.942211Z",
     "iopub.status.idle": "2020-12-07T08:21:03.952010Z",
     "shell.execute_reply": "2020-12-07T08:21:03.950682Z"
    },
    "papermill": {
     "duration": 0.504114,
     "end_time": "2020-12-07T08:21:03.952214",
     "exception": false,
     "start_time": "2020-12-07T08:21:03.448100",
     "status": "completed"
    },
    "tags": []
   },
   "outputs": [
    {
     "name": "stdout",
     "output_type": "stream",
     "text": [
      "The impressions by app categories\n",
      "07d7df22    0.647094\n",
      "0f2161f8    0.236657\n",
      "cef3e649    0.042900\n",
      "8ded1f7a    0.036355\n",
      "f95efa07    0.028002\n",
      "d1327cf5    0.003047\n",
      "dc97ec06    0.001342\n",
      "09481d60    0.001319\n",
      "75d80bbe    0.001034\n",
      "fc6fa53d    0.000601\n",
      "4ce2e9fc    0.000523\n",
      "a3c42688    0.000297\n",
      "879c24eb    0.000282\n",
      "4681bb9d    0.000165\n",
      "0f9a328c    0.000149\n",
      "a86a3e89    0.000071\n",
      "2281a340    0.000063\n",
      "8df2e842    0.000044\n",
      "79f0b860    0.000017\n",
      "a7fd01ec    0.000009\n",
      "18b1e0be    0.000009\n",
      "7113d72a    0.000007\n",
      "2fc4f2aa    0.000006\n",
      "0bfbc358    0.000005\n",
      "86c1a5a3    0.000001\n",
      "bf8ac856    0.000001\n",
      "Name: app_category, dtype: float64\n"
     ]
    }
   ],
   "source": [
    "print('The impressions by app categories')\n",
    "print((train.app_category.value_counts()/len(train)))"
   ]
  },
  {
   "cell_type": "code",
   "execution_count": 67,
   "metadata": {
    "execution": {
     "iopub.execute_input": "2020-12-07T08:21:04.503063Z",
     "iopub.status.busy": "2020-12-07T08:21:04.501990Z",
     "iopub.status.idle": "2020-12-07T08:21:05.010259Z",
     "shell.execute_reply": "2020-12-07T08:21:05.009393Z"
    },
    "papermill": {
     "duration": 0.881517,
     "end_time": "2020-12-07T08:21:05.010396",
     "exception": false,
     "start_time": "2020-12-07T08:21:04.128879",
     "status": "completed"
    },
    "tags": []
   },
   "outputs": [
    {
     "data": {
      "text/plain": [
       "<matplotlib.axes._subplots.AxesSubplot at 0x7f404675ce50>"
      ]
     },
     "execution_count": 67,
     "metadata": {},
     "output_type": "execute_result"
    },
    {
     "data": {
      "image/png": "[encoded data removed]",
      "text/plain": [
       "<Figure size 432x288 with 1 Axes>"
      ]
     },
     "metadata": {
      "needs_background": "light"
     },
     "output_type": "display_data"
    }
   ],
   "source": [
    "train['app_category'].value_counts().plot(kind='bar', title='App Category v/s Clicks')"
   ]
  },
  {
   "cell_type": "code",
   "execution_count": 68,
   "metadata": {
    "execution": {
     "iopub.execute_input": "2020-12-07T08:21:05.408655Z",
     "iopub.status.busy": "2020-12-07T08:21:05.407784Z",
     "iopub.status.idle": "2020-12-07T08:21:06.036783Z",
     "shell.execute_reply": "2020-12-07T08:21:06.035826Z"
    },
    "papermill": {
     "duration": 0.830977,
     "end_time": "2020-12-07T08:21:06.036940",
     "exception": false,
     "start_time": "2020-12-07T08:21:05.205963",
     "status": "completed"
    },
    "tags": []
   },
   "outputs": [
    {
     "data": {
      "image/png": "[encoded data removed]",
      "text/plain": [
       "<Figure size 432x288 with 1 Axes>"
      ]
     },
     "metadata": {
      "needs_background": "light"
     },
     "output_type": "display_data"
    }
   ],
   "source": [
    "train_app_category = train.groupby(['app_category', 'click']).size().unstack()\n",
    "train_app_category.div(train_app_category.sum(axis=1), axis=0).plot(kind='bar', stacked=True, title=\"Intra-category CTR\");"
   ]
  },
  {
   "cell_type": "markdown",
   "metadata": {
    "papermill": {
     "duration": 0.173646,
     "end_time": "2020-12-07T08:21:06.388767",
     "exception": false,
     "start_time": "2020-12-07T08:21:06.215121",
     "status": "completed"
    },
    "tags": []
   },
   "source": [
    "#### C14 - C21 features"
   ]
  },
  {
   "cell_type": "code",
   "execution_count": 69,
   "metadata": {
    "execution": {
     "iopub.execute_input": "2020-12-07T08:21:06.754753Z",
     "iopub.status.busy": "2020-12-07T08:21:06.753576Z",
     "iopub.status.idle": "2020-12-07T08:21:06.803272Z",
     "shell.execute_reply": "2020-12-07T08:21:06.801344Z"
    },
    "papermill": {
     "duration": 0.238113,
     "end_time": "2020-12-07T08:21:06.803640",
     "exception": false,
     "start_time": "2020-12-07T08:21:06.565527",
     "status": "completed"
    },
    "tags": []
   },
   "outputs": [
    {
     "name": "stdout",
     "output_type": "stream",
     "text": [
      "There are 2257 C14 in the data set\n",
      "There are 8 C15 in the data set\n",
      "There are 9 C16 in the data set\n",
      "There are 421 C17 in the data set\n",
      "There are 4 C18 in the data set\n",
      "There are 66 C19 in the data set\n",
      "There are 164 C20 in the data set\n"
     ]
    }
   ],
   "source": [
    "print(\"There are {} C14 in the data set\".format(train.C14.nunique()))\n",
    "print(\"There are {} C15 in the data set\".format(train.C15.nunique()))\n",
    "print(\"There are {} C16 in the data set\".format(train.C16.nunique()))\n",
    "print(\"There are {} C17 in the data set\".format(train.C17.nunique()))\n",
    "print(\"There are {} C18 in the data set\".format(train.C18.nunique()))\n",
    "print(\"There are {} C19 in the data set\".format(train.C19.nunique()))\n",
    "print(\"There are {} C20 in the data set\".format(train.C20.nunique()))"
   ]
  },
  {
   "cell_type": "code",
   "execution_count": 70,
   "metadata": {
    "execution": {
     "iopub.execute_input": "2020-12-07T08:21:07.136872Z",
     "iopub.status.busy": "2020-12-07T08:21:07.136042Z",
     "iopub.status.idle": "2020-12-07T08:21:07.429745Z",
     "shell.execute_reply": "2020-12-07T08:21:07.428932Z"
    },
    "papermill": {
     "duration": 0.46392,
     "end_time": "2020-12-07T08:21:07.429885",
     "exception": false,
     "start_time": "2020-12-07T08:21:06.965965",
     "status": "completed"
    },
    "tags": []
   },
   "outputs": [
    {
     "data": {
      "image/png": "[encoded data removed]",
      "text/plain": [
       "<Figure size 432x288 with 1 Axes>"
      ]
     },
     "metadata": {
      "needs_background": "light"
     },
     "output_type": "display_data"
    }
   ],
   "source": [
    "train.groupby(['C15', 'click']).size().unstack().plot(kind='bar', stacked=True, title='C15 distribution');"
   ]
  },
  {
   "cell_type": "code",
   "execution_count": 71,
   "metadata": {
    "execution": {
     "iopub.execute_input": "2020-12-07T08:21:07.794862Z",
     "iopub.status.busy": "2020-12-07T08:21:07.794020Z",
     "iopub.status.idle": "2020-12-07T08:21:08.134916Z",
     "shell.execute_reply": "2020-12-07T08:21:08.133958Z"
    },
    "papermill": {
     "duration": 0.533372,
     "end_time": "2020-12-07T08:21:08.135088",
     "exception": false,
     "start_time": "2020-12-07T08:21:07.601716",
     "status": "completed"
    },
    "tags": []
   },
   "outputs": [
    {
     "data": {
      "image/png": "[encoded data removed]",
      "text/plain": [
       "<Figure size 432x288 with 1 Axes>"
      ]
     },
     "metadata": {
      "needs_background": "light"
     },
     "output_type": "display_data"
    }
   ],
   "source": [
    "train.groupby(['C16', 'click']).size().unstack().plot(kind='bar', stacked=True, title='C16 distribution');"
   ]
  },
  {
   "cell_type": "code",
   "execution_count": 72,
   "metadata": {
    "execution": {
     "iopub.execute_input": "2020-12-07T08:21:08.544922Z",
     "iopub.status.busy": "2020-12-07T08:21:08.543593Z",
     "iopub.status.idle": "2020-12-07T08:21:08.841693Z",
     "shell.execute_reply": "2020-12-07T08:21:08.841043Z"
    },
    "papermill": {
     "duration": 0.505909,
     "end_time": "2020-12-07T08:21:08.841834",
     "exception": false,
     "start_time": "2020-12-07T08:21:08.335925",
     "status": "completed"
    },
    "tags": []
   },
   "outputs": [
    {
     "data": {
      "image/png": "[encoded data removed]",
      "text/plain": [
       "<Figure size 432x288 with 1 Axes>"
      ]
     },
     "metadata": {
      "needs_background": "light"
     },
     "output_type": "display_data"
    }
   ],
   "source": [
    "train.groupby(['C18', 'click']).size().unstack().plot(kind='bar', stacked=True, title='C18 distribution');"
   ]
  },
  {
   "cell_type": "code",
   "execution_count": 73,
   "metadata": {
    "execution": {
     "iopub.execute_input": "2020-12-07T08:21:09.244209Z",
     "iopub.status.busy": "2020-12-07T08:21:09.243279Z",
     "iopub.status.idle": "2020-12-07T08:21:09.249992Z",
     "shell.execute_reply": "2020-12-07T08:21:09.249226Z"
    },
    "papermill": {
     "duration": 0.226817,
     "end_time": "2020-12-07T08:21:09.250146",
     "exception": false,
     "start_time": "2020-12-07T08:21:09.023329",
     "status": "completed"
    },
    "tags": []
   },
   "outputs": [
    {
     "data": {
      "text/html": [
       "<div>\n",
       "<style scoped>\n",
       "    .dataframe tbody tr th:only-of-type {\n",
       "        vertical-align: middle;\n",
       "    }\n",
       "\n",
       "    .dataframe tbody tr th {\n",
       "        vertical-align: top;\n",
       "    }\n",
       "\n",
       "    .dataframe thead th {\n",
       "        text-align: right;\n",
       "    }\n",
       "</style>\n",
       "<table border=\"1\" class=\"dataframe\">\n",
       "  <thead>\n",
       "    <tr style=\"text-align: right;\">\n",
       "      <th></th>\n",
       "      <th>id</th>\n",
       "      <th>click</th>\n",
       "      <th>hour</th>\n",
       "      <th>C1</th>\n",
       "      <th>banner_pos</th>\n",
       "      <th>site_id</th>\n",
       "      <th>site_domain</th>\n",
       "      <th>site_category</th>\n",
       "      <th>app_id</th>\n",
       "      <th>app_domain</th>\n",
       "      <th>...</th>\n",
       "      <th>C14</th>\n",
       "      <th>C15</th>\n",
       "      <th>C16</th>\n",
       "      <th>C17</th>\n",
       "      <th>C18</th>\n",
       "      <th>C19</th>\n",
       "      <th>C20</th>\n",
       "      <th>C21</th>\n",
       "      <th>hour_of_day</th>\n",
       "      <th>day_of_week</th>\n",
       "    </tr>\n",
       "  </thead>\n",
       "  <tbody>\n",
       "    <tr>\n",
       "      <th>0</th>\n",
       "      <td>10000371904215119486</td>\n",
       "      <td>0</td>\n",
       "      <td>2014-10-21</td>\n",
       "      <td>1005</td>\n",
       "      <td>0</td>\n",
       "      <td>1fbe01fe</td>\n",
       "      <td>f3845767</td>\n",
       "      <td>28905ebd</td>\n",
       "      <td>ecad2386</td>\n",
       "      <td>7801e8d9</td>\n",
       "      <td>...</td>\n",
       "      <td>15704</td>\n",
       "      <td>320</td>\n",
       "      <td>50</td>\n",
       "      <td>1722</td>\n",
       "      <td>0</td>\n",
       "      <td>35</td>\n",
       "      <td>100084</td>\n",
       "      <td>79</td>\n",
       "      <td>0</td>\n",
       "      <td>Tuesday</td>\n",
       "    </tr>\n",
       "    <tr>\n",
       "      <th>1</th>\n",
       "      <td>10005334911727438633</td>\n",
       "      <td>0</td>\n",
       "      <td>2014-10-21</td>\n",
       "      <td>1010</td>\n",
       "      <td>1</td>\n",
       "      <td>85f751fd</td>\n",
       "      <td>c4e18dd6</td>\n",
       "      <td>50e219e0</td>\n",
       "      <td>ffc6ffd0</td>\n",
       "      <td>7801e8d9</td>\n",
       "      <td>...</td>\n",
       "      <td>21665</td>\n",
       "      <td>320</td>\n",
       "      <td>50</td>\n",
       "      <td>2493</td>\n",
       "      <td>3</td>\n",
       "      <td>35</td>\n",
       "      <td>-1</td>\n",
       "      <td>117</td>\n",
       "      <td>0</td>\n",
       "      <td>Tuesday</td>\n",
       "    </tr>\n",
       "    <tr>\n",
       "      <th>2</th>\n",
       "      <td>10018283997673108970</td>\n",
       "      <td>0</td>\n",
       "      <td>2014-10-21</td>\n",
       "      <td>1002</td>\n",
       "      <td>0</td>\n",
       "      <td>75f43c5a</td>\n",
       "      <td>c4e18dd6</td>\n",
       "      <td>50e219e0</td>\n",
       "      <td>ecad2386</td>\n",
       "      <td>7801e8d9</td>\n",
       "      <td>...</td>\n",
       "      <td>21665</td>\n",
       "      <td>320</td>\n",
       "      <td>50</td>\n",
       "      <td>2493</td>\n",
       "      <td>3</td>\n",
       "      <td>35</td>\n",
       "      <td>-1</td>\n",
       "      <td>117</td>\n",
       "      <td>0</td>\n",
       "      <td>Tuesday</td>\n",
       "    </tr>\n",
       "  </tbody>\n",
       "</table>\n",
       "<p>3 rows × 26 columns</p>\n",
       "</div>"
      ],
      "text/plain": [
       "                     id  click       hour    C1  banner_pos   site_id  \\\n",
       "0  10000371904215119486      0 2014-10-21  1005           0  1fbe01fe   \n",
       "1  10005334911727438633      0 2014-10-21  1010           1  85f751fd   \n",
       "2  10018283997673108970      0 2014-10-21  1002           0  75f43c5a   \n",
       "\n",
       "  site_domain site_category    app_id app_domain  ...    C14  C15 C16   C17  \\\n",
       "0    f3845767      28905ebd  ecad2386   7801e8d9  ...  15704  320  50  1722   \n",
       "1    c4e18dd6      50e219e0  ffc6ffd0   7801e8d9  ...  21665  320  50  2493   \n",
       "2    c4e18dd6      50e219e0  ecad2386   7801e8d9  ...  21665  320  50  2493   \n",
       "\n",
       "   C18  C19     C20  C21  hour_of_day  day_of_week  \n",
       "0    0   35  100084   79            0      Tuesday  \n",
       "1    3   35      -1  117            0      Tuesday  \n",
       "2    3   35      -1  117            0      Tuesday  \n",
       "\n",
       "[3 rows x 26 columns]"
      ]
     },
     "execution_count": 73,
     "metadata": {},
     "output_type": "execute_result"
    }
   ],
   "source": [
    "train.head(3)"
   ]
  },
  {
   "cell_type": "code",
   "execution_count": 74,
   "metadata": {
    "execution": {
     "iopub.execute_input": "2020-12-07T08:21:09.600595Z",
     "iopub.status.busy": "2020-12-07T08:21:09.599689Z",
     "iopub.status.idle": "2020-12-07T08:21:20.802842Z",
     "shell.execute_reply": "2020-12-07T08:21:20.803423Z"
    },
    "papermill": {
     "duration": 11.385682,
     "end_time": "2020-12-07T08:21:20.803626",
     "exception": false,
     "start_time": "2020-12-07T08:21:09.417944",
     "status": "completed"
    },
    "tags": []
   },
   "outputs": [],
   "source": [
    "def convert_obj_to_int(self):\n",
    "    \n",
    "    object_list_columns = self.columns\n",
    "    object_list_dtypes = self.dtypes\n",
    "    new_col_suffix = '_int'\n",
    "    for index in range(0,len(object_list_columns)):\n",
    "        if object_list_dtypes[index] == object :\n",
    "            self[object_list_columns[index]+new_col_suffix] = self[object_list_columns[index]].map( lambda  x: hash(x))\n",
    "            self.drop([object_list_columns[index]],inplace=True,axis=1)\n",
    "    return self\n",
    "train = convert_obj_to_int(train)"
   ]
  },
  {
   "cell_type": "code",
   "execution_count": 75,
   "metadata": {
    "execution": {
     "iopub.execute_input": "2020-12-07T08:21:21.126016Z",
     "iopub.status.busy": "2020-12-07T08:21:21.125038Z",
     "iopub.status.idle": "2020-12-07T08:21:22.278065Z",
     "shell.execute_reply": "2020-12-07T08:21:22.277244Z"
    },
    "papermill": {
     "duration": 1.318084,
     "end_time": "2020-12-07T08:21:22.278195",
     "exception": false,
     "start_time": "2020-12-07T08:21:20.960111",
     "status": "completed"
    },
    "tags": []
   },
   "outputs": [],
   "source": [
    "test=convert_obj_to_int(test)"
   ]
  },
  {
   "cell_type": "code",
   "execution_count": 76,
   "metadata": {
    "execution": {
     "iopub.execute_input": "2020-12-07T08:21:22.614186Z",
     "iopub.status.busy": "2020-12-07T08:21:22.613154Z",
     "iopub.status.idle": "2020-12-07T08:21:22.618382Z",
     "shell.execute_reply": "2020-12-07T08:21:22.617580Z"
    },
    "papermill": {
     "duration": 0.18492,
     "end_time": "2020-12-07T08:21:22.618532",
     "exception": false,
     "start_time": "2020-12-07T08:21:22.433612",
     "status": "completed"
    },
    "tags": []
   },
   "outputs": [
    {
     "data": {
      "text/html": [
       "<div>\n",
       "<style scoped>\n",
       "    .dataframe tbody tr th:only-of-type {\n",
       "        vertical-align: middle;\n",
       "    }\n",
       "\n",
       "    .dataframe tbody tr th {\n",
       "        vertical-align: top;\n",
       "    }\n",
       "\n",
       "    .dataframe thead th {\n",
       "        text-align: right;\n",
       "    }\n",
       "</style>\n",
       "<table border=\"1\" class=\"dataframe\">\n",
       "  <thead>\n",
       "    <tr style=\"text-align: right;\">\n",
       "      <th></th>\n",
       "      <th>id</th>\n",
       "      <th>click</th>\n",
       "      <th>hour</th>\n",
       "      <th>C1</th>\n",
       "      <th>banner_pos</th>\n",
       "      <th>device_type</th>\n",
       "      <th>device_conn_type</th>\n",
       "      <th>C14</th>\n",
       "      <th>C15</th>\n",
       "      <th>C16</th>\n",
       "      <th>...</th>\n",
       "      <th>site_id_int</th>\n",
       "      <th>site_domain_int</th>\n",
       "      <th>site_category_int</th>\n",
       "      <th>app_id_int</th>\n",
       "      <th>app_domain_int</th>\n",
       "      <th>app_category_int</th>\n",
       "      <th>device_id_int</th>\n",
       "      <th>device_ip_int</th>\n",
       "      <th>device_model_int</th>\n",
       "      <th>day_of_week_int</th>\n",
       "    </tr>\n",
       "  </thead>\n",
       "  <tbody>\n",
       "    <tr>\n",
       "      <th>0</th>\n",
       "      <td>10000371904215119486</td>\n",
       "      <td>0</td>\n",
       "      <td>2014-10-21</td>\n",
       "      <td>1005</td>\n",
       "      <td>0</td>\n",
       "      <td>1</td>\n",
       "      <td>0</td>\n",
       "      <td>15704</td>\n",
       "      <td>320</td>\n",
       "      <td>50</td>\n",
       "      <td>...</td>\n",
       "      <td>6573678077052653579</td>\n",
       "      <td>-5366300502697991171</td>\n",
       "      <td>864823366219062554</td>\n",
       "      <td>4783731206237697471</td>\n",
       "      <td>-8512906225409388542</td>\n",
       "      <td>6922234500712782662</td>\n",
       "      <td>6294556526574933194</td>\n",
       "      <td>-3031503058173903380</td>\n",
       "      <td>6031632229478728305</td>\n",
       "      <td>-7032259346425029848</td>\n",
       "    </tr>\n",
       "    <tr>\n",
       "      <th>1</th>\n",
       "      <td>10005334911727438633</td>\n",
       "      <td>0</td>\n",
       "      <td>2014-10-21</td>\n",
       "      <td>1010</td>\n",
       "      <td>1</td>\n",
       "      <td>4</td>\n",
       "      <td>0</td>\n",
       "      <td>21665</td>\n",
       "      <td>320</td>\n",
       "      <td>50</td>\n",
       "      <td>...</td>\n",
       "      <td>2362145463585156537</td>\n",
       "      <td>-3768907907022545077</td>\n",
       "      <td>-8832487363440701630</td>\n",
       "      <td>810373345596767033</td>\n",
       "      <td>-8512906225409388542</td>\n",
       "      <td>-8261289060919990666</td>\n",
       "      <td>-6817893076965448887</td>\n",
       "      <td>-1794769522316100073</td>\n",
       "      <td>443208518043421105</td>\n",
       "      <td>-7032259346425029848</td>\n",
       "    </tr>\n",
       "    <tr>\n",
       "      <th>2</th>\n",
       "      <td>10018283997673108970</td>\n",
       "      <td>0</td>\n",
       "      <td>2014-10-21</td>\n",
       "      <td>1002</td>\n",
       "      <td>0</td>\n",
       "      <td>0</td>\n",
       "      <td>0</td>\n",
       "      <td>21665</td>\n",
       "      <td>320</td>\n",
       "      <td>50</td>\n",
       "      <td>...</td>\n",
       "      <td>-1144697358625376339</td>\n",
       "      <td>-3768907907022545077</td>\n",
       "      <td>-8832487363440701630</td>\n",
       "      <td>4783731206237697471</td>\n",
       "      <td>-8512906225409388542</td>\n",
       "      <td>6922234500712782662</td>\n",
       "      <td>5819594717964669202</td>\n",
       "      <td>2531113938756708850</td>\n",
       "      <td>-3879721948086980952</td>\n",
       "      <td>-7032259346425029848</td>\n",
       "    </tr>\n",
       "  </tbody>\n",
       "</table>\n",
       "<p>3 rows × 26 columns</p>\n",
       "</div>"
      ],
      "text/plain": [
       "                     id  click       hour    C1  banner_pos  device_type  \\\n",
       "0  10000371904215119486      0 2014-10-21  1005           0            1   \n",
       "1  10005334911727438633      0 2014-10-21  1010           1            4   \n",
       "2  10018283997673108970      0 2014-10-21  1002           0            0   \n",
       "\n",
       "   device_conn_type    C14  C15  C16  ...          site_id_int  \\\n",
       "0                 0  15704  320   50  ...  6573678077052653579   \n",
       "1                 0  21665  320   50  ...  2362145463585156537   \n",
       "2                 0  21665  320   50  ... -1144697358625376339   \n",
       "\n",
       "       site_domain_int    site_category_int           app_id_int  \\\n",
       "0 -5366300502697991171   864823366219062554  4783731206237697471   \n",
       "1 -3768907907022545077 -8832487363440701630   810373345596767033   \n",
       "2 -3768907907022545077 -8832487363440701630  4783731206237697471   \n",
       "\n",
       "        app_domain_int     app_category_int        device_id_int  \\\n",
       "0 -8512906225409388542  6922234500712782662  6294556526574933194   \n",
       "1 -8512906225409388542 -8261289060919990666 -6817893076965448887   \n",
       "2 -8512906225409388542  6922234500712782662  5819594717964669202   \n",
       "\n",
       "         device_ip_int     device_model_int      day_of_week_int  \n",
       "0 -3031503058173903380  6031632229478728305 -7032259346425029848  \n",
       "1 -1794769522316100073   443208518043421105 -7032259346425029848  \n",
       "2  2531113938756708850 -3879721948086980952 -7032259346425029848  \n",
       "\n",
       "[3 rows x 26 columns]"
      ]
     },
     "execution_count": 76,
     "metadata": {},
     "output_type": "execute_result"
    }
   ],
   "source": [
    "train.head(3)"
   ]
  },
  {
   "cell_type": "code",
   "execution_count": 77,
   "metadata": {
    "execution": {
     "iopub.execute_input": "2020-12-07T08:21:22.952809Z",
     "iopub.status.busy": "2020-12-07T08:21:22.951965Z",
     "iopub.status.idle": "2020-12-07T08:21:23.031619Z",
     "shell.execute_reply": "2020-12-07T08:21:23.030861Z"
    },
    "papermill": {
     "duration": 0.25003,
     "end_time": "2020-12-07T08:21:23.031756",
     "exception": false,
     "start_time": "2020-12-07T08:21:22.781726",
     "status": "completed"
    },
    "tags": []
   },
   "outputs": [],
   "source": [
    "train.drop('hour', axis=1, inplace=True)"
   ]
  },
  {
   "cell_type": "code",
   "execution_count": 78,
   "metadata": {
    "execution": {
     "iopub.execute_input": "2020-12-07T08:21:23.382725Z",
     "iopub.status.busy": "2020-12-07T08:21:23.381300Z",
     "iopub.status.idle": "2020-12-07T08:21:23.390239Z",
     "shell.execute_reply": "2020-12-07T08:21:23.389407Z"
    },
    "papermill": {
     "duration": 0.18054,
     "end_time": "2020-12-07T08:21:23.390366",
     "exception": false,
     "start_time": "2020-12-07T08:21:23.209826",
     "status": "completed"
    },
    "tags": []
   },
   "outputs": [],
   "source": [
    "test.drop('hour', axis=1, inplace=True)"
   ]
  },
  {
   "cell_type": "code",
   "execution_count": 79,
   "metadata": {
    "execution": {
     "iopub.execute_input": "2020-12-07T08:21:23.794024Z",
     "iopub.status.busy": "2020-12-07T08:21:23.792867Z",
     "iopub.status.idle": "2020-12-07T08:21:23.797778Z",
     "shell.execute_reply": "2020-12-07T08:21:23.797004Z"
    },
    "papermill": {
     "duration": 0.240533,
     "end_time": "2020-12-07T08:21:23.797905",
     "exception": false,
     "start_time": "2020-12-07T08:21:23.557372",
     "status": "completed"
    },
    "tags": []
   },
   "outputs": [],
   "source": [
    "train.drop('id', axis=1, inplace=True)"
   ]
  },
  {
   "cell_type": "code",
   "execution_count": 80,
   "metadata": {
    "execution": {
     "iopub.execute_input": "2020-12-07T08:21:24.125237Z",
     "iopub.status.busy": "2020-12-07T08:21:24.124149Z",
     "iopub.status.idle": "2020-12-07T08:21:24.127225Z",
     "shell.execute_reply": "2020-12-07T08:21:24.127880Z"
    },
    "papermill": {
     "duration": 0.172857,
     "end_time": "2020-12-07T08:21:24.128035",
     "exception": false,
     "start_time": "2020-12-07T08:21:23.955178",
     "status": "completed"
    },
    "tags": []
   },
   "outputs": [],
   "source": [
    "test.drop('id', axis=1, inplace=True)"
   ]
  },
  {
   "cell_type": "code",
   "execution_count": 81,
   "metadata": {
    "execution": {
     "iopub.execute_input": "2020-12-07T08:21:24.451021Z",
     "iopub.status.busy": "2020-12-07T08:21:24.450231Z",
     "iopub.status.idle": "2020-12-07T08:21:25.000423Z",
     "shell.execute_reply": "2020-12-07T08:21:25.001029Z"
    },
    "papermill": {
     "duration": 0.716466,
     "end_time": "2020-12-07T08:21:25.001222",
     "exception": false,
     "start_time": "2020-12-07T08:21:24.284756",
     "status": "completed"
    },
    "tags": []
   },
   "outputs": [
    {
     "data": {
      "text/html": [
       "<style type='text/css'>\n",
       ".datatable table.frame { margin-bottom: 0; }\n",
       ".datatable table.frame thead { border-bottom: none; }\n",
       ".datatable table.frame tr.coltypes td {  color: #FFFFFF;  line-height: 6px;  padding: 0 0.5em;}\n",
       ".datatable .bool    { background: #DDDD99; }\n",
       ".datatable .object  { background: #565656; }\n",
       ".datatable .int     { background: #5D9E5D; }\n",
       ".datatable .float   { background: #4040CC; }\n",
       ".datatable .str     { background: #CC4040; }\n",
       ".datatable .row_index {  background: var(--jp-border-color3);  border-right: 1px solid var(--jp-border-color0);  color: var(--jp-ui-font-color3);  font-size: 9px;}\n",
       ".datatable .frame tr.coltypes .row_index {  background: var(--jp-border-color0);}\n",
       ".datatable th:nth-child(2) { padding-left: 12px; }\n",
       ".datatable .hellipsis {  color: var(--jp-cell-editor-border-color);}\n",
       ".datatable .vellipsis {  background: var(--jp-layout-color0);  color: var(--jp-cell-editor-border-color);}\n",
       ".datatable .na {  color: var(--jp-cell-editor-border-color);  font-size: 80%;}\n",
       ".datatable .footer { font-size: 9px; }\n",
       ".datatable .frame_dimensions {  background: var(--jp-border-color3);  border-top: 1px solid var(--jp-border-color0);  color: var(--jp-ui-font-color3);  display: inline-block;  opacity: 0.6;  padding: 1px 10px 1px 5px;}\n",
       ".datatable .frame thead tr.colnames {  background-image: url('data:image/png;base64,iVBORw0KGgoAAAANSUhEUgAAABwAAAA4CAYAAADuMJi0AAAGR0lEQVR42rVZ21IbRxBtCbQrkIR2dQVjsLmDLBsET3nTQ8ouYRkQVf6e/E9+Im958qMfkgoXAaKSSj6C9Jnd2R2NeiRSRaZqitVOT5+Z6dNnWoKGlN94JFp8Ipofkb/7SOXjGyp8wF+z35K3f0uUp/GW4XfLQ8v2gefj3ZCCzojoNfue+43o1Q3l3xB/yA3JO7jnF2pCLnI+pNyx/qw7L+SQ7T2N9p2f8c60QcfcK6KGXsAd+ZvA4LlZYuSSAoOhMs5vwJkEGDlbPMaJoA+FcQ0IH38QLWkbAFLkOOhoMF5tU6/eBRhNjro0ZgKiPRAt3FLhCO/vqdgmNTm32LkmKpvBmQY4q5uAaAgbwDBG2BVv3bfI8KKAMWj2kfw9+pkZREIbEql4ST1x7hgHIANkbJ//MF8mAH/ilTCJ2tIi4ASr1IC3VNqXHKOxjy34mgoImnOQtx1g81fkqTiMOBVGcTogNhiT5iBHET8R8C+iApJUmgim3SQAXhsLQz7ee2G8gOAQNtJckBEplADiAxtX+G9NmhDl0qJKnTvyWlAMPYZnvIviGXRg6/Dh824DBXhP/tbfREXJEIvQ+aaPGjG7pvw6r3xdx+9hqb4dgZaP2XmdHO2K/B0c1+oUph6k8kShBryl/Ft0DYgjTlOieOACHFFpVyUl72T9V3cM1jUoYvxIC2vpCSys/ck70mDYuYvdvKjlMdKAUThneWVU1aAsyjv6PURDiwNsHGBZzY+JtAAgE2TFxdRHJdyIp/f+zqu09M5cDP2F08Ukkpj4YNSdX950HY2pNCCUK/Hhx5ZMBfjNSEzdsIihVzzAMdn9dz4eDYhnyQb9SSCiAryiJcQk82LiTbJ4x2FZJaUenpKnzP95WyDf4Y+QN9EFHHSeDLGdBjjKNQ5vKHf4XMA7KrY0y0GEObBOO/8e1ywuQExOHXktuQyJALEBpcEqhwtHqgiDuCK5b6i0p2MQpcckIIoh+6hYgTZtO8xlMi6O4tKCF/kOGHEg/W0UUpHW0ZoGNZ1ExZWcn7EErgwt4uj50E/sFBjXXIayWvh7WryjasxarZKssXon0zxvvkc32Q0bqbBCuZiKt9dWFysfQefeL29JYFaeztX6tePaZdz5mYx8+6Zq3Mk0wXECQxlhdzgS2wjBHju3j1RIgKyOMdNUE8X0+RAdbSapS11MRCv1SzUXmO6wGZe2SQYrv2MvCSWEv2VODE6DN7bz8ufypgQKW7uQskFTQHULLKyaEyrnlZbgOGLrV5qrn9U79jjm2HJmgkaVN98AfBub91lGPLZBqdroN5LYgjSu4zYZDDHXZOIPC691HqrWI1900I8qLzgKP4ft8DxEWigprPfrO+KcXno9gZz4jjGewWdUcpGCj0qVFuGPYbl2VturndZ2qRvlL8acDO6lF/DY/VjsFesiUK+ypJ+r/ep+cJkSQxEK4PG4WozgA75TYrDDqStE69K8/mzGEM+JXTeqvmedEElMmwCMm2SLd6bNNF9su02zEtoW6nAQtpMj5Gd7fKa//wqonF7UdtHFsVn+6hf1o7AfriPH7M6EeIUEF5zKVxXbYo7kS/OEtOqDYZKPoBsETIixn0uYrasThmzDkhdKPkz2EnaX0HdQbIgr59vAdGYDqjHrxkjS7WOxkTD8sqEqhiwcJETgBYigrBqF08KyDaje9SZ/I1A7MzaTzMGDEulPtZUkuKcyIRAjxEJPVrnVlb/9wkfij31D/pQt1IN+iL8bGJcstBIO7Y5VI/cwDqURbXhMuJxBqD0KLoK3esWFs0Jz5i5ZvJUAfFJMFb9XmGIOnzGpijpcWYCaMqXSQWp8EnCABepQ0Elyi4wfKfsw78ikIqif1pe1AGPlLmojl1SKxHHXp1L+Ut7AmDQHvhI5xHGi4EooO2BR7k78PEkJOdL7cAxQUZ/Tyclu9gnfwGgOmm2lNHGNmZXsq4Pqgc1EG1ATrvKl8s4R9ywwnqulGUnaRLVhxy8v3ieUwy2hbooT68uscW++DCDH0WSzuoyN2D4LUJ/tLECbcSKznwMIFs0ChF4mRTCnQbIIfk4SHJo6A9BMuTnXTs3Ku/KxsgZWqzuSe+Os8cEUfnMBY6UF5gi3SUbd5K7vDjq5WW0UENJlRsWn4sy21Er/E/AvPQSFHy1p4fgAAAAASUVORK5CYII=');  background-repeat: repeat-x;  background-size: 14px;  height: 28px;}\n",
       "</style>\n"
      ],
      "text/plain": [
       "<IPython.core.display.HTML object>"
      ]
     },
     "metadata": {},
     "output_type": "display_data"
    }
   ],
   "source": [
    "import lightgbm as lgb\n",
    "X_train = train.loc[:, train.columns != 'click']\n",
    "y_target = train.click.values\n",
    "#create lightgbm dataset\n",
    "msk = np.random.rand(len(X_train)) < 0.8\n",
    "lgb_train = lgb.Dataset(X_train[msk], y_target[msk])\n",
    "lgb_eval = lgb.Dataset(X_train[~msk], y_target[~msk], reference=lgb_train)"
   ]
  },
  {
   "cell_type": "code",
   "execution_count": 82,
   "metadata": {
    "execution": {
     "iopub.execute_input": "2020-12-07T08:21:25.329090Z",
     "iopub.status.busy": "2020-12-07T08:21:25.328216Z",
     "iopub.status.idle": "2020-12-07T08:21:25.332350Z",
     "shell.execute_reply": "2020-12-07T08:21:25.331644Z"
    },
    "papermill": {
     "duration": 0.168488,
     "end_time": "2020-12-07T08:21:25.332477",
     "exception": false,
     "start_time": "2020-12-07T08:21:25.163989",
     "status": "completed"
    },
    "tags": []
   },
   "outputs": [
    {
     "data": {
      "text/plain": [
       "23"
      ]
     },
     "execution_count": 82,
     "metadata": {},
     "output_type": "execute_result"
    }
   ],
   "source": [
    "len(X_train.columns)"
   ]
  },
  {
   "cell_type": "code",
   "execution_count": 83,
   "metadata": {
    "execution": {
     "iopub.execute_input": "2020-12-07T08:21:25.659321Z",
     "iopub.status.busy": "2020-12-07T08:21:25.658523Z",
     "iopub.status.idle": "2020-12-07T08:22:48.157853Z",
     "shell.execute_reply": "2020-12-07T08:22:48.158589Z"
    },
    "papermill": {
     "duration": 82.667558,
     "end_time": "2020-12-07T08:22:48.158795",
     "exception": false,
     "start_time": "2020-12-07T08:21:25.491237",
     "status": "completed"
    },
    "scrolled": false,
    "tags": []
   },
   "outputs": [
    {
     "name": "stdout",
     "output_type": "stream",
     "text": [
      "Start training...\n",
      "[1]\tvalid_0's binary_logloss: 0.44778\n",
      "Training until validation scores don't improve for 500 rounds\n",
      "[2]\tvalid_0's binary_logloss: 0.443586\n",
      "[3]\tvalid_0's binary_logloss: 0.439946\n",
      "[4]\tvalid_0's binary_logloss: 0.436672\n",
      "[5]\tvalid_0's binary_logloss: 0.434003\n",
      "[6]\tvalid_0's binary_logloss: 0.431719\n",
      "[7]\tvalid_0's binary_logloss: 0.429619\n",
      "[8]\tvalid_0's binary_logloss: 0.42785\n",
      "[9]\tvalid_0's binary_logloss: 0.426216\n",
      "[10]\tvalid_0's binary_logloss: 0.424709\n",
      "[11]\tvalid_0's binary_logloss: 0.423357\n",
      "[12]\tvalid_0's binary_logloss: 0.422236\n",
      "[13]\tvalid_0's binary_logloss: 0.421163\n",
      "[14]\tvalid_0's binary_logloss: 0.419988\n",
      "[15]\tvalid_0's binary_logloss: 0.418997\n",
      "[16]\tvalid_0's binary_logloss: 0.41821\n",
      "[17]\tvalid_0's binary_logloss: 0.417477\n",
      "[18]\tvalid_0's binary_logloss: 0.416822\n",
      "[19]\tvalid_0's binary_logloss: 0.416201\n",
      "[20]\tvalid_0's binary_logloss: 0.415668\n",
      "[21]\tvalid_0's binary_logloss: 0.415118\n",
      "[22]\tvalid_0's binary_logloss: 0.41461\n",
      "[23]\tvalid_0's binary_logloss: 0.414201\n",
      "[24]\tvalid_0's binary_logloss: 0.413771\n",
      "[25]\tvalid_0's binary_logloss: 0.413266\n",
      "[26]\tvalid_0's binary_logloss: 0.412866\n",
      "[27]\tvalid_0's binary_logloss: 0.412489\n",
      "[28]\tvalid_0's binary_logloss: 0.412186\n",
      "[29]\tvalid_0's binary_logloss: 0.411867\n",
      "[30]\tvalid_0's binary_logloss: 0.411555\n",
      "[31]\tvalid_0's binary_logloss: 0.411279\n",
      "[32]\tvalid_0's binary_logloss: 0.410992\n",
      "[33]\tvalid_0's binary_logloss: 0.410704\n",
      "[34]\tvalid_0's binary_logloss: 0.410486\n",
      "[35]\tvalid_0's binary_logloss: 0.410189\n",
      "[36]\tvalid_0's binary_logloss: 0.409927\n",
      "[37]\tvalid_0's binary_logloss: 0.409726\n",
      "[38]\tvalid_0's binary_logloss: 0.409456\n",
      "[39]\tvalid_0's binary_logloss: 0.409282\n",
      "[40]\tvalid_0's binary_logloss: 0.409115\n",
      "[41]\tvalid_0's binary_logloss: 0.408944\n",
      "[42]\tvalid_0's binary_logloss: 0.408794\n",
      "[43]\tvalid_0's binary_logloss: 0.40863\n",
      "[44]\tvalid_0's binary_logloss: 0.408493\n",
      "[45]\tvalid_0's binary_logloss: 0.408404\n",
      "[46]\tvalid_0's binary_logloss: 0.408203\n",
      "[47]\tvalid_0's binary_logloss: 0.408106\n",
      "[48]\tvalid_0's binary_logloss: 0.408014\n",
      "[49]\tvalid_0's binary_logloss: 0.407915\n",
      "[50]\tvalid_0's binary_logloss: 0.407749\n",
      "[51]\tvalid_0's binary_logloss: 0.407596\n",
      "[52]\tvalid_0's binary_logloss: 0.40744\n",
      "[53]\tvalid_0's binary_logloss: 0.407341\n",
      "[54]\tvalid_0's binary_logloss: 0.407233\n",
      "[55]\tvalid_0's binary_logloss: 0.407072\n",
      "[56]\tvalid_0's binary_logloss: 0.406985\n",
      "[57]\tvalid_0's binary_logloss: 0.406857\n",
      "[58]\tvalid_0's binary_logloss: 0.406773\n",
      "[59]\tvalid_0's binary_logloss: 0.406653\n",
      "[60]\tvalid_0's binary_logloss: 0.406508\n",
      "[61]\tvalid_0's binary_logloss: 0.406393\n",
      "[62]\tvalid_0's binary_logloss: 0.406327\n",
      "[63]\tvalid_0's binary_logloss: 0.406268\n",
      "[64]\tvalid_0's binary_logloss: 0.406202\n",
      "[65]\tvalid_0's binary_logloss: 0.406023\n",
      "[66]\tvalid_0's binary_logloss: 0.405969\n",
      "[67]\tvalid_0's binary_logloss: 0.405904\n",
      "[68]\tvalid_0's binary_logloss: 0.405796\n",
      "[69]\tvalid_0's binary_logloss: 0.405705\n",
      "[70]\tvalid_0's binary_logloss: 0.405591\n",
      "[71]\tvalid_0's binary_logloss: 0.405524\n",
      "[72]\tvalid_0's binary_logloss: 0.405374\n",
      "[73]\tvalid_0's binary_logloss: 0.405212\n",
      "[74]\tvalid_0's binary_logloss: 0.405124\n",
      "[75]\tvalid_0's binary_logloss: 0.404996\n",
      "[76]\tvalid_0's binary_logloss: 0.404887\n",
      "[77]\tvalid_0's binary_logloss: 0.404823\n",
      "[78]\tvalid_0's binary_logloss: 0.404745\n",
      "[79]\tvalid_0's binary_logloss: 0.404654\n",
      "[80]\tvalid_0's binary_logloss: 0.404647\n",
      "[81]\tvalid_0's binary_logloss: 0.404528\n",
      "[82]\tvalid_0's binary_logloss: 0.404457\n",
      "[83]\tvalid_0's binary_logloss: 0.404409\n",
      "[84]\tvalid_0's binary_logloss: 0.404378\n",
      "[85]\tvalid_0's binary_logloss: 0.404344\n",
      "[86]\tvalid_0's binary_logloss: 0.404273\n",
      "[87]\tvalid_0's binary_logloss: 0.404167\n",
      "[88]\tvalid_0's binary_logloss: 0.404135\n",
      "[89]\tvalid_0's binary_logloss: 0.4041\n",
      "[90]\tvalid_0's binary_logloss: 0.404061\n",
      "[91]\tvalid_0's binary_logloss: 0.403956\n",
      "[92]\tvalid_0's binary_logloss: 0.403944\n",
      "[93]\tvalid_0's binary_logloss: 0.403932\n",
      "[94]\tvalid_0's binary_logloss: 0.40388\n",
      "[95]\tvalid_0's binary_logloss: 0.403819\n",
      "[96]\tvalid_0's binary_logloss: 0.40375\n",
      "[97]\tvalid_0's binary_logloss: 0.403725\n",
      "[98]\tvalid_0's binary_logloss: 0.403676\n",
      "[99]\tvalid_0's binary_logloss: 0.403625\n",
      "[100]\tvalid_0's binary_logloss: 0.403602\n",
      "[101]\tvalid_0's binary_logloss: 0.403539\n",
      "[102]\tvalid_0's binary_logloss: 0.40351\n",
      "[103]\tvalid_0's binary_logloss: 0.403489\n",
      "[104]\tvalid_0's binary_logloss: 0.403458\n",
      "[105]\tvalid_0's binary_logloss: 0.403427\n",
      "[106]\tvalid_0's binary_logloss: 0.403314\n",
      "[107]\tvalid_0's binary_logloss: 0.403257\n",
      "[108]\tvalid_0's binary_logloss: 0.403211\n",
      "[109]\tvalid_0's binary_logloss: 0.403196\n",
      "[110]\tvalid_0's binary_logloss: 0.403118\n",
      "[111]\tvalid_0's binary_logloss: 0.40307\n",
      "[112]\tvalid_0's binary_logloss: 0.403019\n",
      "[113]\tvalid_0's binary_logloss: 0.402996\n",
      "[114]\tvalid_0's binary_logloss: 0.402963\n",
      "[115]\tvalid_0's binary_logloss: 0.402951\n",
      "[116]\tvalid_0's binary_logloss: 0.402935\n",
      "[117]\tvalid_0's binary_logloss: 0.40291\n",
      "[118]\tvalid_0's binary_logloss: 0.402905\n",
      "[119]\tvalid_0's binary_logloss: 0.402878\n",
      "[120]\tvalid_0's binary_logloss: 0.402879\n",
      "[121]\tvalid_0's binary_logloss: 0.402867\n",
      "[122]\tvalid_0's binary_logloss: 0.40287\n",
      "[123]\tvalid_0's binary_logloss: 0.402825\n",
      "[124]\tvalid_0's binary_logloss: 0.402789\n",
      "[125]\tvalid_0's binary_logloss: 0.402761\n",
      "[126]\tvalid_0's binary_logloss: 0.402741\n",
      "[127]\tvalid_0's binary_logloss: 0.402724\n",
      "[128]\tvalid_0's binary_logloss: 0.402689\n",
      "[129]\tvalid_0's binary_logloss: 0.402667\n",
      "[130]\tvalid_0's binary_logloss: 0.402646\n",
      "[131]\tvalid_0's binary_logloss: 0.402632\n",
      "[132]\tvalid_0's binary_logloss: 0.402577\n",
      "[133]\tvalid_0's binary_logloss: 0.40257\n",
      "[134]\tvalid_0's binary_logloss: 0.402535\n",
      "[135]\tvalid_0's binary_logloss: 0.402507\n",
      "[136]\tvalid_0's binary_logloss: 0.402448\n",
      "[137]\tvalid_0's binary_logloss: 0.402376\n",
      "[138]\tvalid_0's binary_logloss: 0.402311\n",
      "[139]\tvalid_0's binary_logloss: 0.402279\n",
      "[140]\tvalid_0's binary_logloss: 0.40224\n",
      "[141]\tvalid_0's binary_logloss: 0.402196\n",
      "[142]\tvalid_0's binary_logloss: 0.402186\n",
      "[143]\tvalid_0's binary_logloss: 0.40212\n",
      "[144]\tvalid_0's binary_logloss: 0.402066\n",
      "[145]\tvalid_0's binary_logloss: 0.402061\n",
      "[146]\tvalid_0's binary_logloss: 0.401999\n",
      "[147]\tvalid_0's binary_logloss: 0.401966\n",
      "[148]\tvalid_0's binary_logloss: 0.401924\n",
      "[149]\tvalid_0's binary_logloss: 0.401844\n",
      "[150]\tvalid_0's binary_logloss: 0.401808\n",
      "[151]\tvalid_0's binary_logloss: 0.401789\n",
      "[152]\tvalid_0's binary_logloss: 0.401754\n",
      "[153]\tvalid_0's binary_logloss: 0.401726\n",
      "[154]\tvalid_0's binary_logloss: 0.401703\n",
      "[155]\tvalid_0's binary_logloss: 0.401694\n",
      "[156]\tvalid_0's binary_logloss: 0.401693\n",
      "[157]\tvalid_0's binary_logloss: 0.401676\n",
      "[158]\tvalid_0's binary_logloss: 0.401652\n",
      "[159]\tvalid_0's binary_logloss: 0.401648\n",
      "[160]\tvalid_0's binary_logloss: 0.401654\n",
      "[161]\tvalid_0's binary_logloss: 0.401647\n",
      "[162]\tvalid_0's binary_logloss: 0.401632\n",
      "[163]\tvalid_0's binary_logloss: 0.401608\n",
      "[164]\tvalid_0's binary_logloss: 0.401593\n",
      "[165]\tvalid_0's binary_logloss: 0.401563\n",
      "[166]\tvalid_0's binary_logloss: 0.40157\n",
      "[167]\tvalid_0's binary_logloss: 0.40155\n",
      "[168]\tvalid_0's binary_logloss: 0.40154\n",
      "[169]\tvalid_0's binary_logloss: 0.401534\n",
      "[170]\tvalid_0's binary_logloss: 0.401522\n",
      "[171]\tvalid_0's binary_logloss: 0.401493\n",
      "[172]\tvalid_0's binary_logloss: 0.401478\n",
      "[173]\tvalid_0's binary_logloss: 0.401456\n",
      "[174]\tvalid_0's binary_logloss: 0.40143\n",
      "[175]\tvalid_0's binary_logloss: 0.401418\n",
      "[176]\tvalid_0's binary_logloss: 0.401388\n",
      "[177]\tvalid_0's binary_logloss: 0.401354\n",
      "[178]\tvalid_0's binary_logloss: 0.401329\n",
      "[179]\tvalid_0's binary_logloss: 0.401318\n",
      "[180]\tvalid_0's binary_logloss: 0.401287\n",
      "[181]\tvalid_0's binary_logloss: 0.401271\n",
      "[182]\tvalid_0's binary_logloss: 0.401259\n",
      "[183]\tvalid_0's binary_logloss: 0.401256\n",
      "[184]\tvalid_0's binary_logloss: 0.401251\n",
      "[185]\tvalid_0's binary_logloss: 0.401239\n",
      "[186]\tvalid_0's binary_logloss: 0.401185\n",
      "[187]\tvalid_0's binary_logloss: 0.401146\n",
      "[188]\tvalid_0's binary_logloss: 0.401125\n",
      "[189]\tvalid_0's binary_logloss: 0.40113\n",
      "[190]\tvalid_0's binary_logloss: 0.401098\n",
      "[191]\tvalid_0's binary_logloss: 0.401079\n",
      "[192]\tvalid_0's binary_logloss: 0.401041\n",
      "[193]\tvalid_0's binary_logloss: 0.401021\n",
      "[194]\tvalid_0's binary_logloss: 0.401008\n",
      "[195]\tvalid_0's binary_logloss: 0.401002\n",
      "[196]\tvalid_0's binary_logloss: 0.400985\n",
      "[197]\tvalid_0's binary_logloss: 0.40097\n",
      "[198]\tvalid_0's binary_logloss: 0.40097\n",
      "[199]\tvalid_0's binary_logloss: 0.400949\n",
      "[200]\tvalid_0's binary_logloss: 0.400945\n",
      "[201]\tvalid_0's binary_logloss: 0.400932\n",
      "[202]\tvalid_0's binary_logloss: 0.40091\n",
      "[203]\tvalid_0's binary_logloss: 0.400888\n",
      "[204]\tvalid_0's binary_logloss: 0.400863\n",
      "[205]\tvalid_0's binary_logloss: 0.400864\n",
      "[206]\tvalid_0's binary_logloss: 0.40084\n",
      "[207]\tvalid_0's binary_logloss: 0.400831\n",
      "[208]\tvalid_0's binary_logloss: 0.400836\n",
      "[209]\tvalid_0's binary_logloss: 0.400826\n",
      "[210]\tvalid_0's binary_logloss: 0.400833\n",
      "[211]\tvalid_0's binary_logloss: 0.400824\n",
      "[212]\tvalid_0's binary_logloss: 0.400804\n",
      "[213]\tvalid_0's binary_logloss: 0.400779\n",
      "[214]\tvalid_0's binary_logloss: 0.400773\n",
      "[215]\tvalid_0's binary_logloss: 0.400733\n",
      "[216]\tvalid_0's binary_logloss: 0.400703\n",
      "[217]\tvalid_0's binary_logloss: 0.40069\n",
      "[218]\tvalid_0's binary_logloss: 0.400673\n",
      "[219]\tvalid_0's binary_logloss: 0.400659\n",
      "[220]\tvalid_0's binary_logloss: 0.400651\n",
      "[221]\tvalid_0's binary_logloss: 0.400653\n",
      "[222]\tvalid_0's binary_logloss: 0.400629\n",
      "[223]\tvalid_0's binary_logloss: 0.400611\n",
      "[224]\tvalid_0's binary_logloss: 0.400616\n",
      "[225]\tvalid_0's binary_logloss: 0.400625\n",
      "[226]\tvalid_0's binary_logloss: 0.400598\n",
      "[227]\tvalid_0's binary_logloss: 0.400579\n",
      "[228]\tvalid_0's binary_logloss: 0.400558\n",
      "[229]\tvalid_0's binary_logloss: 0.400536\n",
      "[230]\tvalid_0's binary_logloss: 0.400521\n",
      "[231]\tvalid_0's binary_logloss: 0.400505\n",
      "[232]\tvalid_0's binary_logloss: 0.400478\n",
      "[233]\tvalid_0's binary_logloss: 0.400451\n",
      "[234]\tvalid_0's binary_logloss: 0.400436\n",
      "[235]\tvalid_0's binary_logloss: 0.400428\n",
      "[236]\tvalid_0's binary_logloss: 0.400409\n",
      "[237]\tvalid_0's binary_logloss: 0.400393\n",
      "[238]\tvalid_0's binary_logloss: 0.400356\n",
      "[239]\tvalid_0's binary_logloss: 0.400362\n",
      "[240]\tvalid_0's binary_logloss: 0.400359\n",
      "[241]\tvalid_0's binary_logloss: 0.400345\n",
      "[242]\tvalid_0's binary_logloss: 0.400345\n",
      "[243]\tvalid_0's binary_logloss: 0.400345\n",
      "[244]\tvalid_0's binary_logloss: 0.400354\n",
      "[245]\tvalid_0's binary_logloss: 0.400353\n",
      "[246]\tvalid_0's binary_logloss: 0.400359\n",
      "[247]\tvalid_0's binary_logloss: 0.400342\n",
      "[248]\tvalid_0's binary_logloss: 0.40033\n",
      "[249]\tvalid_0's binary_logloss: 0.400312\n",
      "[250]\tvalid_0's binary_logloss: 0.40029\n",
      "[251]\tvalid_0's binary_logloss: 0.400288\n",
      "[252]\tvalid_0's binary_logloss: 0.400251\n",
      "[253]\tvalid_0's binary_logloss: 0.40024\n",
      "[254]\tvalid_0's binary_logloss: 0.400241\n",
      "[255]\tvalid_0's binary_logloss: 0.400234\n",
      "[256]\tvalid_0's binary_logloss: 0.400222\n",
      "[257]\tvalid_0's binary_logloss: 0.400217\n",
      "[258]\tvalid_0's binary_logloss: 0.400216\n",
      "[259]\tvalid_0's binary_logloss: 0.40022\n",
      "[260]\tvalid_0's binary_logloss: 0.400203\n",
      "[261]\tvalid_0's binary_logloss: 0.400154\n",
      "[262]\tvalid_0's binary_logloss: 0.40014\n",
      "[263]\tvalid_0's binary_logloss: 0.400143\n",
      "[264]\tvalid_0's binary_logloss: 0.400137\n",
      "[265]\tvalid_0's binary_logloss: 0.400124\n",
      "[266]\tvalid_0's binary_logloss: 0.400094\n",
      "[267]\tvalid_0's binary_logloss: 0.400098\n",
      "[268]\tvalid_0's binary_logloss: 0.400086\n",
      "[269]\tvalid_0's binary_logloss: 0.400085\n",
      "[270]\tvalid_0's binary_logloss: 0.40007\n",
      "[271]\tvalid_0's binary_logloss: 0.400067\n",
      "[272]\tvalid_0's binary_logloss: 0.40002\n",
      "[273]\tvalid_0's binary_logloss: 0.399996\n",
      "[274]\tvalid_0's binary_logloss: 0.399981\n",
      "[275]\tvalid_0's binary_logloss: 0.399971\n",
      "[276]\tvalid_0's binary_logloss: 0.399969\n",
      "[277]\tvalid_0's binary_logloss: 0.399961\n",
      "[278]\tvalid_0's binary_logloss: 0.399958\n",
      "[279]\tvalid_0's binary_logloss: 0.399959\n",
      "[280]\tvalid_0's binary_logloss: 0.39995\n",
      "[281]\tvalid_0's binary_logloss: 0.399947\n",
      "[282]\tvalid_0's binary_logloss: 0.399924\n",
      "[283]\tvalid_0's binary_logloss: 0.39992\n",
      "[284]\tvalid_0's binary_logloss: 0.399912\n",
      "[285]\tvalid_0's binary_logloss: 0.399896\n",
      "[286]\tvalid_0's binary_logloss: 0.399883\n",
      "[287]\tvalid_0's binary_logloss: 0.39987\n",
      "[288]\tvalid_0's binary_logloss: 0.399869\n",
      "[289]\tvalid_0's binary_logloss: 0.399861\n",
      "[290]\tvalid_0's binary_logloss: 0.399862\n",
      "[291]\tvalid_0's binary_logloss: 0.399846\n",
      "[292]\tvalid_0's binary_logloss: 0.399842\n",
      "[293]\tvalid_0's binary_logloss: 0.399833\n",
      "[294]\tvalid_0's binary_logloss: 0.39984\n",
      "[295]\tvalid_0's binary_logloss: 0.399791\n",
      "[296]\tvalid_0's binary_logloss: 0.399772\n",
      "[297]\tvalid_0's binary_logloss: 0.399774\n",
      "[298]\tvalid_0's binary_logloss: 0.399768\n",
      "[299]\tvalid_0's binary_logloss: 0.399765\n",
      "[300]\tvalid_0's binary_logloss: 0.399758\n",
      "[301]\tvalid_0's binary_logloss: 0.399751\n",
      "[302]\tvalid_0's binary_logloss: 0.399736\n",
      "[303]\tvalid_0's binary_logloss: 0.39971\n",
      "[304]\tvalid_0's binary_logloss: 0.399705\n",
      "[305]\tvalid_0's binary_logloss: 0.399703\n",
      "[306]\tvalid_0's binary_logloss: 0.399721\n",
      "[307]\tvalid_0's binary_logloss: 0.399726\n",
      "[308]\tvalid_0's binary_logloss: 0.399721\n",
      "[309]\tvalid_0's binary_logloss: 0.39972\n",
      "[310]\tvalid_0's binary_logloss: 0.39972\n",
      "[311]\tvalid_0's binary_logloss: 0.399719\n",
      "[312]\tvalid_0's binary_logloss: 0.399719\n",
      "[313]\tvalid_0's binary_logloss: 0.399712\n",
      "[314]\tvalid_0's binary_logloss: 0.3997\n",
      "[315]\tvalid_0's binary_logloss: 0.399694\n",
      "[316]\tvalid_0's binary_logloss: 0.399684\n",
      "[317]\tvalid_0's binary_logloss: 0.399681\n",
      "[318]\tvalid_0's binary_logloss: 0.399676\n",
      "[319]\tvalid_0's binary_logloss: 0.39966\n",
      "[320]\tvalid_0's binary_logloss: 0.399668\n",
      "[321]\tvalid_0's binary_logloss: 0.399649\n",
      "[322]\tvalid_0's binary_logloss: 0.399644\n",
      "[323]\tvalid_0's binary_logloss: 0.399634\n",
      "[324]\tvalid_0's binary_logloss: 0.399627\n",
      "[325]\tvalid_0's binary_logloss: 0.399621\n",
      "[326]\tvalid_0's binary_logloss: 0.399592\n",
      "[327]\tvalid_0's binary_logloss: 0.399578\n",
      "[328]\tvalid_0's binary_logloss: 0.399565\n",
      "[329]\tvalid_0's binary_logloss: 0.399566\n",
      "[330]\tvalid_0's binary_logloss: 0.399573\n",
      "[331]\tvalid_0's binary_logloss: 0.39956\n",
      "[332]\tvalid_0's binary_logloss: 0.399544\n",
      "[333]\tvalid_0's binary_logloss: 0.399526\n",
      "[334]\tvalid_0's binary_logloss: 0.399525\n",
      "[335]\tvalid_0's binary_logloss: 0.39951\n",
      "[336]\tvalid_0's binary_logloss: 0.399494\n",
      "[337]\tvalid_0's binary_logloss: 0.399473\n",
      "[338]\tvalid_0's binary_logloss: 0.399472\n",
      "[339]\tvalid_0's binary_logloss: 0.399466\n",
      "[340]\tvalid_0's binary_logloss: 0.399467\n",
      "[341]\tvalid_0's binary_logloss: 0.399465\n",
      "[342]\tvalid_0's binary_logloss: 0.399461\n",
      "[343]\tvalid_0's binary_logloss: 0.399459\n",
      "[344]\tvalid_0's binary_logloss: 0.399454\n",
      "[345]\tvalid_0's binary_logloss: 0.399456\n",
      "[346]\tvalid_0's binary_logloss: 0.399451\n",
      "[347]\tvalid_0's binary_logloss: 0.399455\n",
      "[348]\tvalid_0's binary_logloss: 0.399458\n",
      "[349]\tvalid_0's binary_logloss: 0.399455\n",
      "[350]\tvalid_0's binary_logloss: 0.39945\n",
      "[351]\tvalid_0's binary_logloss: 0.399443\n",
      "[352]\tvalid_0's binary_logloss: 0.399426\n",
      "[353]\tvalid_0's binary_logloss: 0.399405\n",
      "[354]\tvalid_0's binary_logloss: 0.399385\n",
      "[355]\tvalid_0's binary_logloss: 0.399381\n",
      "[356]\tvalid_0's binary_logloss: 0.399377\n",
      "[357]\tvalid_0's binary_logloss: 0.399358\n",
      "[358]\tvalid_0's binary_logloss: 0.399338\n",
      "[359]\tvalid_0's binary_logloss: 0.39932\n",
      "[360]\tvalid_0's binary_logloss: 0.399309\n",
      "[361]\tvalid_0's binary_logloss: 0.399312\n",
      "[362]\tvalid_0's binary_logloss: 0.399315\n",
      "[363]\tvalid_0's binary_logloss: 0.399321\n",
      "[364]\tvalid_0's binary_logloss: 0.399318\n",
      "[365]\tvalid_0's binary_logloss: 0.399317\n",
      "[366]\tvalid_0's binary_logloss: 0.399312\n",
      "[367]\tvalid_0's binary_logloss: 0.3993\n",
      "[368]\tvalid_0's binary_logloss: 0.39929\n",
      "[369]\tvalid_0's binary_logloss: 0.399286\n",
      "[370]\tvalid_0's binary_logloss: 0.399284\n",
      "[371]\tvalid_0's binary_logloss: 0.399282\n",
      "[372]\tvalid_0's binary_logloss: 0.399266\n",
      "[373]\tvalid_0's binary_logloss: 0.399265\n",
      "[374]\tvalid_0's binary_logloss: 0.399262\n",
      "[375]\tvalid_0's binary_logloss: 0.399261\n",
      "[376]\tvalid_0's binary_logloss: 0.399247\n",
      "[377]\tvalid_0's binary_logloss: 0.399237\n",
      "[378]\tvalid_0's binary_logloss: 0.399238\n",
      "[379]\tvalid_0's binary_logloss: 0.39924\n",
      "[380]\tvalid_0's binary_logloss: 0.399222\n",
      "[381]\tvalid_0's binary_logloss: 0.399229\n",
      "[382]\tvalid_0's binary_logloss: 0.399228\n",
      "[383]\tvalid_0's binary_logloss: 0.399231\n",
      "[384]\tvalid_0's binary_logloss: 0.399232\n",
      "[385]\tvalid_0's binary_logloss: 0.399237\n",
      "[386]\tvalid_0's binary_logloss: 0.399229\n",
      "[387]\tvalid_0's binary_logloss: 0.39923\n",
      "[388]\tvalid_0's binary_logloss: 0.399229\n",
      "[389]\tvalid_0's binary_logloss: 0.399231\n",
      "[390]\tvalid_0's binary_logloss: 0.399241\n",
      "[391]\tvalid_0's binary_logloss: 0.39924\n",
      "[392]\tvalid_0's binary_logloss: 0.399222\n",
      "[393]\tvalid_0's binary_logloss: 0.399212\n",
      "[394]\tvalid_0's binary_logloss: 0.399193\n",
      "[395]\tvalid_0's binary_logloss: 0.399183\n",
      "[396]\tvalid_0's binary_logloss: 0.39917\n",
      "[397]\tvalid_0's binary_logloss: 0.399167\n",
      "[398]\tvalid_0's binary_logloss: 0.399172\n",
      "[399]\tvalid_0's binary_logloss: 0.399174\n",
      "[400]\tvalid_0's binary_logloss: 0.399175\n",
      "[401]\tvalid_0's binary_logloss: 0.399174\n",
      "[402]\tvalid_0's binary_logloss: 0.399179\n",
      "[403]\tvalid_0's binary_logloss: 0.399199\n",
      "[404]\tvalid_0's binary_logloss: 0.399207\n",
      "[405]\tvalid_0's binary_logloss: 0.399186\n",
      "[406]\tvalid_0's binary_logloss: 0.399172\n",
      "[407]\tvalid_0's binary_logloss: 0.399163\n",
      "[408]\tvalid_0's binary_logloss: 0.399154\n",
      "[409]\tvalid_0's binary_logloss: 0.399144\n",
      "[410]\tvalid_0's binary_logloss: 0.399129\n",
      "[411]\tvalid_0's binary_logloss: 0.399121\n",
      "[412]\tvalid_0's binary_logloss: 0.399107\n",
      "[413]\tvalid_0's binary_logloss: 0.399097\n",
      "[414]\tvalid_0's binary_logloss: 0.399091\n",
      "[415]\tvalid_0's binary_logloss: 0.399092\n",
      "[416]\tvalid_0's binary_logloss: 0.399093\n",
      "[417]\tvalid_0's binary_logloss: 0.399084\n",
      "[418]\tvalid_0's binary_logloss: 0.399082\n",
      "[419]\tvalid_0's binary_logloss: 0.399083\n",
      "[420]\tvalid_0's binary_logloss: 0.399078\n",
      "[421]\tvalid_0's binary_logloss: 0.399071\n",
      "[422]\tvalid_0's binary_logloss: 0.399053\n",
      "[423]\tvalid_0's binary_logloss: 0.399047\n",
      "[424]\tvalid_0's binary_logloss: 0.399041\n",
      "[425]\tvalid_0's binary_logloss: 0.399038\n",
      "[426]\tvalid_0's binary_logloss: 0.399022\n",
      "[427]\tvalid_0's binary_logloss: 0.399003\n",
      "[428]\tvalid_0's binary_logloss: 0.398992\n",
      "[429]\tvalid_0's binary_logloss: 0.398991\n",
      "[430]\tvalid_0's binary_logloss: 0.398988\n",
      "[431]\tvalid_0's binary_logloss: 0.398972\n",
      "[432]\tvalid_0's binary_logloss: 0.398958\n",
      "[433]\tvalid_0's binary_logloss: 0.398949\n",
      "[434]\tvalid_0's binary_logloss: 0.398933\n",
      "[435]\tvalid_0's binary_logloss: 0.398922\n",
      "[436]\tvalid_0's binary_logloss: 0.398926\n",
      "[437]\tvalid_0's binary_logloss: 0.398923\n",
      "[438]\tvalid_0's binary_logloss: 0.398912\n",
      "[439]\tvalid_0's binary_logloss: 0.398904\n",
      "[440]\tvalid_0's binary_logloss: 0.398886\n",
      "[441]\tvalid_0's binary_logloss: 0.398884\n",
      "[442]\tvalid_0's binary_logloss: 0.398876\n",
      "[443]\tvalid_0's binary_logloss: 0.398867\n",
      "[444]\tvalid_0's binary_logloss: 0.398874\n",
      "[445]\tvalid_0's binary_logloss: 0.398874\n",
      "[446]\tvalid_0's binary_logloss: 0.398871\n",
      "[447]\tvalid_0's binary_logloss: 0.398868\n",
      "[448]\tvalid_0's binary_logloss: 0.398876\n",
      "[449]\tvalid_0's binary_logloss: 0.39888\n",
      "[450]\tvalid_0's binary_logloss: 0.398886\n",
      "[451]\tvalid_0's binary_logloss: 0.39888\n",
      "[452]\tvalid_0's binary_logloss: 0.398875\n",
      "[453]\tvalid_0's binary_logloss: 0.398877\n",
      "[454]\tvalid_0's binary_logloss: 0.398891\n",
      "[455]\tvalid_0's binary_logloss: 0.398893\n",
      "[456]\tvalid_0's binary_logloss: 0.398894\n",
      "[457]\tvalid_0's binary_logloss: 0.398894\n",
      "[458]\tvalid_0's binary_logloss: 0.398891\n",
      "[459]\tvalid_0's binary_logloss: 0.398895\n",
      "[460]\tvalid_0's binary_logloss: 0.398903\n",
      "[461]\tvalid_0's binary_logloss: 0.39888\n",
      "[462]\tvalid_0's binary_logloss: 0.398866\n",
      "[463]\tvalid_0's binary_logloss: 0.398869\n",
      "[464]\tvalid_0's binary_logloss: 0.398884\n",
      "[465]\tvalid_0's binary_logloss: 0.398882\n",
      "[466]\tvalid_0's binary_logloss: 0.398883\n",
      "[467]\tvalid_0's binary_logloss: 0.398892\n",
      "[468]\tvalid_0's binary_logloss: 0.398886\n",
      "[469]\tvalid_0's binary_logloss: 0.398888\n",
      "[470]\tvalid_0's binary_logloss: 0.398882\n",
      "[471]\tvalid_0's binary_logloss: 0.398881\n",
      "[472]\tvalid_0's binary_logloss: 0.39887\n",
      "[473]\tvalid_0's binary_logloss: 0.398868\n",
      "[474]\tvalid_0's binary_logloss: 0.398858\n",
      "[475]\tvalid_0's binary_logloss: 0.398862\n",
      "[476]\tvalid_0's binary_logloss: 0.39886\n",
      "[477]\tvalid_0's binary_logloss: 0.398864\n",
      "[478]\tvalid_0's binary_logloss: 0.398858\n",
      "[479]\tvalid_0's binary_logloss: 0.398862\n",
      "[480]\tvalid_0's binary_logloss: 0.39885\n",
      "[481]\tvalid_0's binary_logloss: 0.398845\n",
      "[482]\tvalid_0's binary_logloss: 0.398843\n",
      "[483]\tvalid_0's binary_logloss: 0.398845\n",
      "[484]\tvalid_0's binary_logloss: 0.398848\n",
      "[485]\tvalid_0's binary_logloss: 0.398846\n",
      "[486]\tvalid_0's binary_logloss: 0.398843\n",
      "[487]\tvalid_0's binary_logloss: 0.398835\n",
      "[488]\tvalid_0's binary_logloss: 0.398823\n",
      "[489]\tvalid_0's binary_logloss: 0.398822\n",
      "[490]\tvalid_0's binary_logloss: 0.398829\n",
      "[491]\tvalid_0's binary_logloss: 0.398823\n",
      "[492]\tvalid_0's binary_logloss: 0.398813\n",
      "[493]\tvalid_0's binary_logloss: 0.398812\n",
      "[494]\tvalid_0's binary_logloss: 0.398821\n",
      "[495]\tvalid_0's binary_logloss: 0.398821\n",
      "[496]\tvalid_0's binary_logloss: 0.398819\n",
      "[497]\tvalid_0's binary_logloss: 0.398828\n",
      "[498]\tvalid_0's binary_logloss: 0.398824\n",
      "[499]\tvalid_0's binary_logloss: 0.398824\n",
      "[500]\tvalid_0's binary_logloss: 0.398825\n",
      "[501]\tvalid_0's binary_logloss: 0.398823\n",
      "[502]\tvalid_0's binary_logloss: 0.398819\n",
      "[503]\tvalid_0's binary_logloss: 0.398805\n",
      "[504]\tvalid_0's binary_logloss: 0.398794\n",
      "[505]\tvalid_0's binary_logloss: 0.39879\n",
      "[506]\tvalid_0's binary_logloss: 0.398788\n",
      "[507]\tvalid_0's binary_logloss: 0.39878\n",
      "[508]\tvalid_0's binary_logloss: 0.398777\n",
      "[509]\tvalid_0's binary_logloss: 0.398788\n",
      "[510]\tvalid_0's binary_logloss: 0.398787\n",
      "[511]\tvalid_0's binary_logloss: 0.398786\n",
      "[512]\tvalid_0's binary_logloss: 0.398788\n",
      "[513]\tvalid_0's binary_logloss: 0.398788\n",
      "[514]\tvalid_0's binary_logloss: 0.398788\n",
      "[515]\tvalid_0's binary_logloss: 0.39879\n",
      "[516]\tvalid_0's binary_logloss: 0.398786\n",
      "[517]\tvalid_0's binary_logloss: 0.398789\n",
      "[518]\tvalid_0's binary_logloss: 0.398782\n",
      "[519]\tvalid_0's binary_logloss: 0.398778\n",
      "[520]\tvalid_0's binary_logloss: 0.398783\n",
      "[521]\tvalid_0's binary_logloss: 0.398769\n",
      "[522]\tvalid_0's binary_logloss: 0.398764\n",
      "[523]\tvalid_0's binary_logloss: 0.398745\n",
      "[524]\tvalid_0's binary_logloss: 0.398736\n",
      "[525]\tvalid_0's binary_logloss: 0.398732\n",
      "[526]\tvalid_0's binary_logloss: 0.39872\n",
      "[527]\tvalid_0's binary_logloss: 0.398722\n",
      "[528]\tvalid_0's binary_logloss: 0.398705\n",
      "[529]\tvalid_0's binary_logloss: 0.398694\n",
      "[530]\tvalid_0's binary_logloss: 0.398698\n",
      "[531]\tvalid_0's binary_logloss: 0.398701\n",
      "[532]\tvalid_0's binary_logloss: 0.398696\n",
      "[533]\tvalid_0's binary_logloss: 0.398688\n",
      "[534]\tvalid_0's binary_logloss: 0.398686\n",
      "[535]\tvalid_0's binary_logloss: 0.398685\n",
      "[536]\tvalid_0's binary_logloss: 0.398684\n",
      "[537]\tvalid_0's binary_logloss: 0.398685\n",
      "[538]\tvalid_0's binary_logloss: 0.39868\n",
      "[539]\tvalid_0's binary_logloss: 0.398686\n",
      "[540]\tvalid_0's binary_logloss: 0.398693\n",
      "[541]\tvalid_0's binary_logloss: 0.398686\n",
      "[542]\tvalid_0's binary_logloss: 0.398691\n",
      "[543]\tvalid_0's binary_logloss: 0.398683\n",
      "[544]\tvalid_0's binary_logloss: 0.398683\n",
      "[545]\tvalid_0's binary_logloss: 0.398676\n",
      "[546]\tvalid_0's binary_logloss: 0.398667\n",
      "[547]\tvalid_0's binary_logloss: 0.398678\n",
      "[548]\tvalid_0's binary_logloss: 0.398675\n",
      "[549]\tvalid_0's binary_logloss: 0.398671\n",
      "[550]\tvalid_0's binary_logloss: 0.398681\n",
      "[551]\tvalid_0's binary_logloss: 0.398687\n",
      "[552]\tvalid_0's binary_logloss: 0.398697\n",
      "[553]\tvalid_0's binary_logloss: 0.39869\n",
      "[554]\tvalid_0's binary_logloss: 0.39869\n",
      "[555]\tvalid_0's binary_logloss: 0.398693\n",
      "[556]\tvalid_0's binary_logloss: 0.398692\n",
      "[557]\tvalid_0's binary_logloss: 0.398698\n",
      "[558]\tvalid_0's binary_logloss: 0.398697\n",
      "[559]\tvalid_0's binary_logloss: 0.398692\n",
      "[560]\tvalid_0's binary_logloss: 0.398688\n",
      "[561]\tvalid_0's binary_logloss: 0.398692\n",
      "[562]\tvalid_0's binary_logloss: 0.398699\n",
      "[563]\tvalid_0's binary_logloss: 0.398696\n",
      "[564]\tvalid_0's binary_logloss: 0.398703\n",
      "[565]\tvalid_0's binary_logloss: 0.398701\n",
      "[566]\tvalid_0's binary_logloss: 0.398696\n",
      "[567]\tvalid_0's binary_logloss: 0.398684\n",
      "[568]\tvalid_0's binary_logloss: 0.398679\n",
      "[569]\tvalid_0's binary_logloss: 0.398681\n",
      "[570]\tvalid_0's binary_logloss: 0.39868\n",
      "[571]\tvalid_0's binary_logloss: 0.398673\n",
      "[572]\tvalid_0's binary_logloss: 0.39867\n",
      "[573]\tvalid_0's binary_logloss: 0.39867\n",
      "[574]\tvalid_0's binary_logloss: 0.398673\n",
      "[575]\tvalid_0's binary_logloss: 0.398669\n",
      "[576]\tvalid_0's binary_logloss: 0.398663\n",
      "[577]\tvalid_0's binary_logloss: 0.398667\n",
      "[578]\tvalid_0's binary_logloss: 0.398658\n",
      "[579]\tvalid_0's binary_logloss: 0.39866\n",
      "[580]\tvalid_0's binary_logloss: 0.398647\n",
      "[581]\tvalid_0's binary_logloss: 0.398644\n",
      "[582]\tvalid_0's binary_logloss: 0.398642\n",
      "[583]\tvalid_0's binary_logloss: 0.398639\n",
      "[584]\tvalid_0's binary_logloss: 0.398637\n",
      "[585]\tvalid_0's binary_logloss: 0.398645\n",
      "[586]\tvalid_0's binary_logloss: 0.398649\n",
      "[587]\tvalid_0's binary_logloss: 0.398655\n",
      "[588]\tvalid_0's binary_logloss: 0.398664\n",
      "[589]\tvalid_0's binary_logloss: 0.398667\n",
      "[590]\tvalid_0's binary_logloss: 0.398666\n",
      "[591]\tvalid_0's binary_logloss: 0.398669\n",
      "[592]\tvalid_0's binary_logloss: 0.398654\n",
      "[593]\tvalid_0's binary_logloss: 0.398652\n",
      "[594]\tvalid_0's binary_logloss: 0.398643\n",
      "[595]\tvalid_0's binary_logloss: 0.39863\n",
      "[596]\tvalid_0's binary_logloss: 0.398639\n",
      "[597]\tvalid_0's binary_logloss: 0.398637\n",
      "[598]\tvalid_0's binary_logloss: 0.398625\n",
      "[599]\tvalid_0's binary_logloss: 0.39863\n",
      "[600]\tvalid_0's binary_logloss: 0.398633\n",
      "[601]\tvalid_0's binary_logloss: 0.398629\n",
      "[602]\tvalid_0's binary_logloss: 0.39862\n",
      "[603]\tvalid_0's binary_logloss: 0.398617\n",
      "[604]\tvalid_0's binary_logloss: 0.398604\n",
      "[605]\tvalid_0's binary_logloss: 0.398612\n",
      "[606]\tvalid_0's binary_logloss: 0.398611\n",
      "[607]\tvalid_0's binary_logloss: 0.398618\n",
      "[608]\tvalid_0's binary_logloss: 0.398617\n",
      "[609]\tvalid_0's binary_logloss: 0.398613\n",
      "[610]\tvalid_0's binary_logloss: 0.398616\n",
      "[611]\tvalid_0's binary_logloss: 0.398617\n",
      "[612]\tvalid_0's binary_logloss: 0.398616\n",
      "[613]\tvalid_0's binary_logloss: 0.398617\n",
      "[614]\tvalid_0's binary_logloss: 0.398606\n",
      "[615]\tvalid_0's binary_logloss: 0.39861\n",
      "[616]\tvalid_0's binary_logloss: 0.398605\n",
      "[617]\tvalid_0's binary_logloss: 0.398604\n",
      "[618]\tvalid_0's binary_logloss: 0.398604\n",
      "[619]\tvalid_0's binary_logloss: 0.398608\n",
      "[620]\tvalid_0's binary_logloss: 0.398603\n",
      "[621]\tvalid_0's binary_logloss: 0.398601\n",
      "[622]\tvalid_0's binary_logloss: 0.398599\n",
      "[623]\tvalid_0's binary_logloss: 0.398595\n",
      "[624]\tvalid_0's binary_logloss: 0.398591\n",
      "[625]\tvalid_0's binary_logloss: 0.398575\n",
      "[626]\tvalid_0's binary_logloss: 0.398561\n",
      "[627]\tvalid_0's binary_logloss: 0.398565\n",
      "[628]\tvalid_0's binary_logloss: 0.398552\n",
      "[629]\tvalid_0's binary_logloss: 0.398552\n",
      "[630]\tvalid_0's binary_logloss: 0.398547\n",
      "[631]\tvalid_0's binary_logloss: 0.398539\n",
      "[632]\tvalid_0's binary_logloss: 0.398548\n",
      "[633]\tvalid_0's binary_logloss: 0.39855\n",
      "[634]\tvalid_0's binary_logloss: 0.398561\n",
      "[635]\tvalid_0's binary_logloss: 0.398564\n",
      "[636]\tvalid_0's binary_logloss: 0.398553\n",
      "[637]\tvalid_0's binary_logloss: 0.398548\n",
      "[638]\tvalid_0's binary_logloss: 0.398554\n",
      "[639]\tvalid_0's binary_logloss: 0.398549\n",
      "[640]\tvalid_0's binary_logloss: 0.398548\n",
      "[641]\tvalid_0's binary_logloss: 0.398546\n",
      "[642]\tvalid_0's binary_logloss: 0.398535\n",
      "[643]\tvalid_0's binary_logloss: 0.398526\n",
      "[644]\tvalid_0's binary_logloss: 0.398536\n",
      "[645]\tvalid_0's binary_logloss: 0.398524\n",
      "[646]\tvalid_0's binary_logloss: 0.398517\n",
      "[647]\tvalid_0's binary_logloss: 0.398521\n",
      "[648]\tvalid_0's binary_logloss: 0.398521\n",
      "[649]\tvalid_0's binary_logloss: 0.398522\n",
      "[650]\tvalid_0's binary_logloss: 0.398528\n",
      "[651]\tvalid_0's binary_logloss: 0.398528\n",
      "[652]\tvalid_0's binary_logloss: 0.398521\n",
      "[653]\tvalid_0's binary_logloss: 0.398517\n",
      "[654]\tvalid_0's binary_logloss: 0.398514\n",
      "[655]\tvalid_0's binary_logloss: 0.398516\n",
      "[656]\tvalid_0's binary_logloss: 0.398523\n",
      "[657]\tvalid_0's binary_logloss: 0.39852\n",
      "[658]\tvalid_0's binary_logloss: 0.39853\n",
      "[659]\tvalid_0's binary_logloss: 0.398535\n",
      "[660]\tvalid_0's binary_logloss: 0.39854\n",
      "[661]\tvalid_0's binary_logloss: 0.398521\n",
      "[662]\tvalid_0's binary_logloss: 0.398515\n",
      "[663]\tvalid_0's binary_logloss: 0.398521\n",
      "[664]\tvalid_0's binary_logloss: 0.398525\n",
      "[665]\tvalid_0's binary_logloss: 0.398524\n",
      "[666]\tvalid_0's binary_logloss: 0.398515\n",
      "[667]\tvalid_0's binary_logloss: 0.398511\n",
      "[668]\tvalid_0's binary_logloss: 0.398513\n",
      "[669]\tvalid_0's binary_logloss: 0.398512\n",
      "[670]\tvalid_0's binary_logloss: 0.398511\n",
      "[671]\tvalid_0's binary_logloss: 0.398509\n",
      "[672]\tvalid_0's binary_logloss: 0.398509\n",
      "[673]\tvalid_0's binary_logloss: 0.398496\n",
      "[674]\tvalid_0's binary_logloss: 0.398491\n",
      "[675]\tvalid_0's binary_logloss: 0.398491\n",
      "[676]\tvalid_0's binary_logloss: 0.398502\n",
      "[677]\tvalid_0's binary_logloss: 0.398503\n",
      "[678]\tvalid_0's binary_logloss: 0.398508\n",
      "[679]\tvalid_0's binary_logloss: 0.398503\n",
      "[680]\tvalid_0's binary_logloss: 0.398509\n",
      "[681]\tvalid_0's binary_logloss: 0.398503\n",
      "[682]\tvalid_0's binary_logloss: 0.398494\n",
      "[683]\tvalid_0's binary_logloss: 0.398493\n",
      "[684]\tvalid_0's binary_logloss: 0.398499\n",
      "[685]\tvalid_0's binary_logloss: 0.398498\n",
      "[686]\tvalid_0's binary_logloss: 0.398487\n",
      "[687]\tvalid_0's binary_logloss: 0.398479\n",
      "[688]\tvalid_0's binary_logloss: 0.39848\n",
      "[689]\tvalid_0's binary_logloss: 0.398475\n",
      "[690]\tvalid_0's binary_logloss: 0.398477\n",
      "[691]\tvalid_0's binary_logloss: 0.398475\n",
      "[692]\tvalid_0's binary_logloss: 0.39848\n",
      "[693]\tvalid_0's binary_logloss: 0.398467\n",
      "[694]\tvalid_0's binary_logloss: 0.39847\n",
      "[695]\tvalid_0's binary_logloss: 0.398459\n",
      "[696]\tvalid_0's binary_logloss: 0.398453\n",
      "[697]\tvalid_0's binary_logloss: 0.398446\n",
      "[698]\tvalid_0's binary_logloss: 0.398456\n",
      "[699]\tvalid_0's binary_logloss: 0.398462\n",
      "[700]\tvalid_0's binary_logloss: 0.398459\n",
      "[701]\tvalid_0's binary_logloss: 0.398454\n",
      "[702]\tvalid_0's binary_logloss: 0.398452\n",
      "[703]\tvalid_0's binary_logloss: 0.398457\n",
      "[704]\tvalid_0's binary_logloss: 0.398455\n",
      "[705]\tvalid_0's binary_logloss: 0.398452\n",
      "[706]\tvalid_0's binary_logloss: 0.398448\n",
      "[707]\tvalid_0's binary_logloss: 0.398451\n",
      "[708]\tvalid_0's binary_logloss: 0.39845\n",
      "[709]\tvalid_0's binary_logloss: 0.398447\n",
      "[710]\tvalid_0's binary_logloss: 0.398456\n",
      "[711]\tvalid_0's binary_logloss: 0.398457\n",
      "[712]\tvalid_0's binary_logloss: 0.398453\n",
      "[713]\tvalid_0's binary_logloss: 0.39845\n",
      "[714]\tvalid_0's binary_logloss: 0.398445\n",
      "[715]\tvalid_0's binary_logloss: 0.398443\n",
      "[716]\tvalid_0's binary_logloss: 0.398441\n",
      "[717]\tvalid_0's binary_logloss: 0.398438\n",
      "[718]\tvalid_0's binary_logloss: 0.39843\n",
      "[719]\tvalid_0's binary_logloss: 0.39842\n",
      "[720]\tvalid_0's binary_logloss: 0.398423\n",
      "[721]\tvalid_0's binary_logloss: 0.398426\n",
      "[722]\tvalid_0's binary_logloss: 0.398418\n",
      "[723]\tvalid_0's binary_logloss: 0.398409\n",
      "[724]\tvalid_0's binary_logloss: 0.398418\n",
      "[725]\tvalid_0's binary_logloss: 0.398407\n",
      "[726]\tvalid_0's binary_logloss: 0.398408\n",
      "[727]\tvalid_0's binary_logloss: 0.398406\n",
      "[728]\tvalid_0's binary_logloss: 0.398404\n",
      "[729]\tvalid_0's binary_logloss: 0.398397\n",
      "[730]\tvalid_0's binary_logloss: 0.398393\n",
      "[731]\tvalid_0's binary_logloss: 0.3984\n",
      "[732]\tvalid_0's binary_logloss: 0.398396\n",
      "[733]\tvalid_0's binary_logloss: 0.398399\n",
      "[734]\tvalid_0's binary_logloss: 0.398389\n",
      "[735]\tvalid_0's binary_logloss: 0.398397\n",
      "[736]\tvalid_0's binary_logloss: 0.398399\n",
      "[737]\tvalid_0's binary_logloss: 0.398399\n",
      "[738]\tvalid_0's binary_logloss: 0.398403\n",
      "[739]\tvalid_0's binary_logloss: 0.398407\n",
      "[740]\tvalid_0's binary_logloss: 0.398412\n",
      "[741]\tvalid_0's binary_logloss: 0.398418\n",
      "[742]\tvalid_0's binary_logloss: 0.398422\n",
      "[743]\tvalid_0's binary_logloss: 0.398425\n",
      "[744]\tvalid_0's binary_logloss: 0.398422\n",
      "[745]\tvalid_0's binary_logloss: 0.398421\n",
      "[746]\tvalid_0's binary_logloss: 0.39842\n",
      "[747]\tvalid_0's binary_logloss: 0.39842\n",
      "[748]\tvalid_0's binary_logloss: 0.398414\n",
      "[749]\tvalid_0's binary_logloss: 0.398423\n",
      "[750]\tvalid_0's binary_logloss: 0.398425\n",
      "[751]\tvalid_0's binary_logloss: 0.398412\n",
      "[752]\tvalid_0's binary_logloss: 0.398418\n",
      "[753]\tvalid_0's binary_logloss: 0.398422\n",
      "[754]\tvalid_0's binary_logloss: 0.398422\n",
      "[755]\tvalid_0's binary_logloss: 0.398419\n",
      "[756]\tvalid_0's binary_logloss: 0.39842\n",
      "[757]\tvalid_0's binary_logloss: 0.398426\n",
      "[758]\tvalid_0's binary_logloss: 0.39843\n",
      "[759]\tvalid_0's binary_logloss: 0.398418\n",
      "[760]\tvalid_0's binary_logloss: 0.398421\n",
      "[761]\tvalid_0's binary_logloss: 0.398419\n",
      "[762]\tvalid_0's binary_logloss: 0.39842\n",
      "[763]\tvalid_0's binary_logloss: 0.398416\n",
      "[764]\tvalid_0's binary_logloss: 0.398421\n",
      "[765]\tvalid_0's binary_logloss: 0.398424\n",
      "[766]\tvalid_0's binary_logloss: 0.398413\n",
      "[767]\tvalid_0's binary_logloss: 0.398409\n",
      "[768]\tvalid_0's binary_logloss: 0.398404\n",
      "[769]\tvalid_0's binary_logloss: 0.398392\n",
      "[770]\tvalid_0's binary_logloss: 0.398389\n",
      "[771]\tvalid_0's binary_logloss: 0.398397\n",
      "[772]\tvalid_0's binary_logloss: 0.398401\n",
      "[773]\tvalid_0's binary_logloss: 0.398401\n",
      "[774]\tvalid_0's binary_logloss: 0.398409\n",
      "[775]\tvalid_0's binary_logloss: 0.398411\n",
      "[776]\tvalid_0's binary_logloss: 0.398398\n",
      "[777]\tvalid_0's binary_logloss: 0.398387\n",
      "[778]\tvalid_0's binary_logloss: 0.398384\n",
      "[779]\tvalid_0's binary_logloss: 0.398384\n",
      "[780]\tvalid_0's binary_logloss: 0.398379\n",
      "[781]\tvalid_0's binary_logloss: 0.398377\n",
      "[782]\tvalid_0's binary_logloss: 0.398373\n",
      "[783]\tvalid_0's binary_logloss: 0.398375\n",
      "[784]\tvalid_0's binary_logloss: 0.398371\n",
      "[785]\tvalid_0's binary_logloss: 0.398366\n",
      "[786]\tvalid_0's binary_logloss: 0.398374\n",
      "[787]\tvalid_0's binary_logloss: 0.398388\n",
      "[788]\tvalid_0's binary_logloss: 0.398384\n",
      "[789]\tvalid_0's binary_logloss: 0.39839\n",
      "[790]\tvalid_0's binary_logloss: 0.398387\n",
      "[791]\tvalid_0's binary_logloss: 0.398396\n",
      "[792]\tvalid_0's binary_logloss: 0.398402\n",
      "[793]\tvalid_0's binary_logloss: 0.39841\n",
      "[794]\tvalid_0's binary_logloss: 0.398419\n",
      "[795]\tvalid_0's binary_logloss: 0.398422\n",
      "[796]\tvalid_0's binary_logloss: 0.398409\n",
      "[797]\tvalid_0's binary_logloss: 0.398413\n",
      "[798]\tvalid_0's binary_logloss: 0.398418\n",
      "[799]\tvalid_0's binary_logloss: 0.398422\n",
      "[800]\tvalid_0's binary_logloss: 0.398431\n",
      "[801]\tvalid_0's binary_logloss: 0.39843\n",
      "[802]\tvalid_0's binary_logloss: 0.39843\n",
      "[803]\tvalid_0's binary_logloss: 0.398422\n",
      "[804]\tvalid_0's binary_logloss: 0.398417\n",
      "[805]\tvalid_0's binary_logloss: 0.398427\n",
      "[806]\tvalid_0's binary_logloss: 0.398426\n",
      "[807]\tvalid_0's binary_logloss: 0.398425\n",
      "[808]\tvalid_0's binary_logloss: 0.398422\n",
      "[809]\tvalid_0's binary_logloss: 0.398416\n",
      "[810]\tvalid_0's binary_logloss: 0.398417\n",
      "[811]\tvalid_0's binary_logloss: 0.398426\n",
      "[812]\tvalid_0's binary_logloss: 0.398424\n",
      "[813]\tvalid_0's binary_logloss: 0.398432\n",
      "[814]\tvalid_0's binary_logloss: 0.398431\n",
      "[815]\tvalid_0's binary_logloss: 0.398432\n",
      "[816]\tvalid_0's binary_logloss: 0.398434\n",
      "[817]\tvalid_0's binary_logloss: 0.398434\n",
      "[818]\tvalid_0's binary_logloss: 0.398432\n",
      "[819]\tvalid_0's binary_logloss: 0.39843\n",
      "[820]\tvalid_0's binary_logloss: 0.398422\n",
      "[821]\tvalid_0's binary_logloss: 0.398428\n",
      "[822]\tvalid_0's binary_logloss: 0.398437\n",
      "[823]\tvalid_0's binary_logloss: 0.398417\n",
      "[824]\tvalid_0's binary_logloss: 0.398428\n",
      "[825]\tvalid_0's binary_logloss: 0.398426\n",
      "[826]\tvalid_0's binary_logloss: 0.398432\n",
      "[827]\tvalid_0's binary_logloss: 0.398437\n",
      "[828]\tvalid_0's binary_logloss: 0.398431\n",
      "[829]\tvalid_0's binary_logloss: 0.398431\n",
      "[830]\tvalid_0's binary_logloss: 0.398433\n",
      "[831]\tvalid_0's binary_logloss: 0.398436\n",
      "[832]\tvalid_0's binary_logloss: 0.398439\n",
      "[833]\tvalid_0's binary_logloss: 0.398443\n",
      "[834]\tvalid_0's binary_logloss: 0.398451\n",
      "[835]\tvalid_0's binary_logloss: 0.398445\n",
      "[836]\tvalid_0's binary_logloss: 0.398448\n",
      "[837]\tvalid_0's binary_logloss: 0.398444\n",
      "[838]\tvalid_0's binary_logloss: 0.398438\n",
      "[839]\tvalid_0's binary_logloss: 0.398439\n",
      "[840]\tvalid_0's binary_logloss: 0.398438\n",
      "[841]\tvalid_0's binary_logloss: 0.398435\n",
      "[842]\tvalid_0's binary_logloss: 0.398427\n",
      "[843]\tvalid_0's binary_logloss: 0.39842\n",
      "[844]\tvalid_0's binary_logloss: 0.398424\n",
      "[845]\tvalid_0's binary_logloss: 0.398426\n",
      "[846]\tvalid_0's binary_logloss: 0.398431\n",
      "[847]\tvalid_0's binary_logloss: 0.398428\n",
      "[848]\tvalid_0's binary_logloss: 0.398432\n",
      "[849]\tvalid_0's binary_logloss: 0.398432\n",
      "[850]\tvalid_0's binary_logloss: 0.398438\n",
      "[851]\tvalid_0's binary_logloss: 0.398427\n",
      "[852]\tvalid_0's binary_logloss: 0.398423\n",
      "[853]\tvalid_0's binary_logloss: 0.398424\n",
      "[854]\tvalid_0's binary_logloss: 0.398416\n",
      "[855]\tvalid_0's binary_logloss: 0.398411\n",
      "[856]\tvalid_0's binary_logloss: 0.398414\n",
      "[857]\tvalid_0's binary_logloss: 0.398416\n",
      "[858]\tvalid_0's binary_logloss: 0.398404\n",
      "[859]\tvalid_0's binary_logloss: 0.398412\n",
      "[860]\tvalid_0's binary_logloss: 0.398418\n",
      "[861]\tvalid_0's binary_logloss: 0.398419\n",
      "[862]\tvalid_0's binary_logloss: 0.398419\n",
      "[863]\tvalid_0's binary_logloss: 0.398424\n",
      "[864]\tvalid_0's binary_logloss: 0.398421\n",
      "[865]\tvalid_0's binary_logloss: 0.398423\n",
      "[866]\tvalid_0's binary_logloss: 0.398424\n",
      "[867]\tvalid_0's binary_logloss: 0.398434\n",
      "[868]\tvalid_0's binary_logloss: 0.398429\n",
      "[869]\tvalid_0's binary_logloss: 0.398427\n",
      "[870]\tvalid_0's binary_logloss: 0.39842\n",
      "[871]\tvalid_0's binary_logloss: 0.398423\n",
      "[872]\tvalid_0's binary_logloss: 0.398431\n",
      "[873]\tvalid_0's binary_logloss: 0.398428\n",
      "[874]\tvalid_0's binary_logloss: 0.398428\n",
      "[875]\tvalid_0's binary_logloss: 0.398431\n",
      "[876]\tvalid_0's binary_logloss: 0.39843\n",
      "[877]\tvalid_0's binary_logloss: 0.398439\n",
      "[878]\tvalid_0's binary_logloss: 0.398433\n",
      "[879]\tvalid_0's binary_logloss: 0.398436\n",
      "[880]\tvalid_0's binary_logloss: 0.398434\n",
      "[881]\tvalid_0's binary_logloss: 0.398437\n",
      "[882]\tvalid_0's binary_logloss: 0.398443\n",
      "[883]\tvalid_0's binary_logloss: 0.39845\n",
      "[884]\tvalid_0's binary_logloss: 0.398454\n",
      "[885]\tvalid_0's binary_logloss: 0.398458\n",
      "[886]\tvalid_0's binary_logloss: 0.39846\n",
      "[887]\tvalid_0's binary_logloss: 0.398461\n",
      "[888]\tvalid_0's binary_logloss: 0.398462\n",
      "[889]\tvalid_0's binary_logloss: 0.398464\n",
      "[890]\tvalid_0's binary_logloss: 0.398466\n",
      "[891]\tvalid_0's binary_logloss: 0.398463\n",
      "[892]\tvalid_0's binary_logloss: 0.398459\n",
      "[893]\tvalid_0's binary_logloss: 0.398466\n",
      "[894]\tvalid_0's binary_logloss: 0.398468\n",
      "[895]\tvalid_0's binary_logloss: 0.398465\n",
      "[896]\tvalid_0's binary_logloss: 0.398462\n",
      "[897]\tvalid_0's binary_logloss: 0.398475\n",
      "[898]\tvalid_0's binary_logloss: 0.398478\n",
      "[899]\tvalid_0's binary_logloss: 0.398478\n",
      "[900]\tvalid_0's binary_logloss: 0.398481\n",
      "[901]\tvalid_0's binary_logloss: 0.39849\n",
      "[902]\tvalid_0's binary_logloss: 0.398492\n",
      "[903]\tvalid_0's binary_logloss: 0.39849\n",
      "[904]\tvalid_0's binary_logloss: 0.398485\n",
      "[905]\tvalid_0's binary_logloss: 0.398484\n",
      "[906]\tvalid_0's binary_logloss: 0.398481\n",
      "[907]\tvalid_0's binary_logloss: 0.398482\n",
      "[908]\tvalid_0's binary_logloss: 0.398487\n",
      "[909]\tvalid_0's binary_logloss: 0.39848\n",
      "[910]\tvalid_0's binary_logloss: 0.398483\n",
      "[911]\tvalid_0's binary_logloss: 0.398484\n",
      "[912]\tvalid_0's binary_logloss: 0.398489\n",
      "[913]\tvalid_0's binary_logloss: 0.39848\n",
      "[914]\tvalid_0's binary_logloss: 0.39847\n",
      "[915]\tvalid_0's binary_logloss: 0.398479\n",
      "[916]\tvalid_0's binary_logloss: 0.398472\n",
      "[917]\tvalid_0's binary_logloss: 0.398463\n",
      "[918]\tvalid_0's binary_logloss: 0.398459\n",
      "[919]\tvalid_0's binary_logloss: 0.398465\n",
      "[920]\tvalid_0's binary_logloss: 0.398473\n",
      "[921]\tvalid_0's binary_logloss: 0.398475\n",
      "[922]\tvalid_0's binary_logloss: 0.398461\n",
      "[923]\tvalid_0's binary_logloss: 0.398458\n",
      "[924]\tvalid_0's binary_logloss: 0.398455\n",
      "[925]\tvalid_0's binary_logloss: 0.398453\n",
      "[926]\tvalid_0's binary_logloss: 0.398452\n",
      "[927]\tvalid_0's binary_logloss: 0.398458\n",
      "[928]\tvalid_0's binary_logloss: 0.398461\n",
      "[929]\tvalid_0's binary_logloss: 0.398469\n",
      "[930]\tvalid_0's binary_logloss: 0.398464\n",
      "[931]\tvalid_0's binary_logloss: 0.398469\n",
      "[932]\tvalid_0's binary_logloss: 0.398478\n",
      "[933]\tvalid_0's binary_logloss: 0.39848\n",
      "[934]\tvalid_0's binary_logloss: 0.398466\n",
      "[935]\tvalid_0's binary_logloss: 0.39848\n",
      "[936]\tvalid_0's binary_logloss: 0.398475\n",
      "[937]\tvalid_0's binary_logloss: 0.398479\n",
      "[938]\tvalid_0's binary_logloss: 0.398472\n",
      "[939]\tvalid_0's binary_logloss: 0.398465\n",
      "[940]\tvalid_0's binary_logloss: 0.398465\n",
      "[941]\tvalid_0's binary_logloss: 0.398469\n",
      "[942]\tvalid_0's binary_logloss: 0.398471\n",
      "[943]\tvalid_0's binary_logloss: 0.398481\n",
      "[944]\tvalid_0's binary_logloss: 0.398467\n",
      "[945]\tvalid_0's binary_logloss: 0.39847\n",
      "[946]\tvalid_0's binary_logloss: 0.398476\n",
      "[947]\tvalid_0's binary_logloss: 0.398474\n",
      "[948]\tvalid_0's binary_logloss: 0.398474\n",
      "[949]\tvalid_0's binary_logloss: 0.398473\n",
      "[950]\tvalid_0's binary_logloss: 0.398471\n",
      "[951]\tvalid_0's binary_logloss: 0.398468\n",
      "[952]\tvalid_0's binary_logloss: 0.398455\n",
      "[953]\tvalid_0's binary_logloss: 0.398452\n",
      "[954]\tvalid_0's binary_logloss: 0.398454\n",
      "[955]\tvalid_0's binary_logloss: 0.398451\n",
      "[956]\tvalid_0's binary_logloss: 0.398444\n",
      "[957]\tvalid_0's binary_logloss: 0.398434\n",
      "[958]\tvalid_0's binary_logloss: 0.398435\n",
      "[959]\tvalid_0's binary_logloss: 0.398431\n",
      "[960]\tvalid_0's binary_logloss: 0.398424\n",
      "[961]\tvalid_0's binary_logloss: 0.398422\n",
      "[962]\tvalid_0's binary_logloss: 0.398422\n",
      "[963]\tvalid_0's binary_logloss: 0.398418\n",
      "[964]\tvalid_0's binary_logloss: 0.398417\n",
      "[965]\tvalid_0's binary_logloss: 0.398418\n",
      "[966]\tvalid_0's binary_logloss: 0.398413\n",
      "[967]\tvalid_0's binary_logloss: 0.398412\n",
      "[968]\tvalid_0's binary_logloss: 0.398412\n",
      "[969]\tvalid_0's binary_logloss: 0.398408\n",
      "[970]\tvalid_0's binary_logloss: 0.398411\n",
      "[971]\tvalid_0's binary_logloss: 0.398413\n",
      "[972]\tvalid_0's binary_logloss: 0.398414\n",
      "[973]\tvalid_0's binary_logloss: 0.398411\n",
      "[974]\tvalid_0's binary_logloss: 0.398417\n",
      "[975]\tvalid_0's binary_logloss: 0.398427\n",
      "[976]\tvalid_0's binary_logloss: 0.398434\n",
      "[977]\tvalid_0's binary_logloss: 0.398436\n",
      "[978]\tvalid_0's binary_logloss: 0.398433\n",
      "[979]\tvalid_0's binary_logloss: 0.398435\n",
      "[980]\tvalid_0's binary_logloss: 0.398438\n",
      "[981]\tvalid_0's binary_logloss: 0.39844\n",
      "[982]\tvalid_0's binary_logloss: 0.398442\n",
      "[983]\tvalid_0's binary_logloss: 0.398445\n",
      "[984]\tvalid_0's binary_logloss: 0.398428\n",
      "[985]\tvalid_0's binary_logloss: 0.398424\n",
      "[986]\tvalid_0's binary_logloss: 0.398424\n",
      "[987]\tvalid_0's binary_logloss: 0.398422\n",
      "[988]\tvalid_0's binary_logloss: 0.398426\n",
      "[989]\tvalid_0's binary_logloss: 0.398431\n",
      "[990]\tvalid_0's binary_logloss: 0.39843\n",
      "[991]\tvalid_0's binary_logloss: 0.398434\n",
      "[992]\tvalid_0's binary_logloss: 0.398432\n",
      "[993]\tvalid_0's binary_logloss: 0.398432\n",
      "[994]\tvalid_0's binary_logloss: 0.398423\n",
      "[995]\tvalid_0's binary_logloss: 0.398421\n",
      "[996]\tvalid_0's binary_logloss: 0.398417\n",
      "[997]\tvalid_0's binary_logloss: 0.398415\n",
      "[998]\tvalid_0's binary_logloss: 0.398421\n",
      "[999]\tvalid_0's binary_logloss: 0.398415\n",
      "[1000]\tvalid_0's binary_logloss: 0.398405\n",
      "[1001]\tvalid_0's binary_logloss: 0.398399\n",
      "[1002]\tvalid_0's binary_logloss: 0.398393\n",
      "[1003]\tvalid_0's binary_logloss: 0.398391\n",
      "[1004]\tvalid_0's binary_logloss: 0.398393\n",
      "[1005]\tvalid_0's binary_logloss: 0.398395\n",
      "[1006]\tvalid_0's binary_logloss: 0.3984\n",
      "[1007]\tvalid_0's binary_logloss: 0.398402\n",
      "[1008]\tvalid_0's binary_logloss: 0.398397\n",
      "[1009]\tvalid_0's binary_logloss: 0.398395\n",
      "[1010]\tvalid_0's binary_logloss: 0.39839\n",
      "[1011]\tvalid_0's binary_logloss: 0.398384\n",
      "[1012]\tvalid_0's binary_logloss: 0.398385\n",
      "[1013]\tvalid_0's binary_logloss: 0.398376\n",
      "[1014]\tvalid_0's binary_logloss: 0.39839\n",
      "[1015]\tvalid_0's binary_logloss: 0.398384\n",
      "[1016]\tvalid_0's binary_logloss: 0.398378\n",
      "[1017]\tvalid_0's binary_logloss: 0.39838\n",
      "[1018]\tvalid_0's binary_logloss: 0.398378\n",
      "[1019]\tvalid_0's binary_logloss: 0.398372\n",
      "[1020]\tvalid_0's binary_logloss: 0.398374\n",
      "[1021]\tvalid_0's binary_logloss: 0.398377\n",
      "[1022]\tvalid_0's binary_logloss: 0.398376\n",
      "[1023]\tvalid_0's binary_logloss: 0.398367\n",
      "[1024]\tvalid_0's binary_logloss: 0.398363\n",
      "[1025]\tvalid_0's binary_logloss: 0.398374\n",
      "[1026]\tvalid_0's binary_logloss: 0.398366\n",
      "[1027]\tvalid_0's binary_logloss: 0.398367\n",
      "[1028]\tvalid_0's binary_logloss: 0.398361\n",
      "[1029]\tvalid_0's binary_logloss: 0.398359\n",
      "[1030]\tvalid_0's binary_logloss: 0.398372\n",
      "[1031]\tvalid_0's binary_logloss: 0.398373\n",
      "[1032]\tvalid_0's binary_logloss: 0.398373\n",
      "[1033]\tvalid_0's binary_logloss: 0.398371\n",
      "[1034]\tvalid_0's binary_logloss: 0.398381\n",
      "[1035]\tvalid_0's binary_logloss: 0.398392\n",
      "[1036]\tvalid_0's binary_logloss: 0.398385\n",
      "[1037]\tvalid_0's binary_logloss: 0.398386\n",
      "[1038]\tvalid_0's binary_logloss: 0.398381\n",
      "[1039]\tvalid_0's binary_logloss: 0.398371\n",
      "[1040]\tvalid_0's binary_logloss: 0.398364\n",
      "[1041]\tvalid_0's binary_logloss: 0.398363\n",
      "[1042]\tvalid_0's binary_logloss: 0.398365\n",
      "[1043]\tvalid_0's binary_logloss: 0.398364\n",
      "[1044]\tvalid_0's binary_logloss: 0.398359\n",
      "[1045]\tvalid_0's binary_logloss: 0.398366\n",
      "[1046]\tvalid_0's binary_logloss: 0.398365\n",
      "[1047]\tvalid_0's binary_logloss: 0.398378\n",
      "[1048]\tvalid_0's binary_logloss: 0.398377\n",
      "[1049]\tvalid_0's binary_logloss: 0.398382\n",
      "[1050]\tvalid_0's binary_logloss: 0.398385\n",
      "[1051]\tvalid_0's binary_logloss: 0.398375\n",
      "[1052]\tvalid_0's binary_logloss: 0.39838\n",
      "[1053]\tvalid_0's binary_logloss: 0.398377\n",
      "[1054]\tvalid_0's binary_logloss: 0.398379\n",
      "[1055]\tvalid_0's binary_logloss: 0.398393\n",
      "[1056]\tvalid_0's binary_logloss: 0.398394\n",
      "[1057]\tvalid_0's binary_logloss: 0.398393\n",
      "[1058]\tvalid_0's binary_logloss: 0.398391\n",
      "[1059]\tvalid_0's binary_logloss: 0.398393\n",
      "[1060]\tvalid_0's binary_logloss: 0.398394\n",
      "[1061]\tvalid_0's binary_logloss: 0.398401\n",
      "[1062]\tvalid_0's binary_logloss: 0.3984\n",
      "[1063]\tvalid_0's binary_logloss: 0.398403\n",
      "[1064]\tvalid_0's binary_logloss: 0.39841\n",
      "[1065]\tvalid_0's binary_logloss: 0.398411\n",
      "[1066]\tvalid_0's binary_logloss: 0.398403\n",
      "[1067]\tvalid_0's binary_logloss: 0.398403\n",
      "[1068]\tvalid_0's binary_logloss: 0.398405\n",
      "[1069]\tvalid_0's binary_logloss: 0.398409\n",
      "[1070]\tvalid_0's binary_logloss: 0.398409\n",
      "[1071]\tvalid_0's binary_logloss: 0.398415\n",
      "[1072]\tvalid_0's binary_logloss: 0.398418\n",
      "[1073]\tvalid_0's binary_logloss: 0.39842\n",
      "[1074]\tvalid_0's binary_logloss: 0.398423\n",
      "[1075]\tvalid_0's binary_logloss: 0.398434\n",
      "[1076]\tvalid_0's binary_logloss: 0.398426\n",
      "[1077]\tvalid_0's binary_logloss: 0.398427\n",
      "[1078]\tvalid_0's binary_logloss: 0.398429\n",
      "[1079]\tvalid_0's binary_logloss: 0.398433\n",
      "[1080]\tvalid_0's binary_logloss: 0.39842\n",
      "[1081]\tvalid_0's binary_logloss: 0.398418\n",
      "[1082]\tvalid_0's binary_logloss: 0.398418\n",
      "[1083]\tvalid_0's binary_logloss: 0.398424\n",
      "[1084]\tvalid_0's binary_logloss: 0.398418\n",
      "[1085]\tvalid_0's binary_logloss: 0.398423\n",
      "[1086]\tvalid_0's binary_logloss: 0.39842\n",
      "[1087]\tvalid_0's binary_logloss: 0.39842\n",
      "[1088]\tvalid_0's binary_logloss: 0.398419\n",
      "[1089]\tvalid_0's binary_logloss: 0.398428\n",
      "[1090]\tvalid_0's binary_logloss: 0.398425\n",
      "[1091]\tvalid_0's binary_logloss: 0.398421\n",
      "[1092]\tvalid_0's binary_logloss: 0.398422\n",
      "[1093]\tvalid_0's binary_logloss: 0.398403\n",
      "[1094]\tvalid_0's binary_logloss: 0.398387\n",
      "[1095]\tvalid_0's binary_logloss: 0.398383\n",
      "[1096]\tvalid_0's binary_logloss: 0.398381\n",
      "[1097]\tvalid_0's binary_logloss: 0.398378\n",
      "[1098]\tvalid_0's binary_logloss: 0.398383\n",
      "[1099]\tvalid_0's binary_logloss: 0.398384\n",
      "[1100]\tvalid_0's binary_logloss: 0.398394\n",
      "[1101]\tvalid_0's binary_logloss: 0.398389\n",
      "[1102]\tvalid_0's binary_logloss: 0.398389\n",
      "[1103]\tvalid_0's binary_logloss: 0.398393\n",
      "[1104]\tvalid_0's binary_logloss: 0.3984\n",
      "[1105]\tvalid_0's binary_logloss: 0.398404\n",
      "[1106]\tvalid_0's binary_logloss: 0.39841\n",
      "[1107]\tvalid_0's binary_logloss: 0.39841\n",
      "[1108]\tvalid_0's binary_logloss: 0.398404\n",
      "[1109]\tvalid_0's binary_logloss: 0.398398\n",
      "[1110]\tvalid_0's binary_logloss: 0.398395\n",
      "[1111]\tvalid_0's binary_logloss: 0.398406\n",
      "[1112]\tvalid_0's binary_logloss: 0.398405\n",
      "[1113]\tvalid_0's binary_logloss: 0.398407\n",
      "[1114]\tvalid_0's binary_logloss: 0.398395\n",
      "[1115]\tvalid_0's binary_logloss: 0.398394\n",
      "[1116]\tvalid_0's binary_logloss: 0.398387\n",
      "[1117]\tvalid_0's binary_logloss: 0.398387\n",
      "[1118]\tvalid_0's binary_logloss: 0.398395\n",
      "[1119]\tvalid_0's binary_logloss: 0.398399\n",
      "[1120]\tvalid_0's binary_logloss: 0.398402\n",
      "[1121]\tvalid_0's binary_logloss: 0.398402\n",
      "[1122]\tvalid_0's binary_logloss: 0.398396\n",
      "[1123]\tvalid_0's binary_logloss: 0.398395\n",
      "[1124]\tvalid_0's binary_logloss: 0.398394\n",
      "[1125]\tvalid_0's binary_logloss: 0.398405\n",
      "[1126]\tvalid_0's binary_logloss: 0.39841\n",
      "[1127]\tvalid_0's binary_logloss: 0.398403\n",
      "[1128]\tvalid_0's binary_logloss: 0.3984\n",
      "[1129]\tvalid_0's binary_logloss: 0.398396\n",
      "[1130]\tvalid_0's binary_logloss: 0.398403\n",
      "[1131]\tvalid_0's binary_logloss: 0.3984\n",
      "[1132]\tvalid_0's binary_logloss: 0.398404\n",
      "[1133]\tvalid_0's binary_logloss: 0.39841\n",
      "[1134]\tvalid_0's binary_logloss: 0.398418\n",
      "[1135]\tvalid_0's binary_logloss: 0.398419\n",
      "[1136]\tvalid_0's binary_logloss: 0.398407\n",
      "[1137]\tvalid_0's binary_logloss: 0.398403\n",
      "[1138]\tvalid_0's binary_logloss: 0.398401\n",
      "[1139]\tvalid_0's binary_logloss: 0.398398\n",
      "[1140]\tvalid_0's binary_logloss: 0.398391\n",
      "[1141]\tvalid_0's binary_logloss: 0.398391\n",
      "[1142]\tvalid_0's binary_logloss: 0.398407\n",
      "[1143]\tvalid_0's binary_logloss: 0.39841\n",
      "[1144]\tvalid_0's binary_logloss: 0.398411\n",
      "[1145]\tvalid_0's binary_logloss: 0.39841\n",
      "[1146]\tvalid_0's binary_logloss: 0.398411\n",
      "[1147]\tvalid_0's binary_logloss: 0.398412\n",
      "[1148]\tvalid_0's binary_logloss: 0.398422\n",
      "[1149]\tvalid_0's binary_logloss: 0.398416\n",
      "[1150]\tvalid_0's binary_logloss: 0.398421\n",
      "[1151]\tvalid_0's binary_logloss: 0.39842\n",
      "[1152]\tvalid_0's binary_logloss: 0.398422\n",
      "[1153]\tvalid_0's binary_logloss: 0.398424\n",
      "[1154]\tvalid_0's binary_logloss: 0.398427\n",
      "[1155]\tvalid_0's binary_logloss: 0.39843\n",
      "[1156]\tvalid_0's binary_logloss: 0.398432\n",
      "[1157]\tvalid_0's binary_logloss: 0.398436\n",
      "[1158]\tvalid_0's binary_logloss: 0.398433\n",
      "[1159]\tvalid_0's binary_logloss: 0.398429\n",
      "[1160]\tvalid_0's binary_logloss: 0.398436\n",
      "[1161]\tvalid_0's binary_logloss: 0.398431\n",
      "[1162]\tvalid_0's binary_logloss: 0.398425\n",
      "[1163]\tvalid_0's binary_logloss: 0.398412\n",
      "[1164]\tvalid_0's binary_logloss: 0.398422\n",
      "[1165]\tvalid_0's binary_logloss: 0.398419\n",
      "[1166]\tvalid_0's binary_logloss: 0.398418\n",
      "[1167]\tvalid_0's binary_logloss: 0.398418\n",
      "[1168]\tvalid_0's binary_logloss: 0.398415\n",
      "[1169]\tvalid_0's binary_logloss: 0.39842\n",
      "[1170]\tvalid_0's binary_logloss: 0.398424\n",
      "[1171]\tvalid_0's binary_logloss: 0.398424\n",
      "[1172]\tvalid_0's binary_logloss: 0.398432\n",
      "[1173]\tvalid_0's binary_logloss: 0.398433\n",
      "[1174]\tvalid_0's binary_logloss: 0.398435\n",
      "[1175]\tvalid_0's binary_logloss: 0.398433\n",
      "[1176]\tvalid_0's binary_logloss: 0.398421\n",
      "[1177]\tvalid_0's binary_logloss: 0.398422\n",
      "[1178]\tvalid_0's binary_logloss: 0.398412\n",
      "[1179]\tvalid_0's binary_logloss: 0.398411\n",
      "[1180]\tvalid_0's binary_logloss: 0.398414\n",
      "[1181]\tvalid_0's binary_logloss: 0.398416\n",
      "[1182]\tvalid_0's binary_logloss: 0.398416\n",
      "[1183]\tvalid_0's binary_logloss: 0.398403\n",
      "[1184]\tvalid_0's binary_logloss: 0.3984\n",
      "[1185]\tvalid_0's binary_logloss: 0.39841\n",
      "[1186]\tvalid_0's binary_logloss: 0.398402\n",
      "[1187]\tvalid_0's binary_logloss: 0.398409\n",
      "[1188]\tvalid_0's binary_logloss: 0.398414\n",
      "[1189]\tvalid_0's binary_logloss: 0.398417\n",
      "[1190]\tvalid_0's binary_logloss: 0.398422\n",
      "[1191]\tvalid_0's binary_logloss: 0.398423\n",
      "[1192]\tvalid_0's binary_logloss: 0.398421\n",
      "[1193]\tvalid_0's binary_logloss: 0.39842\n",
      "[1194]\tvalid_0's binary_logloss: 0.398429\n",
      "[1195]\tvalid_0's binary_logloss: 0.398434\n",
      "[1196]\tvalid_0's binary_logloss: 0.398431\n",
      "[1197]\tvalid_0's binary_logloss: 0.398435\n",
      "[1198]\tvalid_0's binary_logloss: 0.398435\n",
      "[1199]\tvalid_0's binary_logloss: 0.39843\n",
      "[1200]\tvalid_0's binary_logloss: 0.398432\n",
      "[1201]\tvalid_0's binary_logloss: 0.398441\n",
      "[1202]\tvalid_0's binary_logloss: 0.398447\n",
      "[1203]\tvalid_0's binary_logloss: 0.398457\n",
      "[1204]\tvalid_0's binary_logloss: 0.398448\n",
      "[1205]\tvalid_0's binary_logloss: 0.398451\n",
      "[1206]\tvalid_0's binary_logloss: 0.398443\n",
      "[1207]\tvalid_0's binary_logloss: 0.398447\n",
      "[1208]\tvalid_0's binary_logloss: 0.398438\n",
      "[1209]\tvalid_0's binary_logloss: 0.398432\n",
      "[1210]\tvalid_0's binary_logloss: 0.398431\n",
      "[1211]\tvalid_0's binary_logloss: 0.39843\n",
      "[1212]\tvalid_0's binary_logloss: 0.398433\n",
      "[1213]\tvalid_0's binary_logloss: 0.398427\n",
      "[1214]\tvalid_0's binary_logloss: 0.398428\n",
      "[1215]\tvalid_0's binary_logloss: 0.39842\n",
      "[1216]\tvalid_0's binary_logloss: 0.39842\n",
      "[1217]\tvalid_0's binary_logloss: 0.398425\n",
      "[1218]\tvalid_0's binary_logloss: 0.39842\n",
      "[1219]\tvalid_0's binary_logloss: 0.398426\n",
      "[1220]\tvalid_0's binary_logloss: 0.398431\n",
      "[1221]\tvalid_0's binary_logloss: 0.398438\n",
      "[1222]\tvalid_0's binary_logloss: 0.39843\n",
      "[1223]\tvalid_0's binary_logloss: 0.398438\n",
      "[1224]\tvalid_0's binary_logloss: 0.398438\n",
      "[1225]\tvalid_0's binary_logloss: 0.398439\n",
      "[1226]\tvalid_0's binary_logloss: 0.398441\n",
      "[1227]\tvalid_0's binary_logloss: 0.398447\n",
      "[1228]\tvalid_0's binary_logloss: 0.398451\n",
      "[1229]\tvalid_0's binary_logloss: 0.398458\n",
      "[1230]\tvalid_0's binary_logloss: 0.39845\n",
      "[1231]\tvalid_0's binary_logloss: 0.398456\n",
      "[1232]\tvalid_0's binary_logloss: 0.398457\n",
      "[1233]\tvalid_0's binary_logloss: 0.398452\n",
      "[1234]\tvalid_0's binary_logloss: 0.39845\n",
      "[1235]\tvalid_0's binary_logloss: 0.398457\n",
      "[1236]\tvalid_0's binary_logloss: 0.398466\n",
      "[1237]\tvalid_0's binary_logloss: 0.398468\n",
      "[1238]\tvalid_0's binary_logloss: 0.398467\n",
      "[1239]\tvalid_0's binary_logloss: 0.398482\n",
      "[1240]\tvalid_0's binary_logloss: 0.398482\n",
      "[1241]\tvalid_0's binary_logloss: 0.398477\n",
      "[1242]\tvalid_0's binary_logloss: 0.398464\n",
      "[1243]\tvalid_0's binary_logloss: 0.398469\n",
      "[1244]\tvalid_0's binary_logloss: 0.398465\n",
      "[1245]\tvalid_0's binary_logloss: 0.398473\n",
      "[1246]\tvalid_0's binary_logloss: 0.398463\n",
      "[1247]\tvalid_0's binary_logloss: 0.398457\n",
      "[1248]\tvalid_0's binary_logloss: 0.398453\n",
      "[1249]\tvalid_0's binary_logloss: 0.398452\n",
      "[1250]\tvalid_0's binary_logloss: 0.398458\n",
      "[1251]\tvalid_0's binary_logloss: 0.398453\n",
      "[1252]\tvalid_0's binary_logloss: 0.398452\n",
      "[1253]\tvalid_0's binary_logloss: 0.398449\n",
      "[1254]\tvalid_0's binary_logloss: 0.398436\n",
      "[1255]\tvalid_0's binary_logloss: 0.398439\n",
      "[1256]\tvalid_0's binary_logloss: 0.398442\n",
      "[1257]\tvalid_0's binary_logloss: 0.39844\n",
      "[1258]\tvalid_0's binary_logloss: 0.398434\n",
      "[1259]\tvalid_0's binary_logloss: 0.398434\n",
      "[1260]\tvalid_0's binary_logloss: 0.398438\n",
      "[1261]\tvalid_0's binary_logloss: 0.398446\n",
      "[1262]\tvalid_0's binary_logloss: 0.398453\n",
      "[1263]\tvalid_0's binary_logloss: 0.398455\n",
      "[1264]\tvalid_0's binary_logloss: 0.398452\n",
      "[1265]\tvalid_0's binary_logloss: 0.398449\n",
      "[1266]\tvalid_0's binary_logloss: 0.39844\n",
      "[1267]\tvalid_0's binary_logloss: 0.398441\n",
      "[1268]\tvalid_0's binary_logloss: 0.398435\n",
      "[1269]\tvalid_0's binary_logloss: 0.398419\n",
      "[1270]\tvalid_0's binary_logloss: 0.398415\n",
      "[1271]\tvalid_0's binary_logloss: 0.398419\n",
      "[1272]\tvalid_0's binary_logloss: 0.398423\n",
      "[1273]\tvalid_0's binary_logloss: 0.398415\n",
      "[1274]\tvalid_0's binary_logloss: 0.398419\n",
      "[1275]\tvalid_0's binary_logloss: 0.398419\n",
      "[1276]\tvalid_0's binary_logloss: 0.398419\n",
      "[1277]\tvalid_0's binary_logloss: 0.398422\n",
      "[1278]\tvalid_0's binary_logloss: 0.39842\n",
      "[1279]\tvalid_0's binary_logloss: 0.39843\n",
      "[1280]\tvalid_0's binary_logloss: 0.398434\n",
      "[1281]\tvalid_0's binary_logloss: 0.398434\n",
      "[1282]\tvalid_0's binary_logloss: 0.398436\n",
      "[1283]\tvalid_0's binary_logloss: 0.398431\n",
      "[1284]\tvalid_0's binary_logloss: 0.39843\n",
      "[1285]\tvalid_0's binary_logloss: 0.398429\n",
      "[1286]\tvalid_0's binary_logloss: 0.39843\n",
      "[1287]\tvalid_0's binary_logloss: 0.398426\n",
      "[1288]\tvalid_0's binary_logloss: 0.398423\n",
      "[1289]\tvalid_0's binary_logloss: 0.398429\n",
      "[1290]\tvalid_0's binary_logloss: 0.398438\n",
      "[1291]\tvalid_0's binary_logloss: 0.39844\n",
      "[1292]\tvalid_0's binary_logloss: 0.398445\n",
      "[1293]\tvalid_0's binary_logloss: 0.398446\n",
      "[1294]\tvalid_0's binary_logloss: 0.398444\n",
      "[1295]\tvalid_0's binary_logloss: 0.398455\n",
      "[1296]\tvalid_0's binary_logloss: 0.398461\n",
      "[1297]\tvalid_0's binary_logloss: 0.398465\n",
      "[1298]\tvalid_0's binary_logloss: 0.398464\n",
      "[1299]\tvalid_0's binary_logloss: 0.398465\n",
      "[1300]\tvalid_0's binary_logloss: 0.398469\n",
      "[1301]\tvalid_0's binary_logloss: 0.398465\n",
      "[1302]\tvalid_0's binary_logloss: 0.398465\n",
      "[1303]\tvalid_0's binary_logloss: 0.398454\n",
      "[1304]\tvalid_0's binary_logloss: 0.398462\n",
      "[1305]\tvalid_0's binary_logloss: 0.398462\n",
      "[1306]\tvalid_0's binary_logloss: 0.398461\n",
      "[1307]\tvalid_0's binary_logloss: 0.398467\n",
      "[1308]\tvalid_0's binary_logloss: 0.398475\n",
      "[1309]\tvalid_0's binary_logloss: 0.398475\n",
      "[1310]\tvalid_0's binary_logloss: 0.398474\n",
      "[1311]\tvalid_0's binary_logloss: 0.398471\n",
      "[1312]\tvalid_0's binary_logloss: 0.398472\n",
      "[1313]\tvalid_0's binary_logloss: 0.398476\n",
      "[1314]\tvalid_0's binary_logloss: 0.398483\n",
      "[1315]\tvalid_0's binary_logloss: 0.398494\n",
      "[1316]\tvalid_0's binary_logloss: 0.398491\n",
      "[1317]\tvalid_0's binary_logloss: 0.39849\n",
      "[1318]\tvalid_0's binary_logloss: 0.398485\n",
      "[1319]\tvalid_0's binary_logloss: 0.39849\n",
      "[1320]\tvalid_0's binary_logloss: 0.398492\n",
      "[1321]\tvalid_0's binary_logloss: 0.398497\n",
      "[1322]\tvalid_0's binary_logloss: 0.398498\n",
      "[1323]\tvalid_0's binary_logloss: 0.398491\n",
      "[1324]\tvalid_0's binary_logloss: 0.398489\n",
      "[1325]\tvalid_0's binary_logloss: 0.398489\n",
      "[1326]\tvalid_0's binary_logloss: 0.398488\n",
      "[1327]\tvalid_0's binary_logloss: 0.3985\n",
      "[1328]\tvalid_0's binary_logloss: 0.398498\n",
      "[1329]\tvalid_0's binary_logloss: 0.398499\n",
      "[1330]\tvalid_0's binary_logloss: 0.398505\n",
      "[1331]\tvalid_0's binary_logloss: 0.398516\n",
      "[1332]\tvalid_0's binary_logloss: 0.398521\n",
      "[1333]\tvalid_0's binary_logloss: 0.398516\n",
      "[1334]\tvalid_0's binary_logloss: 0.398523\n",
      "[1335]\tvalid_0's binary_logloss: 0.398532\n",
      "[1336]\tvalid_0's binary_logloss: 0.398535\n",
      "[1337]\tvalid_0's binary_logloss: 0.398555\n",
      "[1338]\tvalid_0's binary_logloss: 0.398559\n",
      "[1339]\tvalid_0's binary_logloss: 0.398568\n",
      "[1340]\tvalid_0's binary_logloss: 0.398563\n",
      "[1341]\tvalid_0's binary_logloss: 0.398565\n",
      "[1342]\tvalid_0's binary_logloss: 0.398575\n",
      "[1343]\tvalid_0's binary_logloss: 0.39858\n",
      "[1344]\tvalid_0's binary_logloss: 0.398573\n",
      "[1345]\tvalid_0's binary_logloss: 0.398563\n",
      "[1346]\tvalid_0's binary_logloss: 0.398555\n",
      "[1347]\tvalid_0's binary_logloss: 0.398557\n",
      "[1348]\tvalid_0's binary_logloss: 0.39856\n",
      "[1349]\tvalid_0's binary_logloss: 0.398561\n",
      "[1350]\tvalid_0's binary_logloss: 0.39856\n",
      "[1351]\tvalid_0's binary_logloss: 0.398562\n",
      "[1352]\tvalid_0's binary_logloss: 0.398561\n",
      "[1353]\tvalid_0's binary_logloss: 0.398564\n",
      "[1354]\tvalid_0's binary_logloss: 0.398567\n",
      "[1355]\tvalid_0's binary_logloss: 0.39857\n",
      "[1356]\tvalid_0's binary_logloss: 0.398568\n",
      "[1357]\tvalid_0's binary_logloss: 0.398562\n",
      "[1358]\tvalid_0's binary_logloss: 0.398562\n",
      "[1359]\tvalid_0's binary_logloss: 0.398564\n",
      "[1360]\tvalid_0's binary_logloss: 0.398564\n",
      "[1361]\tvalid_0's binary_logloss: 0.398552\n",
      "[1362]\tvalid_0's binary_logloss: 0.398544\n",
      "[1363]\tvalid_0's binary_logloss: 0.398533\n",
      "[1364]\tvalid_0's binary_logloss: 0.398535\n",
      "[1365]\tvalid_0's binary_logloss: 0.398531\n",
      "[1366]\tvalid_0's binary_logloss: 0.398543\n",
      "[1367]\tvalid_0's binary_logloss: 0.39855\n",
      "[1368]\tvalid_0's binary_logloss: 0.398554\n",
      "[1369]\tvalid_0's binary_logloss: 0.398554\n",
      "[1370]\tvalid_0's binary_logloss: 0.398556\n",
      "[1371]\tvalid_0's binary_logloss: 0.398557\n",
      "[1372]\tvalid_0's binary_logloss: 0.398561\n",
      "[1373]\tvalid_0's binary_logloss: 0.398562\n",
      "[1374]\tvalid_0's binary_logloss: 0.398558\n",
      "[1375]\tvalid_0's binary_logloss: 0.398562\n",
      "[1376]\tvalid_0's binary_logloss: 0.398565\n",
      "[1377]\tvalid_0's binary_logloss: 0.398562\n",
      "[1378]\tvalid_0's binary_logloss: 0.398561\n",
      "[1379]\tvalid_0's binary_logloss: 0.398568\n",
      "[1380]\tvalid_0's binary_logloss: 0.398566\n",
      "[1381]\tvalid_0's binary_logloss: 0.398576\n",
      "[1382]\tvalid_0's binary_logloss: 0.398581\n",
      "[1383]\tvalid_0's binary_logloss: 0.398578\n",
      "[1384]\tvalid_0's binary_logloss: 0.398575\n",
      "[1385]\tvalid_0's binary_logloss: 0.398576\n",
      "[1386]\tvalid_0's binary_logloss: 0.39858\n",
      "[1387]\tvalid_0's binary_logloss: 0.398576\n",
      "[1388]\tvalid_0's binary_logloss: 0.398573\n",
      "[1389]\tvalid_0's binary_logloss: 0.398579\n",
      "[1390]\tvalid_0's binary_logloss: 0.398579\n",
      "[1391]\tvalid_0's binary_logloss: 0.398581\n",
      "[1392]\tvalid_0's binary_logloss: 0.398572\n",
      "[1393]\tvalid_0's binary_logloss: 0.398559\n",
      "[1394]\tvalid_0's binary_logloss: 0.39856\n",
      "[1395]\tvalid_0's binary_logloss: 0.398552\n",
      "[1396]\tvalid_0's binary_logloss: 0.398555\n",
      "[1397]\tvalid_0's binary_logloss: 0.398558\n",
      "[1398]\tvalid_0's binary_logloss: 0.398555\n",
      "[1399]\tvalid_0's binary_logloss: 0.398554\n",
      "[1400]\tvalid_0's binary_logloss: 0.39856\n",
      "[1401]\tvalid_0's binary_logloss: 0.39855\n",
      "[1402]\tvalid_0's binary_logloss: 0.398554\n",
      "[1403]\tvalid_0's binary_logloss: 0.398556\n",
      "[1404]\tvalid_0's binary_logloss: 0.398552\n",
      "[1405]\tvalid_0's binary_logloss: 0.398548\n",
      "[1406]\tvalid_0's binary_logloss: 0.398544\n",
      "[1407]\tvalid_0's binary_logloss: 0.398542\n",
      "[1408]\tvalid_0's binary_logloss: 0.398534\n",
      "[1409]\tvalid_0's binary_logloss: 0.398536\n",
      "[1410]\tvalid_0's binary_logloss: 0.398543\n",
      "[1411]\tvalid_0's binary_logloss: 0.39855\n",
      "[1412]\tvalid_0's binary_logloss: 0.398549\n",
      "[1413]\tvalid_0's binary_logloss: 0.398549\n",
      "[1414]\tvalid_0's binary_logloss: 0.398546\n",
      "[1415]\tvalid_0's binary_logloss: 0.398544\n",
      "[1416]\tvalid_0's binary_logloss: 0.398551\n",
      "[1417]\tvalid_0's binary_logloss: 0.398554\n",
      "[1418]\tvalid_0's binary_logloss: 0.398564\n",
      "[1419]\tvalid_0's binary_logloss: 0.398562\n",
      "[1420]\tvalid_0's binary_logloss: 0.398568\n",
      "[1421]\tvalid_0's binary_logloss: 0.39857\n",
      "[1422]\tvalid_0's binary_logloss: 0.398573\n",
      "[1423]\tvalid_0's binary_logloss: 0.398573\n",
      "[1424]\tvalid_0's binary_logloss: 0.39858\n",
      "[1425]\tvalid_0's binary_logloss: 0.398582\n",
      "[1426]\tvalid_0's binary_logloss: 0.398585\n",
      "[1427]\tvalid_0's binary_logloss: 0.398587\n",
      "[1428]\tvalid_0's binary_logloss: 0.398596\n",
      "[1429]\tvalid_0's binary_logloss: 0.398599\n",
      "[1430]\tvalid_0's binary_logloss: 0.398594\n",
      "[1431]\tvalid_0's binary_logloss: 0.39858\n",
      "[1432]\tvalid_0's binary_logloss: 0.398569\n",
      "[1433]\tvalid_0's binary_logloss: 0.398569\n",
      "[1434]\tvalid_0's binary_logloss: 0.398573\n",
      "[1435]\tvalid_0's binary_logloss: 0.398576\n",
      "[1436]\tvalid_0's binary_logloss: 0.398576\n",
      "[1437]\tvalid_0's binary_logloss: 0.398583\n",
      "[1438]\tvalid_0's binary_logloss: 0.39859\n",
      "[1439]\tvalid_0's binary_logloss: 0.398599\n",
      "[1440]\tvalid_0's binary_logloss: 0.398609\n",
      "[1441]\tvalid_0's binary_logloss: 0.398604\n",
      "[1442]\tvalid_0's binary_logloss: 0.398608\n",
      "[1443]\tvalid_0's binary_logloss: 0.398615\n",
      "[1444]\tvalid_0's binary_logloss: 0.398619\n",
      "[1445]\tvalid_0's binary_logloss: 0.398621\n",
      "[1446]\tvalid_0's binary_logloss: 0.398624\n",
      "[1447]\tvalid_0's binary_logloss: 0.39863\n",
      "[1448]\tvalid_0's binary_logloss: 0.398638\n",
      "[1449]\tvalid_0's binary_logloss: 0.398635\n",
      "[1450]\tvalid_0's binary_logloss: 0.398632\n",
      "[1451]\tvalid_0's binary_logloss: 0.398632\n",
      "[1452]\tvalid_0's binary_logloss: 0.398631\n",
      "[1453]\tvalid_0's binary_logloss: 0.398631\n",
      "[1454]\tvalid_0's binary_logloss: 0.398638\n",
      "[1455]\tvalid_0's binary_logloss: 0.398634\n",
      "[1456]\tvalid_0's binary_logloss: 0.398633\n",
      "[1457]\tvalid_0's binary_logloss: 0.398639\n",
      "[1458]\tvalid_0's binary_logloss: 0.398642\n",
      "[1459]\tvalid_0's binary_logloss: 0.39865\n",
      "[1460]\tvalid_0's binary_logloss: 0.398647\n",
      "[1461]\tvalid_0's binary_logloss: 0.398651\n",
      "[1462]\tvalid_0's binary_logloss: 0.398655\n",
      "[1463]\tvalid_0's binary_logloss: 0.398649\n",
      "[1464]\tvalid_0's binary_logloss: 0.398647\n",
      "[1465]\tvalid_0's binary_logloss: 0.398651\n",
      "[1466]\tvalid_0's binary_logloss: 0.398649\n",
      "[1467]\tvalid_0's binary_logloss: 0.398646\n",
      "[1468]\tvalid_0's binary_logloss: 0.398641\n",
      "[1469]\tvalid_0's binary_logloss: 0.398652\n",
      "[1470]\tvalid_0's binary_logloss: 0.398649\n",
      "[1471]\tvalid_0's binary_logloss: 0.398643\n",
      "[1472]\tvalid_0's binary_logloss: 0.398628\n",
      "[1473]\tvalid_0's binary_logloss: 0.398627\n",
      "[1474]\tvalid_0's binary_logloss: 0.398623\n",
      "[1475]\tvalid_0's binary_logloss: 0.398623\n",
      "[1476]\tvalid_0's binary_logloss: 0.398623\n",
      "[1477]\tvalid_0's binary_logloss: 0.398624\n",
      "[1478]\tvalid_0's binary_logloss: 0.398622\n",
      "[1479]\tvalid_0's binary_logloss: 0.398627\n",
      "[1480]\tvalid_0's binary_logloss: 0.39862\n",
      "[1481]\tvalid_0's binary_logloss: 0.398618\n",
      "[1482]\tvalid_0's binary_logloss: 0.398613\n",
      "[1483]\tvalid_0's binary_logloss: 0.398612\n",
      "[1484]\tvalid_0's binary_logloss: 0.398604\n",
      "[1485]\tvalid_0's binary_logloss: 0.398594\n",
      "[1486]\tvalid_0's binary_logloss: 0.39859\n",
      "[1487]\tvalid_0's binary_logloss: 0.398593\n",
      "[1488]\tvalid_0's binary_logloss: 0.398593\n",
      "[1489]\tvalid_0's binary_logloss: 0.3986\n",
      "[1490]\tvalid_0's binary_logloss: 0.398607\n",
      "[1491]\tvalid_0's binary_logloss: 0.398605\n",
      "[1492]\tvalid_0's binary_logloss: 0.398607\n",
      "[1493]\tvalid_0's binary_logloss: 0.398609\n",
      "[1494]\tvalid_0's binary_logloss: 0.398608\n",
      "[1495]\tvalid_0's binary_logloss: 0.398614\n",
      "[1496]\tvalid_0's binary_logloss: 0.398612\n",
      "[1497]\tvalid_0's binary_logloss: 0.398605\n",
      "[1498]\tvalid_0's binary_logloss: 0.398606\n",
      "[1499]\tvalid_0's binary_logloss: 0.398608\n",
      "[1500]\tvalid_0's binary_logloss: 0.398606\n",
      "[1501]\tvalid_0's binary_logloss: 0.398599\n",
      "[1502]\tvalid_0's binary_logloss: 0.398598\n",
      "[1503]\tvalid_0's binary_logloss: 0.398606\n",
      "[1504]\tvalid_0's binary_logloss: 0.398606\n",
      "[1505]\tvalid_0's binary_logloss: 0.398601\n",
      "[1506]\tvalid_0's binary_logloss: 0.398597\n",
      "[1507]\tvalid_0's binary_logloss: 0.398601\n",
      "[1508]\tvalid_0's binary_logloss: 0.398602\n",
      "[1509]\tvalid_0's binary_logloss: 0.398597\n",
      "[1510]\tvalid_0's binary_logloss: 0.398595\n",
      "[1511]\tvalid_0's binary_logloss: 0.398597\n",
      "[1512]\tvalid_0's binary_logloss: 0.39859\n",
      "[1513]\tvalid_0's binary_logloss: 0.398584\n",
      "[1514]\tvalid_0's binary_logloss: 0.398589\n",
      "[1515]\tvalid_0's binary_logloss: 0.398583\n",
      "[1516]\tvalid_0's binary_logloss: 0.398584\n",
      "[1517]\tvalid_0's binary_logloss: 0.398587\n",
      "[1518]\tvalid_0's binary_logloss: 0.398594\n",
      "[1519]\tvalid_0's binary_logloss: 0.398598\n",
      "[1520]\tvalid_0's binary_logloss: 0.398605\n",
      "[1521]\tvalid_0's binary_logloss: 0.398611\n",
      "[1522]\tvalid_0's binary_logloss: 0.398619\n",
      "[1523]\tvalid_0's binary_logloss: 0.398608\n",
      "[1524]\tvalid_0's binary_logloss: 0.398611\n",
      "[1525]\tvalid_0's binary_logloss: 0.398615\n",
      "[1526]\tvalid_0's binary_logloss: 0.398611\n",
      "[1527]\tvalid_0's binary_logloss: 0.398611\n",
      "[1528]\tvalid_0's binary_logloss: 0.398604\n",
      "[1529]\tvalid_0's binary_logloss: 0.398601\n",
      "Early stopping, best iteration is:\n",
      "[1029]\tvalid_0's binary_logloss: 0.398359\n"
     ]
    }
   ],
   "source": [
    "# specify your configurations as a dict\n",
    "params = {\n",
    "    'task': 'train',\n",
    "    'boosting_type': 'gbdt',\n",
    "    'objective': 'binary',\n",
    "    'metric': { 'binary_logloss'},\n",
    "    'num_leaves': 31, # defauly leaves(31) amount for each tree\n",
    "    'learning_rate': 0.08,\n",
    "    'feature_fraction': 0.7, # will select 70% features before training each tree\n",
    "    'bagging_fraction': 0.3, #feature_fraction, but this will random select part of data\n",
    "    'bagging_freq': 5, #  perform bagging at every 5 iteration\n",
    "    'verbose': 0\n",
    "}\n",
    "\n",
    "print('Start training...')\n",
    "# train\n",
    "gbm = lgb.train(params,\n",
    "                lgb_train,\n",
    "                num_boost_round=4000,\n",
    "                valid_sets=lgb_eval,\n",
    "                early_stopping_rounds=500)"
   ]
  },
  {
   "cell_type": "code",
   "execution_count": 84,
   "metadata": {
    "execution": {
     "iopub.execute_input": "2020-12-07T08:22:48.809247Z",
     "iopub.status.busy": "2020-12-07T08:22:48.808254Z",
     "iopub.status.idle": "2020-12-07T08:22:48.811761Z",
     "shell.execute_reply": "2020-12-07T08:22:48.812397Z"
    },
    "papermill": {
     "duration": 0.317625,
     "end_time": "2020-12-07T08:22:48.812595",
     "exception": false,
     "start_time": "2020-12-07T08:22:48.494970",
     "status": "completed"
    },
    "tags": []
   },
   "outputs": [
    {
     "name": "stdout",
     "output_type": "stream",
     "text": [
      "defaultdict(<class 'collections.OrderedDict'>, {'valid_0': OrderedDict([('binary_logloss', 0.3983591182556369)])})\n",
      "1029\n"
     ]
    }
   ],
   "source": [
    "print(gbm.best_score)\n",
    "print(gbm.best_iteration)"
   ]
  },
  {
   "cell_type": "code",
   "execution_count": 85,
   "metadata": {
    "execution": {
     "iopub.execute_input": "2020-12-07T08:22:49.422904Z",
     "iopub.status.busy": "2020-12-07T08:22:49.421892Z",
     "iopub.status.idle": "2020-12-07T08:22:49.427421Z",
     "shell.execute_reply": "2020-12-07T08:22:49.426585Z"
    },
    "papermill": {
     "duration": 0.317791,
     "end_time": "2020-12-07T08:22:49.427585",
     "exception": false,
     "start_time": "2020-12-07T08:22:49.109794",
     "status": "completed"
    },
    "tags": []
   },
   "outputs": [
    {
     "data": {
      "text/plain": [
       "23"
      ]
     },
     "execution_count": 85,
     "metadata": {},
     "output_type": "execute_result"
    }
   ],
   "source": [
    "len(test.columns)"
   ]
  },
  {
   "cell_type": "code",
   "execution_count": 86,
   "metadata": {
    "execution": {
     "iopub.execute_input": "2020-12-07T08:22:50.032579Z",
     "iopub.status.busy": "2020-12-07T08:22:50.031829Z",
     "iopub.status.idle": "2020-12-07T08:22:54.042744Z",
     "shell.execute_reply": "2020-12-07T08:22:54.043478Z"
    },
    "papermill": {
     "duration": 4.314882,
     "end_time": "2020-12-07T08:22:54.043689",
     "exception": false,
     "start_time": "2020-12-07T08:22:49.728807",
     "status": "completed"
    },
    "tags": []
   },
   "outputs": [],
   "source": [
    "ans1=gbm.predict(test)"
   ]
  },
  {
   "cell_type": "code",
   "execution_count": 87,
   "metadata": {
    "execution": {
     "iopub.execute_input": "2020-12-07T08:22:54.684521Z",
     "iopub.status.busy": "2020-12-07T08:22:54.683479Z",
     "iopub.status.idle": "2020-12-07T08:22:54.688118Z",
     "shell.execute_reply": "2020-12-07T08:22:54.688749Z"
    },
    "papermill": {
     "duration": 0.320541,
     "end_time": "2020-12-07T08:22:54.688934",
     "exception": false,
     "start_time": "2020-12-07T08:22:54.368393",
     "status": "completed"
    },
    "tags": []
   },
   "outputs": [
    {
     "data": {
      "text/plain": [
       "array([0.2194082 , 0.26328199, 0.13699277, ..., 0.08753133, 0.13220696,\n",
       "       0.05777401])"
      ]
     },
     "execution_count": 87,
     "metadata": {},
     "output_type": "execute_result"
    }
   ],
   "source": [
    "ans1"
   ]
  },
  {
   "cell_type": "code",
   "execution_count": 88,
   "metadata": {
    "execution": {
     "iopub.execute_input": "2020-12-07T08:22:55.310988Z",
     "iopub.status.busy": "2020-12-07T08:22:55.309951Z",
     "iopub.status.idle": "2020-12-07T08:22:55.443938Z",
     "shell.execute_reply": "2020-12-07T08:22:55.443126Z"
    },
    "papermill": {
     "duration": 0.44874,
     "end_time": "2020-12-07T08:22:55.444068",
     "exception": false,
     "start_time": "2020-12-07T08:22:54.995328",
     "status": "completed"
    },
    "tags": []
   },
   "outputs": [],
   "source": [
    "from operator import itemgetter\n",
    "from sklearn.model_selection import train_test_split\n",
    "import xgboost as xgb\n",
    "from sklearn.metrics import roc_auc_score\n",
    "\n",
    "def run_default_test(train, test, features, target, random_state=0):\n",
    "    eta = 0.1\n",
    "    max_depth = 5\n",
    "    subsample = 0.8\n",
    "    colsample_bytree = 0.8\n",
    "    print('XGBoost params. ETA: {}, MAX_DEPTH: {}, SUBSAMPLE: {}, COLSAMPLE_BY_TREE: {}'.format(eta, max_depth, subsample, colsample_bytree))\n",
    "    params = {\n",
    "        \"objective\": \"binary:logistic\",\n",
    "        \"booster\" : \"gbtree\",\n",
    "        \"eval_metric\": \"logloss\",\n",
    "        \"eta\": eta,\n",
    "        \"max_depth\": max_depth,\n",
    "        \"subsample\": subsample,\n",
    "        \"colsample_bytree\": colsample_bytree,\n",
    "        \"silent\": 1,\n",
    "        \"seed\": random_state\n",
    "    }\n",
    "    num_boost_round = 260\n",
    "    early_stopping_rounds = 20\n",
    "    test_size = 0.2\n",
    "\n",
    "    X_train, X_valid = train_test_split(train, test_size=test_size, random_state=random_state)\n",
    "    y_train = X_train[target]\n",
    "    y_valid = X_valid[target]\n",
    "    dtrain = xgb.DMatrix(X_train[features], y_train)\n",
    "    dvalid = xgb.DMatrix(X_valid[features], y_valid)\n",
    "    watchlist = [(dtrain, 'train'), (dvalid, 'eval')]\n",
    "    gbm = xgb.train(params, dtrain, num_boost_round, evals=watchlist, early_stopping_rounds=early_stopping_rounds, verbose_eval=True)"
   ]
  },
  {
   "cell_type": "code",
   "execution_count": 89,
   "metadata": {
    "execution": {
     "iopub.execute_input": "2020-12-07T08:22:56.102083Z",
     "iopub.status.busy": "2020-12-07T08:22:56.101050Z",
     "iopub.status.idle": "2020-12-07T08:25:53.041825Z",
     "shell.execute_reply": "2020-12-07T08:25:53.042604Z"
    },
    "papermill": {
     "duration": 177.294616,
     "end_time": "2020-12-07T08:25:53.042823",
     "exception": false,
     "start_time": "2020-12-07T08:22:55.748207",
     "status": "completed"
    },
    "tags": []
   },
   "outputs": [
    {
     "name": "stdout",
     "output_type": "stream",
     "text": [
      "XGBoost params. ETA: 0.1, MAX_DEPTH: 5, SUBSAMPLE: 0.8, COLSAMPLE_BY_TREE: 0.8\n",
      "[0]\ttrain-logloss:0.64852\teval-logloss:0.648788\n",
      "Multiple eval metrics have been passed: 'eval-logloss' will be used for early stopping.\n",
      "\n",
      "Will train until eval-logloss hasn't improved in 20 rounds.\n",
      "[1]\ttrain-logloss:0.611969\teval-logloss:0.612103\n",
      "[2]\ttrain-logloss:0.581808\teval-logloss:0.581912\n",
      "[3]\ttrain-logloss:0.556822\teval-logloss:0.556841\n",
      "[4]\ttrain-logloss:0.535853\teval-logloss:0.535857\n",
      "[5]\ttrain-logloss:0.518281\teval-logloss:0.518193\n",
      "[6]\ttrain-logloss:0.503235\teval-logloss:0.503474\n",
      "[7]\ttrain-logloss:0.490713\teval-logloss:0.490897\n",
      "[8]\ttrain-logloss:0.480166\teval-logloss:0.480231\n",
      "[9]\ttrain-logloss:0.470979\teval-logloss:0.471307\n",
      "[10]\ttrain-logloss:0.463422\teval-logloss:0.463717\n",
      "[11]\ttrain-logloss:0.45693\teval-logloss:0.457271\n",
      "[12]\ttrain-logloss:0.451284\teval-logloss:0.451602\n",
      "[13]\ttrain-logloss:0.446568\teval-logloss:0.446852\n",
      "[14]\ttrain-logloss:0.442458\teval-logloss:0.442818\n",
      "[15]\ttrain-logloss:0.438958\teval-logloss:0.439345\n",
      "[16]\ttrain-logloss:0.435828\teval-logloss:0.43629\n",
      "[17]\ttrain-logloss:0.433181\teval-logloss:0.433614\n",
      "[18]\ttrain-logloss:0.430763\teval-logloss:0.431239\n",
      "[19]\ttrain-logloss:0.428867\teval-logloss:0.429409\n",
      "[20]\ttrain-logloss:0.427269\teval-logloss:0.427843\n",
      "[21]\ttrain-logloss:0.425905\teval-logloss:0.426445\n",
      "[22]\ttrain-logloss:0.424684\teval-logloss:0.425274\n",
      "[23]\ttrain-logloss:0.423599\teval-logloss:0.424225\n",
      "[24]\ttrain-logloss:0.422773\teval-logloss:0.423381\n",
      "[25]\ttrain-logloss:0.421913\teval-logloss:0.42258\n",
      "[26]\ttrain-logloss:0.421051\teval-logloss:0.421679\n",
      "[27]\ttrain-logloss:0.420188\teval-logloss:0.420829\n",
      "[28]\ttrain-logloss:0.419557\teval-logloss:0.420218\n",
      "[29]\ttrain-logloss:0.419008\teval-logloss:0.419738\n",
      "[30]\ttrain-logloss:0.418491\teval-logloss:0.419183\n",
      "[31]\ttrain-logloss:0.418048\teval-logloss:0.418769\n",
      "[32]\ttrain-logloss:0.417676\teval-logloss:0.418389\n",
      "[33]\ttrain-logloss:0.417202\teval-logloss:0.417937\n",
      "[34]\ttrain-logloss:0.41679\teval-logloss:0.417562\n",
      "[35]\ttrain-logloss:0.416428\teval-logloss:0.417165\n",
      "[36]\ttrain-logloss:0.41613\teval-logloss:0.416877\n",
      "[37]\ttrain-logloss:0.415486\teval-logloss:0.416216\n",
      "[38]\ttrain-logloss:0.415222\teval-logloss:0.41591\n",
      "[39]\ttrain-logloss:0.41497\teval-logloss:0.415664\n",
      "[40]\ttrain-logloss:0.414673\teval-logloss:0.415385\n",
      "[41]\ttrain-logloss:0.414512\teval-logloss:0.415216\n",
      "[42]\ttrain-logloss:0.414155\teval-logloss:0.414861\n",
      "[43]\ttrain-logloss:0.413714\teval-logloss:0.414475\n",
      "[44]\ttrain-logloss:0.413483\teval-logloss:0.414254\n",
      "[45]\ttrain-logloss:0.413306\teval-logloss:0.41407\n",
      "[46]\ttrain-logloss:0.413136\teval-logloss:0.413926\n",
      "[47]\ttrain-logloss:0.412868\teval-logloss:0.413721\n",
      "[48]\ttrain-logloss:0.412663\teval-logloss:0.413558\n",
      "[49]\ttrain-logloss:0.41255\teval-logloss:0.413452\n",
      "[50]\ttrain-logloss:0.412392\teval-logloss:0.413262\n",
      "[51]\ttrain-logloss:0.412055\teval-logloss:0.412855\n",
      "[52]\ttrain-logloss:0.411878\teval-logloss:0.412735\n",
      "[53]\ttrain-logloss:0.411647\teval-logloss:0.412529\n",
      "[54]\ttrain-logloss:0.411506\teval-logloss:0.412417\n",
      "[55]\ttrain-logloss:0.411391\teval-logloss:0.412307\n",
      "[56]\ttrain-logloss:0.411277\teval-logloss:0.412194\n",
      "[57]\ttrain-logloss:0.411103\teval-logloss:0.412016\n",
      "[58]\ttrain-logloss:0.410897\teval-logloss:0.411853\n",
      "[59]\ttrain-logloss:0.410745\teval-logloss:0.411716\n",
      "[60]\ttrain-logloss:0.410651\teval-logloss:0.411582\n",
      "[61]\ttrain-logloss:0.410571\teval-logloss:0.411512\n",
      "[62]\ttrain-logloss:0.41042\teval-logloss:0.411364\n",
      "[63]\ttrain-logloss:0.41024\teval-logloss:0.41123\n",
      "[64]\ttrain-logloss:0.410143\teval-logloss:0.411127\n",
      "[65]\ttrain-logloss:0.40999\teval-logloss:0.41099\n",
      "[66]\ttrain-logloss:0.409873\teval-logloss:0.410881\n",
      "[67]\ttrain-logloss:0.409713\teval-logloss:0.410741\n",
      "[68]\ttrain-logloss:0.409659\teval-logloss:0.410707\n",
      "[69]\ttrain-logloss:0.409506\teval-logloss:0.410551\n",
      "[70]\ttrain-logloss:0.409385\teval-logloss:0.410444\n",
      "[71]\ttrain-logloss:0.409269\teval-logloss:0.410353\n",
      "[72]\ttrain-logloss:0.409134\teval-logloss:0.410256\n",
      "[73]\ttrain-logloss:0.409029\teval-logloss:0.410133\n",
      "[74]\ttrain-logloss:0.408952\teval-logloss:0.410062\n",
      "[75]\ttrain-logloss:0.408763\teval-logloss:0.40989\n",
      "[76]\ttrain-logloss:0.408668\teval-logloss:0.409795\n",
      "[77]\ttrain-logloss:0.408568\teval-logloss:0.409724\n",
      "[78]\ttrain-logloss:0.408512\teval-logloss:0.409669\n",
      "[79]\ttrain-logloss:0.408415\teval-logloss:0.409555\n",
      "[80]\ttrain-logloss:0.408327\teval-logloss:0.409488\n",
      "[81]\ttrain-logloss:0.40819\teval-logloss:0.409371\n",
      "[82]\ttrain-logloss:0.408104\teval-logloss:0.409304\n",
      "[83]\ttrain-logloss:0.407975\teval-logloss:0.409185\n",
      "[84]\ttrain-logloss:0.407891\teval-logloss:0.409106\n",
      "[85]\ttrain-logloss:0.407824\teval-logloss:0.409053\n",
      "[86]\ttrain-logloss:0.407698\teval-logloss:0.40895\n",
      "[87]\ttrain-logloss:0.407611\teval-logloss:0.408872\n",
      "[88]\ttrain-logloss:0.407511\teval-logloss:0.408776\n",
      "[89]\ttrain-logloss:0.40746\teval-logloss:0.408737\n",
      "[90]\ttrain-logloss:0.407346\teval-logloss:0.40864\n",
      "[91]\ttrain-logloss:0.40717\teval-logloss:0.408486\n",
      "[92]\ttrain-logloss:0.407044\teval-logloss:0.408388\n",
      "[93]\ttrain-logloss:0.406887\teval-logloss:0.408245\n",
      "[94]\ttrain-logloss:0.406809\teval-logloss:0.4082\n",
      "[95]\ttrain-logloss:0.406715\teval-logloss:0.408112\n",
      "[96]\ttrain-logloss:0.40655\teval-logloss:0.407937\n",
      "[97]\ttrain-logloss:0.40641\teval-logloss:0.4078\n",
      "[98]\ttrain-logloss:0.406308\teval-logloss:0.407713\n",
      "[99]\ttrain-logloss:0.406245\teval-logloss:0.407657\n",
      "[100]\ttrain-logloss:0.406151\teval-logloss:0.407573\n",
      "[101]\ttrain-logloss:0.406105\teval-logloss:0.407523\n",
      "[102]\ttrain-logloss:0.406066\teval-logloss:0.407493\n",
      "[103]\ttrain-logloss:0.405963\teval-logloss:0.407402\n",
      "[104]\ttrain-logloss:0.405874\teval-logloss:0.407326\n",
      "[105]\ttrain-logloss:0.405771\teval-logloss:0.407243\n",
      "[106]\ttrain-logloss:0.405716\teval-logloss:0.407203\n",
      "[107]\ttrain-logloss:0.405643\teval-logloss:0.407121\n",
      "[108]\ttrain-logloss:0.405548\teval-logloss:0.407032\n",
      "[109]\ttrain-logloss:0.405452\teval-logloss:0.406947\n",
      "[110]\ttrain-logloss:0.405406\teval-logloss:0.4069\n",
      "[111]\ttrain-logloss:0.405289\teval-logloss:0.406808\n",
      "[112]\ttrain-logloss:0.405232\teval-logloss:0.406766\n",
      "[113]\ttrain-logloss:0.405176\teval-logloss:0.406734\n",
      "[114]\ttrain-logloss:0.405067\teval-logloss:0.406643\n",
      "[115]\ttrain-logloss:0.405029\teval-logloss:0.406619\n",
      "[116]\ttrain-logloss:0.404966\teval-logloss:0.406559\n",
      "[117]\ttrain-logloss:0.404931\teval-logloss:0.406531\n",
      "[118]\ttrain-logloss:0.404805\teval-logloss:0.406415\n",
      "[119]\ttrain-logloss:0.404741\teval-logloss:0.406359\n",
      "[120]\ttrain-logloss:0.4047\teval-logloss:0.40633\n",
      "[121]\ttrain-logloss:0.404641\teval-logloss:0.406294\n",
      "[122]\ttrain-logloss:0.404573\teval-logloss:0.406238\n",
      "[123]\ttrain-logloss:0.404524\teval-logloss:0.406202\n",
      "[124]\ttrain-logloss:0.404479\teval-logloss:0.406162\n",
      "[125]\ttrain-logloss:0.404375\teval-logloss:0.40607\n",
      "[126]\ttrain-logloss:0.404348\teval-logloss:0.406055\n",
      "[127]\ttrain-logloss:0.404265\teval-logloss:0.405998\n",
      "[128]\ttrain-logloss:0.404224\teval-logloss:0.405975\n",
      "[129]\ttrain-logloss:0.404131\teval-logloss:0.405884\n",
      "[130]\ttrain-logloss:0.404103\teval-logloss:0.405857\n",
      "[131]\ttrain-logloss:0.404018\teval-logloss:0.405789\n",
      "[132]\ttrain-logloss:0.403964\teval-logloss:0.405749\n",
      "[133]\ttrain-logloss:0.403909\teval-logloss:0.405697\n",
      "[134]\ttrain-logloss:0.403865\teval-logloss:0.405656\n",
      "[135]\ttrain-logloss:0.40379\teval-logloss:0.405611\n",
      "[136]\ttrain-logloss:0.403764\teval-logloss:0.405596\n",
      "[137]\ttrain-logloss:0.40371\teval-logloss:0.405559\n",
      "[138]\ttrain-logloss:0.403636\teval-logloss:0.405502\n",
      "[139]\ttrain-logloss:0.403559\teval-logloss:0.405439\n",
      "[140]\ttrain-logloss:0.403517\teval-logloss:0.405419\n",
      "[141]\ttrain-logloss:0.403494\teval-logloss:0.405407\n",
      "[142]\ttrain-logloss:0.403372\teval-logloss:0.405283\n",
      "[143]\ttrain-logloss:0.403354\teval-logloss:0.405268\n",
      "[144]\ttrain-logloss:0.403314\teval-logloss:0.405242\n",
      "[145]\ttrain-logloss:0.403287\teval-logloss:0.405226\n",
      "[146]\ttrain-logloss:0.403249\teval-logloss:0.405199\n",
      "[147]\ttrain-logloss:0.403197\teval-logloss:0.405149\n",
      "[148]\ttrain-logloss:0.403149\teval-logloss:0.405116\n",
      "[149]\ttrain-logloss:0.403115\teval-logloss:0.405096\n",
      "[150]\ttrain-logloss:0.403056\teval-logloss:0.405058\n",
      "[151]\ttrain-logloss:0.402992\teval-logloss:0.405012\n",
      "[152]\ttrain-logloss:0.402972\teval-logloss:0.404998\n",
      "[153]\ttrain-logloss:0.402866\teval-logloss:0.404901\n",
      "[154]\ttrain-logloss:0.402824\teval-logloss:0.404875\n",
      "[155]\ttrain-logloss:0.402803\teval-logloss:0.404865\n",
      "[156]\ttrain-logloss:0.402765\teval-logloss:0.404857\n",
      "[157]\ttrain-logloss:0.402714\teval-logloss:0.40481\n",
      "[158]\ttrain-logloss:0.402698\teval-logloss:0.404801\n",
      "[159]\ttrain-logloss:0.402605\teval-logloss:0.404724\n",
      "[160]\ttrain-logloss:0.402568\teval-logloss:0.404705\n",
      "[161]\ttrain-logloss:0.402479\teval-logloss:0.404626\n",
      "[162]\ttrain-logloss:0.402452\teval-logloss:0.404612\n",
      "[163]\ttrain-logloss:0.402371\teval-logloss:0.404531\n",
      "[164]\ttrain-logloss:0.402348\teval-logloss:0.404523\n",
      "[165]\ttrain-logloss:0.402321\teval-logloss:0.404514\n",
      "[166]\ttrain-logloss:0.402298\teval-logloss:0.404499\n",
      "[167]\ttrain-logloss:0.402198\teval-logloss:0.404403\n",
      "[168]\ttrain-logloss:0.402084\teval-logloss:0.404294\n",
      "[169]\ttrain-logloss:0.402032\teval-logloss:0.404258\n",
      "[170]\ttrain-logloss:0.401967\teval-logloss:0.404212\n",
      "[171]\ttrain-logloss:0.401951\teval-logloss:0.404203\n",
      "[172]\ttrain-logloss:0.401894\teval-logloss:0.404161\n",
      "[173]\ttrain-logloss:0.401881\teval-logloss:0.404162\n",
      "[174]\ttrain-logloss:0.401866\teval-logloss:0.404163\n",
      "[175]\ttrain-logloss:0.401821\teval-logloss:0.404121\n",
      "[176]\ttrain-logloss:0.401774\teval-logloss:0.404089\n",
      "[177]\ttrain-logloss:0.401737\teval-logloss:0.404059\n",
      "[178]\ttrain-logloss:0.401681\teval-logloss:0.404035\n",
      "[179]\ttrain-logloss:0.401659\teval-logloss:0.40402\n",
      "[180]\ttrain-logloss:0.401642\teval-logloss:0.404011\n",
      "[181]\ttrain-logloss:0.401601\teval-logloss:0.403982\n",
      "[182]\ttrain-logloss:0.401581\teval-logloss:0.403972\n",
      "[183]\ttrain-logloss:0.401524\teval-logloss:0.403921\n",
      "[184]\ttrain-logloss:0.401468\teval-logloss:0.403884\n",
      "[185]\ttrain-logloss:0.401389\teval-logloss:0.403829\n",
      "[186]\ttrain-logloss:0.40137\teval-logloss:0.403823\n",
      "[187]\ttrain-logloss:0.40134\teval-logloss:0.403795\n",
      "[188]\ttrain-logloss:0.401256\teval-logloss:0.403717\n",
      "[189]\ttrain-logloss:0.401238\teval-logloss:0.403715\n",
      "[190]\ttrain-logloss:0.401167\teval-logloss:0.403655\n",
      "[191]\ttrain-logloss:0.401092\teval-logloss:0.403593\n",
      "[192]\ttrain-logloss:0.401065\teval-logloss:0.403577\n",
      "[193]\ttrain-logloss:0.401044\teval-logloss:0.40356\n",
      "[194]\ttrain-logloss:0.40103\teval-logloss:0.403547\n",
      "[195]\ttrain-logloss:0.400988\teval-logloss:0.403519\n",
      "[196]\ttrain-logloss:0.400968\teval-logloss:0.40351\n",
      "[197]\ttrain-logloss:0.400943\teval-logloss:0.403493\n",
      "[198]\ttrain-logloss:0.400916\teval-logloss:0.403481\n",
      "[199]\ttrain-logloss:0.400898\teval-logloss:0.403485\n",
      "[200]\ttrain-logloss:0.40089\teval-logloss:0.403487\n",
      "[201]\ttrain-logloss:0.400869\teval-logloss:0.403476\n",
      "[202]\ttrain-logloss:0.400835\teval-logloss:0.403463\n",
      "[203]\ttrain-logloss:0.400806\teval-logloss:0.40345\n",
      "[204]\ttrain-logloss:0.400749\teval-logloss:0.403402\n",
      "[205]\ttrain-logloss:0.400698\teval-logloss:0.403375\n",
      "[206]\ttrain-logloss:0.400634\teval-logloss:0.403306\n",
      "[207]\ttrain-logloss:0.400551\teval-logloss:0.403229\n",
      "[208]\ttrain-logloss:0.40053\teval-logloss:0.403223\n",
      "[209]\ttrain-logloss:0.400498\teval-logloss:0.403215\n",
      "[210]\ttrain-logloss:0.400428\teval-logloss:0.403155\n",
      "[211]\ttrain-logloss:0.400411\teval-logloss:0.403154\n",
      "[212]\ttrain-logloss:0.400379\teval-logloss:0.403135\n",
      "[213]\ttrain-logloss:0.400279\teval-logloss:0.403036\n",
      "[214]\ttrain-logloss:0.40022\teval-logloss:0.402989\n",
      "[215]\ttrain-logloss:0.40017\teval-logloss:0.402944\n",
      "[216]\ttrain-logloss:0.400139\teval-logloss:0.402931\n",
      "[217]\ttrain-logloss:0.400104\teval-logloss:0.402912\n",
      "[218]\ttrain-logloss:0.400067\teval-logloss:0.402876\n",
      "[219]\ttrain-logloss:0.400027\teval-logloss:0.402859\n",
      "[220]\ttrain-logloss:0.400008\teval-logloss:0.402854\n",
      "[221]\ttrain-logloss:0.399985\teval-logloss:0.402851\n",
      "[222]\ttrain-logloss:0.399967\teval-logloss:0.402846\n",
      "[223]\ttrain-logloss:0.399944\teval-logloss:0.402842\n",
      "[224]\ttrain-logloss:0.39992\teval-logloss:0.402826\n",
      "[225]\ttrain-logloss:0.399884\teval-logloss:0.4028\n",
      "[226]\ttrain-logloss:0.399873\teval-logloss:0.4028\n",
      "[227]\ttrain-logloss:0.39986\teval-logloss:0.402791\n",
      "[228]\ttrain-logloss:0.399844\teval-logloss:0.402786\n",
      "[229]\ttrain-logloss:0.39983\teval-logloss:0.402786\n",
      "[230]\ttrain-logloss:0.399786\teval-logloss:0.402762\n",
      "[231]\ttrain-logloss:0.399749\teval-logloss:0.40274\n",
      "[232]\ttrain-logloss:0.399734\teval-logloss:0.402739\n",
      "[233]\ttrain-logloss:0.399696\teval-logloss:0.402719\n",
      "[234]\ttrain-logloss:0.399674\teval-logloss:0.40271\n",
      "[235]\ttrain-logloss:0.399665\teval-logloss:0.402707\n",
      "[236]\ttrain-logloss:0.399651\teval-logloss:0.402694\n",
      "[237]\ttrain-logloss:0.399617\teval-logloss:0.402681\n",
      "[238]\ttrain-logloss:0.399587\teval-logloss:0.402664\n",
      "[239]\ttrain-logloss:0.399562\teval-logloss:0.402655\n",
      "[240]\ttrain-logloss:0.399526\teval-logloss:0.402643\n",
      "[241]\ttrain-logloss:0.399456\teval-logloss:0.402589\n",
      "[242]\ttrain-logloss:0.399416\teval-logloss:0.402562\n",
      "[243]\ttrain-logloss:0.399378\teval-logloss:0.40253\n",
      "[244]\ttrain-logloss:0.399364\teval-logloss:0.402517\n",
      "[245]\ttrain-logloss:0.399313\teval-logloss:0.402476\n",
      "[246]\ttrain-logloss:0.399262\teval-logloss:0.402431\n",
      "[247]\ttrain-logloss:0.399246\teval-logloss:0.402431\n",
      "[248]\ttrain-logloss:0.399199\teval-logloss:0.402388\n",
      "[249]\ttrain-logloss:0.39916\teval-logloss:0.402369\n",
      "[250]\ttrain-logloss:0.399098\teval-logloss:0.402319\n",
      "[251]\ttrain-logloss:0.399076\teval-logloss:0.402309\n",
      "[252]\ttrain-logloss:0.399026\teval-logloss:0.402267\n",
      "[253]\ttrain-logloss:0.399012\teval-logloss:0.402261\n",
      "[254]\ttrain-logloss:0.398922\teval-logloss:0.402163\n",
      "[255]\ttrain-logloss:0.398887\teval-logloss:0.402142\n",
      "[256]\ttrain-logloss:0.398867\teval-logloss:0.402143\n",
      "[257]\ttrain-logloss:0.398858\teval-logloss:0.402148\n",
      "[258]\ttrain-logloss:0.398844\teval-logloss:0.402152\n",
      "[259]\ttrain-logloss:0.398809\teval-logloss:0.402133\n"
     ]
    }
   ],
   "source": [
    "features = ['C1', 'banner_pos', 'device_type', 'device_conn_type', 'C14',\n",
    "       'C15', 'C16', 'C17', 'C18', 'C19', 'C20', 'C21', 'hour_of_day',\n",
    "       'site_id_int', 'site_domain_int', 'site_category_int', 'app_id_int',\n",
    "       'app_domain_int', 'app_category_int', 'device_id_int', 'device_ip_int',\n",
    "       'device_model_int', 'day_of_week_int']\n",
    "run_default_test(train, y_target, features, 'click')"
   ]
  },
  {
   "cell_type": "code",
   "execution_count": 90,
   "metadata": {
    "execution": {
     "iopub.execute_input": "2020-12-07T08:25:53.887510Z",
     "iopub.status.busy": "2020-12-07T08:25:53.886729Z",
     "iopub.status.idle": "2020-12-07T08:25:57.432890Z",
     "shell.execute_reply": "2020-12-07T08:25:57.433632Z"
    },
    "papermill": {
     "duration": 3.954369,
     "end_time": "2020-12-07T08:25:57.433821",
     "exception": false,
     "start_time": "2020-12-07T08:25:53.479452",
     "status": "completed"
    },
    "tags": []
   },
   "outputs": [],
   "source": [
    "ans2=gbm.predict(test)"
   ]
  },
  {
   "cell_type": "code",
   "execution_count": 91,
   "metadata": {
    "execution": {
     "iopub.execute_input": "2020-12-07T08:25:58.312985Z",
     "iopub.status.busy": "2020-12-07T08:25:58.312226Z",
     "iopub.status.idle": "2020-12-07T08:25:58.317121Z",
     "shell.execute_reply": "2020-12-07T08:25:58.316452Z"
    },
    "papermill": {
     "duration": 0.449013,
     "end_time": "2020-12-07T08:25:58.317254",
     "exception": false,
     "start_time": "2020-12-07T08:25:57.868241",
     "status": "completed"
    },
    "tags": []
   },
   "outputs": [],
   "source": [
    "test_copy['click']=ans2"
   ]
  },
  {
   "cell_type": "code",
   "execution_count": 92,
   "metadata": {
    "execution": {
     "iopub.execute_input": "2020-12-07T08:25:59.136703Z",
     "iopub.status.busy": "2020-12-07T08:25:59.135881Z",
     "iopub.status.idle": "2020-12-07T08:26:00.066123Z",
     "shell.execute_reply": "2020-12-07T08:26:00.065187Z"
    },
    "papermill": {
     "duration": 1.341807,
     "end_time": "2020-12-07T08:26:00.066264",
     "exception": false,
     "start_time": "2020-12-07T08:25:58.724457",
     "status": "completed"
    },
    "tags": []
   },
   "outputs": [],
   "source": [
    "pd.DataFrame(test_copy, columns=['id','click']).to_csv('XGB_tweak.csv',mode = 'w', index=False)"
   ]
  }
 ],
 "metadata": {
  "kernelspec": {
   "display_name": "Python 3",
   "language": "python",
   "name": "python3"
  },
  "language_info": {
   "codemirror_mode": {
    "name": "ipython",
    "version": 3
   },
   "file_extension": ".py",
   "mimetype": "text/x-python",
   "name": "python",
   "nbconvert_exporter": "python",
   "pygments_lexer": "ipython3",
   "version": "3.7.6"
  },
  "papermill": {
   "duration": 649.162799,
   "end_time": "2020-12-07T08:26:00.689414",
   "environment_variables": {},
   "exception": null,
   "input_path": "__notebook__.ipynb",
   "output_path": "__notebook__.ipynb",
   "parameters": {},
   "start_time": "2020-12-07T08:15:11.526615",
   "version": "2.1.0"
  }
 },
 "nbformat": 4,
 "nbformat_minor": 4
}
